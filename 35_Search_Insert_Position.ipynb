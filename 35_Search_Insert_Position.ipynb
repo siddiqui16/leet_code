{
  "nbformat": 4,
  "nbformat_minor": 0,
  "metadata": {
    "colab": {
      "name": "35. Search Insert Position.ipynb",
      "provenance": [],
      "authorship_tag": "ABX9TyMCAVzWFBc/6RlvL6UcMu2O",
      "include_colab_link": true
    },
    "kernelspec": {
      "name": "python3",
      "display_name": "Python 3"
    },
    "language_info": {
      "name": "python"
    }
  },
  "cells": [
    {
      "cell_type": "markdown",
      "metadata": {
        "id": "view-in-github",
        "colab_type": "text"
      },
      "source": [
        "<a href=\"https://colab.research.google.com/github/siddiqui16/leet_code/blob/colab/35_Search_Insert_Position.ipynb\" target=\"_parent\"><img src=\"https://colab.research.google.com/assets/colab-badge.svg\" alt=\"Open In Colab\"/></a>"
      ]
    },
    {
      "cell_type": "markdown",
      "source": [
        "[https://leetcode.com/problems/search-insert-position/]"
      ],
      "metadata": {
        "id": "E_EkXMpgOlX3"
      }
    },
    {
      "cell_type": "code",
      "execution_count": null,
      "metadata": {
        "id": "BZxOfFp8Oh37"
      },
      "outputs": [],
      "source": [
        "class Solution(object):\n",
        "    def searchInsert(self, nums, target):\n",
        "        \"\"\"\n",
        "        :type nums: List[int]\n",
        "        :type target: int\n",
        "        :rtype: int\n",
        "        \"\"\"\n",
        "        i = 0\n",
        "        j = len(nums) - 1\n",
        "\n",
        "        if target < nums[i]:\n",
        "          return i\n",
        "        if target > nums[-1]:\n",
        "          return j + 1\n",
        "\n",
        "        while i+1<j:\n",
        "          k = (i+j)//2\n",
        "\n",
        "          if target < nums[k]:\n",
        "            j = k\n",
        "          else:\n",
        "            i = k\n",
        "        if target <= nums[i]:\n",
        "          return i\n",
        "        else:\n",
        "          return j\n",
        "\n"
      ]
    }
  ]
}