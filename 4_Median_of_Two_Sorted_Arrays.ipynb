{
  "nbformat": 4,
  "nbformat_minor": 0,
  "metadata": {
    "colab": {
      "name": "4. Median of Two Sorted Arrays.ipynb",
      "provenance": [],
      "authorship_tag": "ABX9TyMVmCd1CKNWKqXUE1G2DUZ0",
      "include_colab_link": true
    },
    "kernelspec": {
      "name": "python3",
      "display_name": "Python 3"
    },
    "language_info": {
      "name": "python"
    }
  },
  "cells": [
    {
      "cell_type": "markdown",
      "metadata": {
        "id": "view-in-github",
        "colab_type": "text"
      },
      "source": [
        "<a href=\"https://colab.research.google.com/github/siddiqui16/leet_code/blob/colab/4_Median_of_Two_Sorted_Arrays.ipynb\" target=\"_parent\"><img src=\"https://colab.research.google.com/assets/colab-badge.svg\" alt=\"Open In Colab\"/></a>"
      ]
    },
    {
      "cell_type": "markdown",
      "source": [
        "[https://leetcode.com/problems/median-of-two-sorted-arrays/]"
      ],
      "metadata": {
        "id": "JNVPp8Ggg8NH"
      }
    },
    {
      "cell_type": "code",
      "execution_count": 3,
      "metadata": {
        "colab": {
          "base_uri": "https://localhost:8080/"
        },
        "id": "h8PfxtgKg7b3",
        "outputId": "975a332a-6b7f-4493-f691-4908e941ff34"
      },
      "outputs": [
        {
          "output_type": "stream",
          "name": "stdout",
          "text": [
            "2 2\n",
            "2.5 2.5\n"
          ]
        }
      ],
      "source": [
        "class Solution(object):\n",
        "    def findMedianSortedArrays(self, nums1, nums2):\n",
        "        \"\"\"\n",
        "        :type nums1: List[int]\n",
        "        :type nums2: List[int]\n",
        "        :rtype: float\n",
        "        \"\"\"\n",
        "        n1 = len(nums1)\n",
        "        n2 = len(nums2)\n",
        "        N = n1 + n2\n",
        "        \n",
        "        nums = []\n",
        "        \n",
        "        i1 = i2 = 0\n",
        "        while i1 < n1 and i2<n2:\n",
        "            if nums1[i1] <= nums2[i2]:\n",
        "                nums.append(nums1[i1])\n",
        "                i1 += 1\n",
        "            else:\n",
        "                nums.append(nums2[i2])\n",
        "                i2 += 1\n",
        "                \n",
        "        while i1<n1:\n",
        "            nums.append(nums1[i1])\n",
        "            i1 += 1\n",
        "\n",
        "        while i2<n2:\n",
        "            nums.append(nums2[i2])\n",
        "            i2 += 1\n",
        "            \n",
        "        if N%2 == 1:\n",
        "            m = N//2\n",
        "            return nums[m]\n",
        "        else:\n",
        "            m1,m2 = N//2, N//2 - 1\n",
        "            #print(m1,m2, nums)\n",
        "            return (nums[m1] + nums[m2])/2.0\n",
        "\n",
        "inputs = [\n",
        "  ([1,3], [2], 2),\n",
        "  ([1,3], [2,4], 2.5)\n",
        "]            \n",
        "\n",
        "s = Solution()\n",
        "for i1,i2,o in inputs:\n",
        "  print(s.findMedianSortedArrays(i1, i2), o)"
      ]
    }
  ]
}