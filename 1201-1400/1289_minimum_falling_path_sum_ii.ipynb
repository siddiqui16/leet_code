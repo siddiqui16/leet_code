{
 "cells": [
  {
   "cell_type": "markdown",
   "metadata": {},
   "source": [
    "https://leetcode.com/problems/minimum-falling-path-sum-ii/"
   ]
  },
  {
   "cell_type": "code",
   "execution_count": 15,
   "metadata": {},
   "outputs": [
    {
     "name": "stdout",
     "output_type": "stream",
     "text": [
      "  1    2    3\n",
      "  4    5    6\n",
      "  7    8    9\n",
      "----------------------------------------\n",
      "  1    2    3\n",
      "  6    6    7\n",
      " 13   14   15\n",
      "                                         13 13 [[1, 2, 3], [4, 5, 6], [7, 8, 9]]\n",
      "  7\n",
      "----------------------------------------\n",
      "  7\n",
      "                                         7 7 [[7]]\n",
      "-73   61   43  -48  -36\n",
      "  3   30   27   57   10\n",
      " 96  -76   84   59  -15\n",
      "  5  -49   76   31   -7\n",
      " 97   91   61  -46   67\n",
      "----------------------------------------\n",
      "-73   61   43  -48  -36\n",
      "-45  -43  -46  -16  -63\n",
      " 33  -139   21   -4  -61\n",
      "-134  -110  -63  -108  -146\n",
      "-49  -55  -85  -192  -67\n",
      "                                         -192 -192 [[-73, 61, 43, -48, -36], [3, 30, 27, 57, 10], [96, -76, 84, 59, -15], [5, -49, 76, 31, -7], [97, 91, 61, -46, 67]]\n"
     ]
    }
   ],
   "source": [
    "class Solution:\n",
    "    def minFallingPathSum(self, m):\n",
    "        n = len(m)\n",
    "        dp = [[0 for i in range(n)] for _ in range(n)]\n",
    "        dp[0] = m[0]\n",
    "        \n",
    "        for i in range(1,n):\n",
    "            for j in range(n):\n",
    "                dps = []\n",
    "                for t in range(n):\n",
    "                    if t!=j:\n",
    "                        dps.append(dp[i-1][t])\n",
    "                dp[i][j] = min(dps) + m[i][j]\n",
    "        if True:\n",
    "            for i in range(n):\n",
    "                print(\"  \".join([\"%3s\"%t for t in m[i]]))\n",
    "            print(\"-\"*40)\n",
    "            for i in range(n):\n",
    "                print(\"  \".join([\"%3s\"%t for t in dp[i]]))\n",
    "        return min(dp[-1])\n",
    "                \n",
    "        \n",
    "    \n",
    "    \n",
    "cases = [\n",
    "    ([[1,2,3],[4,5,6],[7,8,9]], 13),\n",
    "    ([[7]], 7),\n",
    "    ([[-73,61,43,-48,-36],[3,30,27,57,10],[96,-76,84,59,-15],[5,-49,76,31,-7],[97,91,61,-46,67]], -192)\n",
    "]\n",
    "     \n",
    "s = Solution()\n",
    "for i,r in cases:\n",
    "    print(\" \"*40,s.minFallingPathSum(i),r, i)"
   ]
  },
  {
   "cell_type": "code",
   "execution_count": null,
   "metadata": {},
   "outputs": [],
   "source": []
  }
 ],
 "metadata": {
  "kernelspec": {
   "display_name": "Python 3",
   "language": "python",
   "name": "python3"
  },
  "language_info": {
   "codemirror_mode": {
    "name": "ipython",
    "version": 3
   },
   "file_extension": ".py",
   "mimetype": "text/x-python",
   "name": "python",
   "nbconvert_exporter": "python",
   "pygments_lexer": "ipython3",
   "version": "3.7.3"
  }
 },
 "nbformat": 4,
 "nbformat_minor": 2
}
