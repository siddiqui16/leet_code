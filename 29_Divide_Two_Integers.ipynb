{
  "nbformat": 4,
  "nbformat_minor": 0,
  "metadata": {
    "colab": {
      "name": "29. Divide Two Integers.ipynb",
      "provenance": [],
      "authorship_tag": "ABX9TyPqxDUTVXH7aw+v+JKBdUfQ",
      "include_colab_link": true
    },
    "kernelspec": {
      "name": "python3",
      "display_name": "Python 3"
    },
    "language_info": {
      "name": "python"
    }
  },
  "cells": [
    {
      "cell_type": "markdown",
      "metadata": {
        "id": "view-in-github",
        "colab_type": "text"
      },
      "source": [
        "<a href=\"https://colab.research.google.com/github/siddiqui16/leet_code/blob/colab/29_Divide_Two_Integers.ipynb\" target=\"_parent\"><img src=\"https://colab.research.google.com/assets/colab-badge.svg\" alt=\"Open In Colab\"/></a>"
      ]
    },
    {
      "cell_type": "markdown",
      "source": [
        "[https://leetcode.com/problems/divide-two-integers/]"
      ],
      "metadata": {
        "id": "CpA1puB3XK2i"
      }
    },
    {
      "cell_type": "code",
      "execution_count": null,
      "metadata": {
        "id": "rqWQ7ohvW_By"
      },
      "outputs": [],
      "source": [
        "class Solution:\n",
        "    def divide(self, dividend: int, divisor: int) -> int:\n",
        "        if dividend == -2147483648 and divisor == -1:\n",
        "            return 2147483647;\n",
        "\n",
        "        f_neg = -1\n",
        "        if (dividend<0 and divisor<0) or (dividend>0 and divisor>0):\n",
        "            f_neg = 1\n",
        "            \n",
        "        num, d = abs(dividend), abs(divisor)\n",
        "        \n",
        "        ans = 0\n",
        "        while num>=d:\n",
        "            d_ = d\n",
        "            ans_ = 1\n",
        "            while num>d_+d_:\n",
        "                d_+=d_\n",
        "                ans_+= ans_\n",
        "            ans+=ans_\n",
        "            num-=d_\n",
        "        return ans*f_neg"
      ]
    }
  ]
}