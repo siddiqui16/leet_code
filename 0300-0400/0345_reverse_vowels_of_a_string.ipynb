{
 "cells": [
  {
   "cell_type": "markdown",
   "metadata": {},
   "source": [
    "https://leetcode.com/problems/reverse-vowels-of-a-string/"
   ]
  },
  {
   "cell_type": "code",
   "execution_count": 17,
   "metadata": {},
   "outputs": [
    {
     "data": {
      "text/plain": [
       "'hOlle'"
      ]
     },
     "execution_count": 17,
     "metadata": {},
     "output_type": "execute_result"
    }
   ],
   "source": [
    "class Solution:\n",
    "    def reverseVowels(self, s):\n",
    "        i = 0\n",
    "        j = len(s) - 1\n",
    "        \n",
    "        if j==0:\n",
    "            return s\n",
    "        \n",
    "        s_ = [f\"{i}\" for i in s]\n",
    "        \n",
    "        v = ['a', 'e', 'i', 'o', 'u', 'A', 'E', 'I', 'O', 'U']\n",
    "        while i<j:\n",
    "            while s[i] not in v and i<j:\n",
    "                s_[i]=s[i]\n",
    "                i+=1\n",
    "            while s[j] not in v and i<j:\n",
    "                s_[j]=s[j]\n",
    "                j-=1\n",
    "            s_[i]=s[j]\n",
    "            s_[j]=s[i]\n",
    "            i+=1\n",
    "            j-=1\n",
    "        return ''.join(s_)\n",
    "\n",
    "s = Solution()\n",
    "s.reverseVowels(\"hellO\")"
   ]
  }
 ],
 "metadata": {
  "kernelspec": {
   "display_name": "Python 3",
   "language": "python",
   "name": "python3"
  },
  "language_info": {
   "codemirror_mode": {
    "name": "ipython",
    "version": 3
   },
   "file_extension": ".py",
   "mimetype": "text/x-python",
   "name": "python",
   "nbconvert_exporter": "python",
   "pygments_lexer": "ipython3",
   "version": "3.7.3"
  }
 },
 "nbformat": 4,
 "nbformat_minor": 2
}
