{
 "cells": [
  {
   "cell_type": "code",
   "execution_count": 13,
   "metadata": {},
   "outputs": [
    {
     "name": "stdout",
     "output_type": "stream",
     "text": [
      "1:0 [1, 2, 3, 0, 0, 0]\n",
      "2:0 [1, 2, 3, 0, 0, 0]\n",
      "3:1 [1, 2, 2, 3, 0, 0]\n",
      "4:1 [1, 2, 2, 3, 0, 0]\n",
      "4:1 [1, 2, 2, 3, 5, 6]\n"
     ]
    }
   ],
   "source": [
    "class Solution:\n",
    "    def merge(self, nums1, m, nums2, n):\n",
    "        \"\"\"\n",
    "        Do not return anything, modify nums1 in-place instead.\n",
    "        \"\"\"\n",
    "        \n",
    "        i = 0\n",
    "        j = 0\n",
    "        m_ = m\n",
    "        \n",
    "        while i<m_ and j<n:\n",
    "            if nums1[i] > nums2[j]:\n",
    "                nums1[i:] = [nums2[j]] + nums1[i:-1]\n",
    "                j+=1\n",
    "                m_+=1\n",
    "            i+=1\n",
    "            print(f\"{i}:{j} {nums1}\")\n",
    "        if j<n:\n",
    "            nums1[m_:] = nums2[j:]\n",
    "        print(f\"{i}:{j} {nums1}\")\n",
    "\n",
    "s = Solution()\n",
    "s.merge(nums1 = [1,2,3,0,0,0], m = 3, nums2 = [2,5,6], n = 3)\n",
    "\n",
    "        \n",
    "        \n",
    "            "
   ]
  },
  {
   "cell_type": "code",
   "execution_count": null,
   "metadata": {},
   "outputs": [],
   "source": []
  }
 ],
 "metadata": {
  "kernelspec": {
   "display_name": "Python 3",
   "language": "python",
   "name": "python3"
  },
  "language_info": {
   "codemirror_mode": {
    "name": "ipython",
    "version": 3
   },
   "file_extension": ".py",
   "mimetype": "text/x-python",
   "name": "python",
   "nbconvert_exporter": "python",
   "pygments_lexer": "ipython3",
   "version": "3.7.3"
  }
 },
 "nbformat": 4,
 "nbformat_minor": 2
}
