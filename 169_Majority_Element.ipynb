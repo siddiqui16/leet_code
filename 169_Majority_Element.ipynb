{
  "nbformat": 4,
  "nbformat_minor": 0,
  "metadata": {
    "colab": {
      "name": "169. Majority Element.ipynb",
      "provenance": [],
      "authorship_tag": "ABX9TyMZeO60qGvUpmde946hhXQo",
      "include_colab_link": true
    },
    "kernelspec": {
      "name": "python3",
      "display_name": "Python 3"
    },
    "language_info": {
      "name": "python"
    }
  },
  "cells": [
    {
      "cell_type": "markdown",
      "metadata": {
        "id": "view-in-github",
        "colab_type": "text"
      },
      "source": [
        "<a href=\"https://colab.research.google.com/github/siddiqui16/leet_code/blob/colab/169_Majority_Element.ipynb\" target=\"_parent\"><img src=\"https://colab.research.google.com/assets/colab-badge.svg\" alt=\"Open In Colab\"/></a>"
      ]
    },
    {
      "cell_type": "markdown",
      "source": [
        "[https://leetcode.com/problems/majority-element/]"
      ],
      "metadata": {
        "id": "5zBanCkrUMn8"
      }
    },
    {
      "cell_type": "code",
      "execution_count": null,
      "metadata": {
        "id": "fdKGvFWqULD9"
      },
      "outputs": [],
      "source": [
        "class Solution(object):\n",
        "    def majorityElement(self, nums):\n",
        "        \"\"\"\n",
        "        :type nums: List[int]\n",
        "        :rtype: int\n",
        "        \"\"\"\n",
        "        n = len(nums)\n",
        "        m = dict()\n",
        "\n",
        "\n",
        "        for k in nums:\n",
        "          if k not in m:\n",
        "            m[k] = 0\n",
        "          m[k] += 1\n",
        "        \n",
        "        for k in m:\n",
        "          if m[k] > n//2:\n",
        "            return k\n"
      ]
    }
  ]
}