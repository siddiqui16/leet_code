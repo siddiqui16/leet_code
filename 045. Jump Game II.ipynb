{
 "cells": [
  {
   "cell_type": "code",
   "execution_count": 9,
   "metadata": {},
   "outputs": [
    {
     "name": "stdout",
     "output_type": "stream",
     "text": [
      "--------------------\n",
      " 2 3 1 1 4\n",
      " 2 1 2 1 0\n",
      "--------------------\n",
      " 2 3 0 1 4\n",
      " 2 1 7 1 0\n"
     ]
    },
    {
     "data": {
      "text/plain": [
       "2"
      ]
     },
     "execution_count": 9,
     "metadata": {},
     "output_type": "execute_result"
    }
   ],
   "source": [
    "class Solution:\n",
    "    def jump(self, nums):\n",
    "        n = len(nums)\n",
    "        p = [n+1] * n\n",
    "        j = n-1\n",
    "        \n",
    "        p[j] = 0\n",
    "        \n",
    "        while j>0:\n",
    "            j-=1\n",
    "            p[j] = 1 + min(p[j:j+nums[j]+1])\n",
    "            \n",
    "        print(\"-\"*20)\n",
    "        list_print(nums)\n",
    "        list_print(p)\n",
    "        \n",
    "        return p[j]\n",
    "    \n",
    "s = Solution()\n",
    "s.jump([2,3,1,1,4])\n",
    "s.jump([2,3,0,1,4])"
   ]
  },
  {
   "cell_type": "code",
   "execution_count": 1,
   "metadata": {},
   "outputs": [
    {
     "name": "stdout",
     "output_type": "stream",
     "text": [
      " 0 1 2 3 4 5 6 7 8 9\n"
     ]
    }
   ],
   "source": [
    "x = range(10)\n",
    "def list_print(x, p=2):\n",
    "    print(''.join([f\"{i:{p}}\" for i in x]))\n",
    "list_print(x)"
   ]
  }
 ],
 "metadata": {
  "kernelspec": {
   "display_name": "Python 3",
   "language": "python",
   "name": "python3"
  },
  "language_info": {
   "codemirror_mode": {
    "name": "ipython",
    "version": 3
   },
   "file_extension": ".py",
   "mimetype": "text/x-python",
   "name": "python",
   "nbconvert_exporter": "python",
   "pygments_lexer": "ipython3",
   "version": "3.7.3"
  }
 },
 "nbformat": 4,
 "nbformat_minor": 2
}
