{
  "nbformat": 4,
  "nbformat_minor": 0,
  "metadata": {
    "colab": {
      "name": "876. Middle of the Linked List",
      "provenance": [],
      "authorship_tag": "ABX9TyN7sV6UFKohP/Ds5v2Cjfwr",
      "include_colab_link": true
    },
    "kernelspec": {
      "name": "python3",
      "display_name": "Python 3"
    },
    "language_info": {
      "name": "python"
    }
  },
  "cells": [
    {
      "cell_type": "markdown",
      "metadata": {
        "id": "view-in-github",
        "colab_type": "text"
      },
      "source": [
        "<a href=\"https://colab.research.google.com/github/siddiqui16/leet_code/blob/colab/876_Middle_of_the_Linked_List.ipynb\" target=\"_parent\"><img src=\"https://colab.research.google.com/assets/colab-badge.svg\" alt=\"Open In Colab\"/></a>"
      ]
    },
    {
      "cell_type": "markdown",
      "source": [
        "[https://leetcode.com/problems/middle-of-the-linked-list/]"
      ],
      "metadata": {
        "id": "ozZ7UfMbFh31"
      }
    },
    {
      "cell_type": "code",
      "execution_count": null,
      "metadata": {
        "id": "QGWlrPKwFhKL"
      },
      "outputs": [],
      "source": [
        "# Definition for singly-linked list.\n",
        "# class ListNode:\n",
        "#     def __init__(self, val=0, next=None):\n",
        "#         self.val = val\n",
        "#         self.next = next\n",
        "class Solution:\n",
        "    def middleNode(self, head: Optional[ListNode]) -> Optional[ListNode]:\n",
        "        \n",
        "        curr = head\n",
        "        n = 0\n",
        "        while curr:\n",
        "            curr = curr.next\n",
        "            n += 1\n",
        "            \n",
        "        m = n//2 + 1\n",
        "        \n",
        "        curr, n = head, 0\n",
        "        while curr:\n",
        "            n += 1\n",
        "            if n == m:\n",
        "                return curr\n",
        "            curr = curr.next\n",
        "            \n",
        "        return None\n"
      ]
    }
  ]
}