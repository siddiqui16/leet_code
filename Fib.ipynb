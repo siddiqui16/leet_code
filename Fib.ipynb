{
  "cells": [
    {
      "cell_type": "markdown",
      "metadata": {
        "id": "view-in-github",
        "colab_type": "text"
      },
      "source": [
        "<a href=\"https://colab.research.google.com/github/siddiqui16/leet_code/blob/colab/Fib.ipynb\" target=\"_parent\"><img src=\"https://colab.research.google.com/assets/colab-badge.svg\" alt=\"Open In Colab\"/></a>"
      ]
    },
    {
      "cell_type": "code",
      "execution_count": 1,
      "metadata": {
        "id": "hzVBT_8jVNIM",
        "outputId": "bace78de-8576-48d0-86c9-4ae14dbd0344",
        "colab": {
          "base_uri": "https://localhost:8080/"
        }
      },
      "outputs": [
        {
          "output_type": "stream",
          "name": "stdout",
          "text": [
            "[0, 1, 1, -1, -1, -1, -1, -1, -1, -1, -1, -1, -1, -1, -1, -1, -1, -1, -1, -1]\n",
            "[0, 1, 1, 2, -1, -1, -1, -1, -1, -1, -1, -1, -1, -1, -1, -1, -1, -1, -1, -1]\n",
            "[0, 1, 1, 2, 3, -1, -1, -1, -1, -1, -1, -1, -1, -1, -1, -1, -1, -1, -1, -1]\n",
            "[0, 1, 1, 2, 3, 5, -1, -1, -1, -1, -1, -1, -1, -1, -1, -1, -1, -1, -1, -1]\n",
            "[0, 1, 1, 2, 3, 5, 8, -1, -1, -1, -1, -1, -1, -1, -1, -1, -1, -1, -1, -1]\n",
            "[0, 1, 1, 2, 3, 5, 8, 13, -1, -1, -1, -1, -1, -1, -1, -1, -1, -1, -1, -1]\n",
            "[0, 1, 1, 2, 3, 5, 8, 13, 21, -1, -1, -1, -1, -1, -1, -1, -1, -1, -1, -1]\n",
            "[0, 1, 1, 2, 3, 5, 8, 13, 21, 34, -1, -1, -1, -1, -1, -1, -1, -1, -1, -1]\n",
            "[0, 1, 1, 2, 3, 5, 8, 13, 21, 34, 55, -1, -1, -1, -1, -1, -1, -1, -1, -1]\n",
            "[0, 1, 1, 2, 3, 5, 8, 13, 21, 34, 55, 89, -1, -1, -1, -1, -1, -1, -1, -1]\n",
            "[0, 1, 1, 2, 3, 5, 8, 13, 21, 34, 55, 89, 144, -1, -1, -1, -1, -1, -1, -1]\n",
            "[0, 1, 1, 2, 3, 5, 8, 13, 21, 34, 55, 89, 144, 233, -1, -1, -1, -1, -1, -1]\n",
            "[0, 1, 1, 2, 3, 5, 8, 13, 21, 34, 55, 89, 144, 233, 377, -1, -1, -1, -1, -1]\n",
            "[0, 1, 1, 2, 3, 5, 8, 13, 21, 34, 55, 89, 144, 233, 377, 610, -1, -1, -1, -1]\n",
            "[0, 1, 1, 2, 3, 5, 8, 13, 21, 34, 55, 89, 144, 233, 377, 610, 987, -1, -1, -1]\n",
            "[0, 1, 1, 2, 3, 5, 8, 13, 21, 34, 55, 89, 144, 233, 377, 610, 987, 1597, -1, -1]\n",
            "[0, 1, 1, 2, 3, 5, 8, 13, 21, 34, 55, 89, 144, 233, 377, 610, 987, 1597, 2584, -1]\n",
            "[0, 1, 1, 2, 3, 5, 8, 13, 21, 34, 55, 89, 144, 233, 377, 610, 987, 1597, 2584, 4181]\n"
          ]
        },
        {
          "output_type": "execute_result",
          "data": {
            "text/plain": [
              "4181"
            ]
          },
          "metadata": {},
          "execution_count": 1
        }
      ],
      "source": [
        "class Solution(object):\n",
        "    \n",
        "    def fib(self, n):\n",
        "        f = [-1] * (n + 1)\n",
        "        f[0] = 0\n",
        "        f[1] = 1\n",
        "        \"\"\"\n",
        "        :type n: int\n",
        "        :rtype: int\n",
        "        \"\"\"\n",
        "        for i in range(2,n+1):\n",
        "            f[i] = f[i-1]+f[i-2] \n",
        "            print(f)\n",
        "        return f[n]\n",
        "    \n",
        "s = Solution()\n",
        "s.fib(19)"
      ]
    }
  ],
  "metadata": {
    "kernelspec": {
      "display_name": "Python 3",
      "language": "python",
      "name": "python3"
    },
    "language_info": {
      "codemirror_mode": {
        "name": "ipython",
        "version": 3
      },
      "file_extension": ".py",
      "mimetype": "text/x-python",
      "name": "python",
      "nbconvert_exporter": "python",
      "pygments_lexer": "ipython3",
      "version": "3.7.3"
    },
    "colab": {
      "name": "Fib.ipynb",
      "provenance": [],
      "include_colab_link": true
    }
  },
  "nbformat": 4,
  "nbformat_minor": 0
}