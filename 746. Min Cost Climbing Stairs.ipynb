{
 "cells": [
  {
   "cell_type": "code",
   "execution_count": 29,
   "metadata": {},
   "outputs": [
    {
     "data": {
      "text/plain": [
       "2"
      ]
     },
     "execution_count": 29,
     "metadata": {},
     "output_type": "execute_result"
    }
   ],
   "source": [
    "class Solution:\n",
    "    \n",
    "    def minCostClimbingStairs(self, cost, n=-1):\n",
    "        if n<0:\n",
    "            self.p = {}\n",
    "        \n",
    "        if n==len(cost):\n",
    "            return 0\n",
    "        elif n == len(cost) - 1:\n",
    "            return cost[-1]\n",
    "        \n",
    "        curr_cost = 0 if n<0 else cost[n]\n",
    "        \n",
    "        if (n+1) not in self.p: \n",
    "            self.p[(n+1)] = self.minCostClimbingStairs(cost, n+1)\n",
    "        if (n+2) not in self.p: \n",
    "            self.p[(n+2)] = self.minCostClimbingStairs(cost, n+2)\n",
    "        \n",
    "        return min(\n",
    "            curr_cost + self.p[(n+1)],\n",
    "            curr_cost + self.p[(n+2)]\n",
    "        )\n",
    "        \n",
    "        \n",
    "s = Solution()\n",
    "s.minCostClimbingStairs([1,3,1])\n"
   ]
  }
 ],
 "metadata": {
  "kernelspec": {
   "display_name": "Python 3",
   "language": "python",
   "name": "python3"
  },
  "language_info": {
   "codemirror_mode": {
    "name": "ipython",
    "version": 3
   },
   "file_extension": ".py",
   "mimetype": "text/x-python",
   "name": "python",
   "nbconvert_exporter": "python",
   "pygments_lexer": "ipython3",
   "version": "3.7.3"
  }
 },
 "nbformat": 4,
 "nbformat_minor": 2
}
