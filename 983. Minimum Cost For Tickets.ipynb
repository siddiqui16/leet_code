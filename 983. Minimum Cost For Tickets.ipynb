{
 "cells": [
  {
   "cell_type": "markdown",
   "metadata": {},
   "source": [
    "https://leetcode.com/problems/minimum-cost-for-tickets/"
   ]
  },
  {
   "cell_type": "code",
   "execution_count": 14,
   "metadata": {},
   "outputs": [
    {
     "name": "stdout",
     "output_type": "stream",
     "text": [
      "11 11 [1, 4, 6, 7, 8, 20] [2, 7, 15]\n",
      "17 17 [1, 2, 3, 4, 5, 6, 7, 8, 9, 10, 30, 31] [2, 7, 15]\n",
      "8 11 [1, 7, 14, 20] [2, 7, 15]\n"
     ]
    }
   ],
   "source": [
    "class Solution:\n",
    "    def mincostTickets(self, days, costs):\n",
    "        max_day = max(days)\n",
    "        dp = [0]*(max_day+1)\n",
    "        \n",
    "        for i in range(1,max_day+1):\n",
    "            if i in days:\n",
    "                dp[i] = min(\n",
    "                    dp[max(i-1,0)] + costs[0], \n",
    "                    dp[max(i-7,0)] + costs[1],\n",
    "                    dp[max(i-30,0)] + costs[2]\n",
    "                )\n",
    "            else:\n",
    "                dp[i] = dp[i-1]\n",
    "                \n",
    "            #print(dp)\n",
    "        return dp[max_day]\n",
    "        \n",
    "    \n",
    "\n",
    "cases = [\n",
    "    ([1,4,6,7,8,20],[2,7,15],11),\n",
    "    ([1,2,3,4,5,6,7,8,9,10,30,31], [2,7,15], 17),\n",
    "    ([1,7,14,20],[2,7,15],11)\n",
    "]\n",
    "    \n",
    "s = Solution()\n",
    "\n",
    "for i,j,r in cases:\n",
    "    print(s.mincostTickets(i,j), r, i, j)"
   ]
  },
  {
   "cell_type": "code",
   "execution_count": 5,
   "metadata": {},
   "outputs": [
    {
     "data": {
      "text/plain": [
       "364"
      ]
     },
     "execution_count": 5,
     "metadata": {},
     "output_type": "execute_result"
    }
   ],
   "source": [
    "52*7"
   ]
  }
 ],
 "metadata": {
  "kernelspec": {
   "display_name": "Python 3",
   "language": "python",
   "name": "python3"
  },
  "language_info": {
   "codemirror_mode": {
    "name": "ipython",
    "version": 3
   },
   "file_extension": ".py",
   "mimetype": "text/x-python",
   "name": "python",
   "nbconvert_exporter": "python",
   "pygments_lexer": "ipython3",
   "version": "3.7.3"
  }
 },
 "nbformat": 4,
 "nbformat_minor": 2
}
