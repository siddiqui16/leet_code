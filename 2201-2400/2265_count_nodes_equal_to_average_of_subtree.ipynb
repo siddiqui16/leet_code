{
  "nbformat": 4,
  "nbformat_minor": 0,
  "metadata": {
    "colab": {
      "name": "2265. Count Nodes Equal to Average of Subtree.ipynb",
      "provenance": [],
      "authorship_tag": "ABX9TyN0SkNh1rr7bKDzE22XRS7D",
      "include_colab_link": true
    },
    "kernelspec": {
      "name": "python3",
      "display_name": "Python 3"
    },
    "language_info": {
      "name": "python"
    }
  },
  "cells": [
    {
      "cell_type": "markdown",
      "metadata": {
        "id": "view-in-github",
        "colab_type": "text"
      },
      "source": [
        "<a href=\"https://colab.research.google.com/github/siddiqui16/leet_code/blob/colab/2265_Count_Nodes_Equal_to_Average_of_Subtree.ipynb\" target=\"_parent\"><img src=\"https://colab.research.google.com/assets/colab-badge.svg\" alt=\"Open In Colab\"/></a>"
      ]
    },
    {
      "cell_type": "markdown",
      "source": [
        "[https://leetcode.com/problems/count-nodes-equal-to-average-of-subtree/]"
      ],
      "metadata": {
        "id": "-soo0mqm7alX"
      }
    },
    {
      "cell_type": "code",
      "execution_count": null,
      "metadata": {
        "id": "Lk2J1qSD7Z4q"
      },
      "outputs": [],
      "source": [
        "# Definition for a binary tree node.\n",
        "# class TreeNode:\n",
        "#     def __init__(self, val=0, left=None, right=None):\n",
        "#         self.val = val\n",
        "#         self.left = left\n",
        "#         self.right = right\n",
        "class Solution:\n",
        "    def averageOfSubtree(self, root: Optional[TreeNode], d = 1) -> int:\n",
        "        \n",
        "        n = 1\n",
        "        s = root.val\n",
        "        c = 0\n",
        "        if root.left:\n",
        "            ls, ln, lc = self.averageOfSubtree(root.left, d+1)\n",
        "            s+=ls\n",
        "            n+=ln\n",
        "            c+=lc\n",
        "        if root.right:\n",
        "            rs, rn, rc = self.averageOfSubtree(root.right, d+1)\n",
        "            s+=rs\n",
        "            n+=rn\n",
        "            c+=rc\n",
        "        \n",
        "        if root.val == s//n:\n",
        "            c+=1\n",
        "        \n",
        "        if d>1:\n",
        "            return s, n, c\n",
        "        else:\n",
        "            return c\n",
        "        "
      ]
    }
  ]
}