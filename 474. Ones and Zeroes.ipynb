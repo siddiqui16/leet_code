{
 "cells": [
  {
   "cell_type": "markdown",
   "metadata": {},
   "source": [
    "https://leetcode.com/problems/ones-and-zeroes/"
   ]
  },
  {
   "cell_type": "code",
   "execution_count": 23,
   "metadata": {
    "scrolled": false
   },
   "outputs": [
    {
     "name": "stdout",
     "output_type": "stream",
     "text": [
      "4 4 (['10', '0001', '111001', '1', '0'], 5, 3)\n",
      "2 2 (['10', '0', '1'], 1, 1)\n"
     ]
    }
   ],
   "source": [
    "def count_01(strs):\n",
    "    if len(strs) == 0:\n",
    "        return 0,0\n",
    "    total = 0\n",
    "    count0 = 0\n",
    "    for s in strs:\n",
    "        total += len(s)\n",
    "        count0+= len(s.replace(\"1\",\"\"))\n",
    "    return count0, total-count0\n",
    "\n",
    "class Solution:\n",
    "    def findMaxForm(self, strs, m, n):\n",
    "        w\n",
    "        m_, n_ = count_01(strs)\n",
    "        \n",
    "        max_count = 0\n",
    "        if m_<=m and n_<=n:\n",
    "            return len(strs)\n",
    "        else:\n",
    "            for i in range(len(strs)):\n",
    "                max_count = max(\n",
    "                    max_count,\n",
    "                    self.findMaxForm(strs[:i] + strs[i+1:], m,n))\n",
    "            return max_count \n",
    "        return 0\n",
    "\n",
    "        \n",
    "        \n",
    "        \n",
    "    \n",
    "    \n",
    "cases = [\n",
    "    ([\"10\",\"0001\",\"111001\",\"1\",\"0\"], 5, 3, 4),\n",
    "    ([\"10\",\"0\",\"1\"], 1, 1, 2)\n",
    "]\n",
    "    \n",
    "s = Solution()\n",
    "\n",
    "for args in cases:\n",
    "    print(s.findMaxForm(*args[:-1]), args[-1], args[:-1])"
   ]
  },
  {
   "cell_type": "code",
   "execution_count": 33,
   "metadata": {},
   "outputs": [
    {
     "name": "stdout",
     "output_type": "stream",
     "text": [
      "[0, 1, 1, 1]\n",
      "[1, 2, 2, 2]\n",
      "[1, 2, 3, 3]\n",
      "[1, 2, 3, 3]\n",
      "[1, 2, 3, 3]\n",
      "[1, 2, 3, 4]\n",
      "4 4 (['10', '0001', '111001', '1', '0'], 5, 3)\n",
      "[0, 1]\n",
      "[1, 2]\n",
      "2 2 (['10', '0', '1'], 1, 1)\n"
     ]
    }
   ],
   "source": [
    "def count_01(strs):\n",
    "    if len(strs) == 0:\n",
    "        return 0,0\n",
    "    total = 0\n",
    "    count0 = 0\n",
    "    for s in strs:\n",
    "        total += len(s)\n",
    "        count0+= len(s.replace(\"1\",\"\"))\n",
    "    return count0, total-count0\n",
    "\n",
    "class Solution:\n",
    "    def findMaxForm(self, strs, m, n):\n",
    "        dp = [[0 for _ in range(n + 1)] for _ in range(m + 1)]\n",
    "        \n",
    "        for s in strs:\n",
    "            m_, n_ = count_01(s)\n",
    "            for i in range(m,m_-1,-1):\n",
    "                for j in range(n,n_-1,-1):\n",
    "                    dp[i][j] = max(dp[i][j], dp[i-m_][j-n_] + 1)\n",
    "        \n",
    "        for l in dp:\n",
    "            print(l)\n",
    "        return dp[m][n]\n",
    "\n",
    "cases = [\n",
    "    ([\"10\",\"0001\",\"111001\",\"1\",\"0\"], 5, 3, 4),\n",
    "    ([\"10\",\"0\",\"1\"], 1, 1, 2)\n",
    "]\n",
    "    \n",
    "s = Solution()\n",
    "\n",
    "for args in cases:\n",
    "    print(s.findMaxForm(*args[:-1]), args[-1], args[:-1])"
   ]
  },
  {
   "cell_type": "code",
   "execution_count": null,
   "metadata": {},
   "outputs": [],
   "source": []
  }
 ],
 "metadata": {
  "kernelspec": {
   "display_name": "Python 3",
   "language": "python",
   "name": "python3"
  },
  "language_info": {
   "codemirror_mode": {
    "name": "ipython",
    "version": 3
   },
   "file_extension": ".py",
   "mimetype": "text/x-python",
   "name": "python",
   "nbconvert_exporter": "python",
   "pygments_lexer": "ipython3",
   "version": "3.7.3"
  }
 },
 "nbformat": 4,
 "nbformat_minor": 2
}
