{
  "nbformat": 4,
  "nbformat_minor": 0,
  "metadata": {
    "colab": {
      "name": "1523. Count Odd Numbers in an Interval Range.ipynb",
      "provenance": [],
      "authorship_tag": "ABX9TyOv/gEVnP2hoeOHEdqH/eGt",
      "include_colab_link": true
    },
    "kernelspec": {
      "name": "python3",
      "display_name": "Python 3"
    },
    "language_info": {
      "name": "python"
    }
  },
  "cells": [
    {
      "cell_type": "markdown",
      "metadata": {
        "id": "view-in-github",
        "colab_type": "text"
      },
      "source": [
        "<a href=\"https://colab.research.google.com/github/siddiqui16/leet_code/blob/colab/1523_Count_Odd_Numbers_in_an_Interval_Range.ipynb\" target=\"_parent\"><img src=\"https://colab.research.google.com/assets/colab-badge.svg\" alt=\"Open In Colab\"/></a>"
      ]
    },
    {
      "cell_type": "markdown",
      "source": [
        "[https://leetcode.com/problems/count-odd-numbers-in-an-interval-range/]"
      ],
      "metadata": {
        "id": "wXT6ZlapuCMj"
      }
    },
    {
      "cell_type": "code",
      "execution_count": 18,
      "metadata": {
        "colab": {
          "base_uri": "https://localhost:8080/"
        },
        "id": "ZjCguLUKt_WP",
        "outputId": "e7ac0907-ce50-4427-f4df-49291f753c6a"
      },
      "outputs": [
        {
          "output_type": "stream",
          "name": "stdout",
          "text": [
            "8 10 1\n",
            "8 11 2\n",
            "3 7 3\n",
            "3 6 2\n",
            "3 4 1\n",
            "4 5 1\n"
          ]
        },
        {
          "output_type": "execute_result",
          "data": {
            "text/plain": [
              "1"
            ]
          },
          "metadata": {},
          "execution_count": 18
        }
      ],
      "source": [
        "class Solution(object):\n",
        "    def countOdds(self, low, high):\n",
        "        \"\"\"\n",
        "        :type low: int\n",
        "        :type high: int\n",
        "        :rtype: int\n",
        "        \"\"\"\n",
        "        d = high - low\n",
        "        n = d//2\n",
        "        if low%2 == 1 or high%2==1:\n",
        "          n += 1\n",
        "        print(low, high, n)\n",
        "        return n\n",
        "        \n",
        "\n",
        "s = Solution()\n",
        "s.countOdds(8,10)\n",
        "s.countOdds(8,11)\n",
        "s.countOdds(3,7)\n",
        "s.countOdds(3,6)\n",
        "s.countOdds(3,4)\n",
        "s.countOdds(4,5)"
      ]
    }
  ]
}