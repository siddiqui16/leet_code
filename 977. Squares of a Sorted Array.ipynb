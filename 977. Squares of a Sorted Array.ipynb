{
 "cells": [
  {
   "cell_type": "code",
   "execution_count": 28,
   "metadata": {},
   "outputs": [
    {
     "name": "stdout",
     "output_type": "stream",
     "text": [
      "1\n",
      "1\n"
     ]
    },
    {
     "data": {
      "text/plain": [
       "[1, 4]"
      ]
     },
     "execution_count": 28,
     "metadata": {},
     "output_type": "execute_result"
    }
   ],
   "source": [
    "class Solution:\n",
    "    def findZero(self, nums):\n",
    "        n = len(nums)\n",
    "        \n",
    "        i = 0\n",
    "        j = n-1\n",
    "        \n",
    "        if nums[i] >= 0:\n",
    "            return i\n",
    "        if nums[j] <= 0:\n",
    "            return j\n",
    "        \n",
    "        while i<j:\n",
    "            if j-i == 1:\n",
    "                if nums[i]>0:\n",
    "                    return i\n",
    "                else:\n",
    "                    return j\n",
    "            \n",
    "            x = int((j+i)/2)\n",
    "            if nums[x] == 0:\n",
    "                return x\n",
    "            elif nums[x] > 0:\n",
    "                j = x\n",
    "            else:\n",
    "                i = x\n",
    "        \n",
    "        \n",
    "        \n",
    "    def sortedSquares(self, nums):\n",
    "        if len(nums) == 0:\n",
    "            return []\n",
    "        elif len(nums) == 1:\n",
    "            return [nums[0]*nums[0]]\n",
    "\n",
    "        x = self.findZero(nums)\n",
    "        print(x)\n",
    "        n1 = [i*-1 for i in nums[:x]]\n",
    "        n1.reverse()\n",
    "        n2 = nums[x:]\n",
    "        \n",
    "        i=0\n",
    "        j=0\n",
    "        m_=len(n1) \n",
    "        \n",
    "        while i<m_ and len(n2)>0:\n",
    "            if n2[0]<n1[i]:\n",
    "                n1 = n1[:i] + [n2[j]] + n1[i:]\n",
    "                m_+=1\n",
    "                n2 = n2[1:]\n",
    "            i+=1\n",
    "            \n",
    "        if len(n2)>0:\n",
    "            n1 = n1 + n2\n",
    "        \n",
    "        sq = [ i*i for i in n1]\n",
    "        return sq\n",
    "        \n",
    "        \n",
    "s = Solution()\n",
    "s.sortedSquares([-6,0,2,5,9])\n",
    "s.sortedSquares([-2, -1])"
   ]
  },
  {
   "cell_type": "code",
   "execution_count": null,
   "metadata": {},
   "outputs": [],
   "source": [
    "# can be improved using lef and right pointer"
   ]
  },
  {
   "cell_type": "code",
   "execution_count": 33,
   "metadata": {},
   "outputs": [
    {
     "data": {
      "text/plain": [
       "[0, 4, 25, 36, 81]"
      ]
     },
     "execution_count": 33,
     "metadata": {},
     "output_type": "execute_result"
    }
   ],
   "source": [
    "class Solution:\n",
    "    def sortedSquares(self, nums):\n",
    "        sq = []\n",
    "        \n",
    "        i = 0\n",
    "        j = len(nums) - 1\n",
    "        \n",
    "        x = nums[i]**2\n",
    "        y = nums[j]**2\n",
    "        \n",
    "        while i<j:\n",
    "            if x > y:\n",
    "                sq.append(x)\n",
    "                i+=1\n",
    "                x = nums[i]**2\n",
    "            else:\n",
    "                sq.append(y)\n",
    "                j-=1\n",
    "                y = nums[j]**2\n",
    "        sq.append(x)\n",
    "        sq.reverse()\n",
    "        \n",
    "        return sq\n",
    "        \n",
    "        \n",
    "s = Solution()\n",
    "s.sortedSquares([-6,0,2,5,9])\n",
    "#s.sortedSquares([-2, -1])"
   ]
  }
 ],
 "metadata": {
  "kernelspec": {
   "display_name": "Python 3",
   "language": "python",
   "name": "python3"
  },
  "language_info": {
   "codemirror_mode": {
    "name": "ipython",
    "version": 3
   },
   "file_extension": ".py",
   "mimetype": "text/x-python",
   "name": "python",
   "nbconvert_exporter": "python",
   "pygments_lexer": "ipython3",
   "version": "3.7.3"
  }
 },
 "nbformat": 4,
 "nbformat_minor": 2
}
