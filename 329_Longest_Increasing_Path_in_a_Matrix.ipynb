{
  "nbformat": 4,
  "nbformat_minor": 0,
  "metadata": {
    "colab": {
      "name": "329. Longest Increasing Path in a Matrix.ipynb",
      "provenance": [],
      "authorship_tag": "ABX9TyOdNWnVGEmFd0Xj0wWAyrpj",
      "include_colab_link": true
    },
    "kernelspec": {
      "name": "python3",
      "display_name": "Python 3"
    },
    "language_info": {
      "name": "python"
    }
  },
  "cells": [
    {
      "cell_type": "markdown",
      "metadata": {
        "id": "view-in-github",
        "colab_type": "text"
      },
      "source": [
        "<a href=\"https://colab.research.google.com/github/siddiqui16/leet_code/blob/colab/329_Longest_Increasing_Path_in_a_Matrix.ipynb\" target=\"_parent\"><img src=\"https://colab.research.google.com/assets/colab-badge.svg\" alt=\"Open In Colab\"/></a>"
      ]
    },
    {
      "cell_type": "markdown",
      "source": [
        "[https://leetcode.com/problems/longest-increasing-path-in-a-matrix/]"
      ],
      "metadata": {
        "id": "sdtprFxG_zRX"
      }
    },
    {
      "cell_type": "code",
      "source": [
        "class Solution(object):\n",
        "    def longestIncreasingPath(self, matrix):\n",
        "        n = len(matrix)\n",
        "        m = len(matrix[0])\n",
        "        \n",
        "        max_path = 0\n",
        "        cnt = 0\n",
        "        paths = {} \n",
        "        \n",
        "        for i in range(n):\n",
        "            for j in range(m):\n",
        "                max_path_cell = 0\n",
        "                seed = [(i,j,1)]\n",
        "                visited = set()\n",
        "                \n",
        "                while seed:\n",
        "                    cnt += 1\n",
        "                    x,y,l = seed.pop()\n",
        "                    max_path_cell = max(max_path_cell, l)\n",
        "                    \n",
        "                    for p,q in [(0,1), (0,-1), (1,0), (-1,0)]:\n",
        "                        x_, y_ = x+p, y+q\n",
        "                        if -1<x_<n and -1<y_<m and (x_,y_) not in visited and matrix[x][y] < matrix[x_][y_]:\n",
        "                            if (x_,y_) not in paths:\n",
        "                                seed.append((x_,y_,l+1))\n",
        "                            else:\n",
        "                                max_path_cell = max(max_path_cell, l + paths[(x_,y_)])\n",
        "                paths[(i,j)] = max_path_cell\n",
        "                max_path = max(max_path, max_path_cell)\n",
        "                print(max_path, paths)\n",
        "        print(f\"steps = {cnt}\")\n",
        "        return max_path\n",
        "s = Solution()\n",
        "s.longestIncreasingPath([[9,9,4],[6,6,8],[2,1,1]])"
      ],
      "metadata": {
        "colab": {
          "base_uri": "https://localhost:8080/"
        },
        "id": "B6eLmCZrClIf",
        "outputId": "38bb4624-9a56-4c3b-c335-ed84f20274a4"
      },
      "execution_count": 9,
      "outputs": [
        {
          "output_type": "stream",
          "name": "stdout",
          "text": [
            "1 {(0, 0): 1}\n",
            "1 {(0, 0): 1, (0, 1): 1}\n",
            "2 {(0, 0): 1, (0, 1): 1, (0, 2): 2}\n",
            "2 {(0, 0): 1, (0, 1): 1, (0, 2): 2, (1, 0): 2}\n",
            "2 {(0, 0): 1, (0, 1): 1, (0, 2): 2, (1, 0): 2, (1, 1): 2}\n",
            "2 {(0, 0): 1, (0, 1): 1, (0, 2): 2, (1, 0): 2, (1, 1): 2, (1, 2): 1}\n",
            "3 {(0, 0): 1, (0, 1): 1, (0, 2): 2, (1, 0): 2, (1, 1): 2, (1, 2): 1, (2, 0): 3}\n",
            "4 {(0, 0): 1, (0, 1): 1, (0, 2): 2, (1, 0): 2, (1, 1): 2, (1, 2): 1, (2, 0): 3, (2, 1): 4}\n",
            "4 {(0, 0): 1, (0, 1): 1, (0, 2): 2, (1, 0): 2, (1, 1): 2, (1, 2): 1, (2, 0): 3, (2, 1): 4, (2, 2): 2}\n",
            "steps = 11\n"
          ]
        },
        {
          "output_type": "execute_result",
          "data": {
            "text/plain": [
              "4"
            ]
          },
          "metadata": {},
          "execution_count": 9
        }
      ]
    },
    {
      "cell_type": "code",
      "execution_count": 12,
      "metadata": {
        "colab": {
          "base_uri": "https://localhost:8080/"
        },
        "id": "OWJwwsFR_x13",
        "outputId": "c1961ba1-fe11-44af-e734-ad4c187d3e94"
      },
      "outputs": [
        {
          "output_type": "stream",
          "name": "stdout",
          "text": [
            "steps = 18\n",
            "steps = 9179\n"
          ]
        },
        {
          "output_type": "execute_result",
          "data": {
            "text/plain": [
              "140"
            ]
          },
          "metadata": {},
          "execution_count": 12
        }
      ],
      "source": [
        "class Solution(object):\n",
        "    def longestIncreasingPath(self, matrix):\n",
        "        n = len(matrix)\n",
        "        m = len(matrix[0])\n",
        "        \n",
        "        max_path = 0\n",
        "        \n",
        "        paths = {} \n",
        "        cnt = 0\n",
        "        \n",
        "        for i in range(n):\n",
        "            for j in range(m):\n",
        "                seed = [(i,j,1)]\n",
        "                visited = set()\n",
        "                \n",
        "                while seed:\n",
        "                    cnt += 1\n",
        "                    x,y,l = seed.pop()\n",
        "                    if (x,y) not in paths or l>paths[(x,y)]:\n",
        "                      paths[(x,y)] = l\n",
        "                      max_path = max(max_path,l)\n",
        "\n",
        "                      for p,q in [(1,0), (-1,0), (0,1), (0,-1)]:\n",
        "                          x_, y_ = x+p, y+q\n",
        "                          if -1<x_<n and -1<y_<m and (x_,y_) not in visited and matrix[x][y] > matrix[x_][y_]:\n",
        "                              seed.append((x_,y_,l+1))\n",
        "        print(f\"steps = {cnt}\")\n",
        "        return max_path\n",
        "                \n",
        "s = Solution()\n",
        "s.longestIncreasingPath([[9,9,4],[6,6,8],[2,1,1]])\n",
        "s.longestIncreasingPath([\n",
        "                         [0,1,2,3,4,5,6,7,8,9],\n",
        "                         [19,18,17,16,15,14,13,12,11,10],\n",
        "                         [20,21,22,23,24,25,26,27,28,29],\n",
        "                         [39,38,37,36,35,34,33,32,31,30],\n",
        "                         [40,41,42,43,44,45,46,47,48,49],\n",
        "                         [59,58,57,56,55,54,53,52,51,50],\n",
        "                         [60,61,62,63,64,65,66,67,68,69],\n",
        "                         [79,78,77,76,75,74,73,72,71,70],\n",
        "                         [80,81,82,83,84,85,86,87,88,89],\n",
        "                         [99,98,97,96,95,94,93,92,91,90],\n",
        "                         [100,101,102,103,104,105,106,107,108,109],\n",
        "                         [119,118,117,116,115,114,113,112,111,110],\n",
        "                         [120,121,122,123,124,125,126,127,128,129],\n",
        "                         [139,138,137,136,135,134,133,132,131,130],\n",
        "                         [0,0,0,0,0,0,0,0,0,0]])"
      ]
    }
  ]
}