{
  "nbformat": 4,
  "nbformat_minor": 0,
  "metadata": {
    "colab": {
      "provenance": [],
      "authorship_tag": "ABX9TyPRhjNZ+3NETOMe4k1gtDsx",
      "include_colab_link": true
    },
    "kernelspec": {
      "name": "python3",
      "display_name": "Python 3"
    },
    "language_info": {
      "name": "python"
    }
  },
  "cells": [
    {
      "cell_type": "markdown",
      "metadata": {
        "id": "view-in-github",
        "colab_type": "text"
      },
      "source": [
        "<a href=\"https://colab.research.google.com/github/siddiqui16/leet_code/blob/colab/203_Remove_Linked_List_Elements.ipynb\" target=\"_parent\"><img src=\"https://colab.research.google.com/assets/colab-badge.svg\" alt=\"Open In Colab\"/></a>"
      ]
    },
    {
      "cell_type": "markdown",
      "source": [
        "[https://leetcode.com/problems/remove-linked-list-elements/description/]"
      ],
      "metadata": {
        "id": "mRTRqvGeauLS"
      }
    },
    {
      "cell_type": "code",
      "execution_count": null,
      "metadata": {
        "id": "FRrpmWLYakMY"
      },
      "outputs": [],
      "source": [
        "# Definition for singly-linked list.\n",
        "# class ListNode:\n",
        "#     def __init__(self, val=0, next=None):\n",
        "#         self.val = val\n",
        "#         self.next = next\n",
        "class Solution:\n",
        "    def removeElements(self, head: Optional[ListNode], val: int) -> Optional[ListNode]:\n",
        "\n",
        "        curr = head\n",
        "        prev = None\n",
        "\n",
        "        while curr:\n",
        "            if curr.val == val:\n",
        "                if prev is not None:\n",
        "                    prev.next = curr.next\n",
        "                else:\n",
        "                    head = curr.next\n",
        "            else:\n",
        "                prev = curr\n",
        "            if curr.next == None:\n",
        "                break\n",
        "            curr = curr.next\n",
        "        return head\n",
        ""
      ]
    }
  ]
}