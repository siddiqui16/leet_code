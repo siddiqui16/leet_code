{
  "nbformat": 4,
  "nbformat_minor": 0,
  "metadata": {
    "colab": {
      "name": "589. N-ary Tree Preorder Traversal.ipynb",
      "provenance": [],
      "authorship_tag": "ABX9TyMPD8ECa4II2JjehObHust/",
      "include_colab_link": true
    },
    "kernelspec": {
      "name": "python3",
      "display_name": "Python 3"
    },
    "language_info": {
      "name": "python"
    }
  },
  "cells": [
    {
      "cell_type": "markdown",
      "metadata": {
        "id": "view-in-github",
        "colab_type": "text"
      },
      "source": [
        "<a href=\"https://colab.research.google.com/github/siddiqui16/leet_code/blob/colab/589_N_ary_Tree_Preorder_Traversal.ipynb\" target=\"_parent\"><img src=\"https://colab.research.google.com/assets/colab-badge.svg\" alt=\"Open In Colab\"/></a>"
      ]
    },
    {
      "cell_type": "markdown",
      "source": [
        "[https://leetcode.com/problems/n-ary-tree-preorder-traversal/]"
      ],
      "metadata": {
        "id": "KjmZUtX1XLrn"
      }
    },
    {
      "cell_type": "code",
      "execution_count": null,
      "metadata": {
        "id": "hxYqecSKV9PQ"
      },
      "outputs": [],
      "source": [
        "\"\"\"\n",
        "# Definition for a Node.\n",
        "class Node:\n",
        "    def __init__(self, val=None, children=None):\n",
        "        self.val = val\n",
        "        self.children = children\n",
        "\"\"\"\n",
        "\n",
        "class Solution:\n",
        "    def preorder(self, root: 'Node') -> List[int]:\n",
        "        r = []\n",
        "        \n",
        "        if not root:\n",
        "            return r\n",
        "        \n",
        "        seed = [root]\n",
        "        \n",
        "        while seed:\n",
        "            node = seed.pop()\n",
        "            r.append(node.val)\n",
        "            \n",
        "            for c in reversed(node.children):\n",
        "                seed.append(c)\n",
        "        return r\n",
        "        "
      ]
    }
  ]
}