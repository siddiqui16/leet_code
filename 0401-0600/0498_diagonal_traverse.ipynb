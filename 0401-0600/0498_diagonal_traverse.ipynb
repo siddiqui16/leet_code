{
  "nbformat": 4,
  "nbformat_minor": 0,
  "metadata": {
    "colab": {
      "name": "498. Diagonal Traverse.ipynb",
      "provenance": [],
      "authorship_tag": "ABX9TyO0Atyhk5xPhaQIFRvLVJfK",
      "include_colab_link": true
    },
    "kernelspec": {
      "name": "python3",
      "display_name": "Python 3"
    },
    "language_info": {
      "name": "python"
    }
  },
  "cells": [
    {
      "cell_type": "markdown",
      "metadata": {
        "id": "view-in-github",
        "colab_type": "text"
      },
      "source": [
        "<a href=\"https://colab.research.google.com/github/siddiqui16/leet_code/blob/colab/498_Diagonal_Traverse.ipynb\" target=\"_parent\"><img src=\"https://colab.research.google.com/assets/colab-badge.svg\" alt=\"Open In Colab\"/></a>"
      ]
    },
    {
      "cell_type": "markdown",
      "source": [
        "[https://leetcode.com/problems/diagonal-traverse]"
      ],
      "metadata": {
        "id": "mM6FjyoLHRe6"
      }
    },
    {
      "cell_type": "code",
      "execution_count": null,
      "metadata": {
        "id": "JRBjkp8-HQI4"
      },
      "outputs": [],
      "source": [
        "class Solution:\n",
        "    def findDiagonalOrder(self, mat):\n",
        "        m = len(mat)\n",
        "        n = len(mat[0])\n",
        "        \n",
        "        result = []\n",
        "        \n",
        "        r,c = 0,0\n",
        "        ne = True\n",
        "        while len(result)<m*n:\n",
        "            result.append(mat[r][c])\n",
        "            #print((r,c),result)\n",
        "            \n",
        "            if ne:\n",
        "                r,r_=r-1,r\n",
        "                c,c_=c+1,c\n",
        "                \n",
        "                if c>=n:\n",
        "                    r = r_ + 1\n",
        "                    c = c_\n",
        "                    ne = False\n",
        "                elif r<0:\n",
        "                    r = r_\n",
        "                    c = c_+ 1\n",
        "                    ne = False\n",
        "            \n",
        "            elif not ne:\n",
        "                r,r_=r+1,r\n",
        "                c,c_=c-1,c\n",
        "                \n",
        "                if r>=m:\n",
        "                    r = r_\n",
        "                    c = c_+ 1\n",
        "                    ne = True\n",
        "                elif c<0:\n",
        "                    r = r_ + 1\n",
        "                    c = c_\n",
        "                    ne = True\n",
        "        return result\n",
        "            \n",
        "            \n",
        "            \n",
        "        "
      ]
    }
  ]
}