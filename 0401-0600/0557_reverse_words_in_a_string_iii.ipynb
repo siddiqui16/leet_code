{
 "cells": [
  {
   "cell_type": "markdown",
   "metadata": {},
   "source": [
    "https://leetcode.com/problems/reverse-words-in-a-string-iii/"
   ]
  },
  {
   "cell_type": "code",
   "execution_count": 7,
   "metadata": {},
   "outputs": [
    {
     "name": "stdout",
     "output_type": "stream",
     "text": [
      "s'teL ekat edoCteeL tsetnoc\n",
      "['s', \"'\", 't', 'e', 'L', ' ', 'e', 'k', 'a', 't', ' ', 'e', 'd', 'o', 'C', 't', 'e', 'e', 'L', ' ', 't', 's', 'e', 't', 'n', 'o', 'c']\n"
     ]
    }
   ],
   "source": [
    "class Solution(object):\n",
    "    def rev(self, s):\n",
    "        i = 0\n",
    "        j = len(s) -1\n",
    "        \n",
    "        while i<j:\n",
    "            t = s[i]\n",
    "            s[i] = s[j]\n",
    "            s[j] = t\n",
    "            i+=1\n",
    "            j-=1\n",
    "        return s\n",
    "    \n",
    "    def reverseWords(self, s):\n",
    "        n = len(s)\n",
    "        if len(s)>1:\n",
    "            \n",
    "            i = 0\n",
    "            j = 0\n",
    "            while i< len(s):\n",
    "                while j<n and s[j] != \" \":\n",
    "                    j+=1\n",
    "                s[i:j] = self.rev(s[i:j])\n",
    "                j = j + 1\n",
    "                i = j\n",
    "        print(''.join(s))\n",
    "\n",
    "s = Solution()\n",
    "x = [c for c in \"Let's take LeetCode contest\"]\n",
    "s.reverseWords(x)\n",
    "print(x)"
   ]
  }
 ],
 "metadata": {
  "kernelspec": {
   "display_name": "Python 3",
   "language": "python",
   "name": "python3"
  },
  "language_info": {
   "codemirror_mode": {
    "name": "ipython",
    "version": 3
   },
   "file_extension": ".py",
   "mimetype": "text/x-python",
   "name": "python",
   "nbconvert_exporter": "python",
   "pygments_lexer": "ipython3",
   "version": "3.7.3"
  }
 },
 "nbformat": 4,
 "nbformat_minor": 2
}
