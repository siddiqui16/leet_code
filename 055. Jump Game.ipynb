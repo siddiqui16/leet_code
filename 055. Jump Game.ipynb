{
 "cells": [
  {
   "cell_type": "code",
   "execution_count": 27,
   "metadata": {},
   "outputs": [
    {
     "name": "stdout",
     "output_type": "stream",
     "text": [
      "----------------------------------------\n",
      "   9   0   1   2   1   1\n",
      "   1   0   1   1   1   1\n",
      "----------------------------------------\n",
      "   2   3   1   1   4\n",
      "   1   1   1   1   1\n",
      "----------------------------------------\n",
      "  10   2   1   0   4   0   0   0   0   0   0   1\n",
      "   0   0   0   0   0   0   0   0   0   0   0   1\n",
      "----------------------------------------\n",
      "   1   2   3   0   1   2   3   2   0   2   3 301  31\n",
      "   1   1   1   0   1   1   1   1   0   1   1   1   1\n"
     ]
    },
    {
     "data": {
      "text/plain": [
       "1"
      ]
     },
     "execution_count": 27,
     "metadata": {},
     "output_type": "execute_result"
    }
   ],
   "source": [
    "class Solution:\n",
    "    def r(self, nums, i=0):\n",
    "        if i>=len(nums):\n",
    "            return True\n",
    "        \n",
    "        p = []\n",
    "        for j in range(1, nums[i]+1):\n",
    "            p.append(self.r(nums,i+j))\n",
    "        \n",
    "        return True if True in p else False\n",
    "    \n",
    "    def dp(self, nums):\n",
    "        n = len(nums)\n",
    "        p = [0] * n\n",
    "        \n",
    "        j = n-1\n",
    "        p[j] = 1\n",
    "        while j > 0:\n",
    "            j-=1\n",
    "            c = p[j:j+nums[j]+1]\n",
    "            p[j] = 0 if len(c) ==0 else max(c)\n",
    "\n",
    "        print(\"-\"*40)\n",
    "        list_print(nums, p=4)\n",
    "        list_print(p, p=4)\n",
    "        \n",
    "        return p[0]\n",
    "        \n",
    "    def canJump(self, nums, i=0):\n",
    "        res = self.dp(nums)\n",
    "        return res\n",
    "\n",
    "\n",
    "\n",
    "s = Solution()\n",
    "s.canJump([9,0,1,2,1,1])\n",
    "s.canJump([2,3,1,1,4])\n",
    "s.canJump([10,2,1,0,4,0,0,0,0,0,0,1])\n",
    "s.canJump([1,2,3,0,1,2,3,2,0,2,3,301,31])"
   ]
  },
  {
   "cell_type": "code",
   "execution_count": 20,
   "metadata": {},
   "outputs": [
    {
     "name": "stdout",
     "output_type": "stream",
     "text": [
      " 0 1 2 3 4 5 6 7 8 9\n"
     ]
    }
   ],
   "source": [
    "x = range(10)\n",
    "def list_print(x, p=2):\n",
    "    print(''.join([f\"{i:{p}}\" for i in x]))\n",
    "list_print(x)"
   ]
  }
 ],
 "metadata": {
  "kernelspec": {
   "display_name": "Python 3",
   "language": "python",
   "name": "python3"
  },
  "language_info": {
   "codemirror_mode": {
    "name": "ipython",
    "version": 3
   },
   "file_extension": ".py",
   "mimetype": "text/x-python",
   "name": "python",
   "nbconvert_exporter": "python",
   "pygments_lexer": "ipython3",
   "version": "3.7.3"
  }
 },
 "nbformat": 4,
 "nbformat_minor": 2
}
