{
 "cells": [
  {
   "cell_type": "markdown",
   "metadata": {},
   "source": [
    "https://leetcode.com/problems/insert-into-a-binary-search-tree/"
   ]
  },
  {
   "cell_type": "code",
   "execution_count": 24,
   "metadata": {},
   "outputs": [
    {
     "name": "stdout",
     "output_type": "stream",
     "text": [
      "4\n",
      "  2\n",
      "    1\n",
      "    3\n",
      "  7\n",
      "4\n",
      "  2\n",
      "    1\n",
      "    3\n",
      "  7\n",
      "    5\n"
     ]
    }
   ],
   "source": [
    "# Definition for a binary tree node.\n",
    "class TreeNode(object):\n",
    "    def __init__(self, val=0, left=None, right=None):\n",
    "        self.val = val\n",
    "        self.left = left\n",
    "        self.right = right\n",
    "    def __str__(self):\n",
    "        res = f\"{self.val}\"\n",
    "        if self.left:\n",
    "            res+= f\"\\n{self.left}\"\n",
    "        if self.right:\n",
    "            res+= f\"\\n{self.right}\"\n",
    "        return res.replace(\"\\n\", \"\\n  \")\n",
    "\n",
    "\n",
    "class Solution(object):\n",
    "    def insertIntoBST(self, root, val):\n",
    "        \"\"\"\n",
    "        :type root: TreeNode\n",
    "        :type val: int\n",
    "        :rtype: TreeNode\n",
    "        \"\"\"\n",
    "        if not root:\n",
    "            root = TreeNode(val)\n",
    "        else:\n",
    "            c = root\n",
    "            found = False\n",
    "\n",
    "            while not found:\n",
    "                    if val > c.val:\n",
    "                        if c.right:\n",
    "                            c = c.right\n",
    "                        else:\n",
    "                            c.right = TreeNode(val)\n",
    "                            found = True\n",
    "                    else:\n",
    "                        if c.left:\n",
    "                            c = c.left\n",
    "                        else:\n",
    "                            c.left = TreeNode(val)\n",
    "                            found = True\n",
    "        return root\n",
    "\n",
    "l = [4,2,7,1,3]\n",
    "r = None\n",
    "s = Solution()\n",
    "for i in l:\n",
    "    r = s.insertIntoBST(r, i)\n",
    "\n",
    "print(r)\n",
    "r = s.insertIntoBST(r, 5)\n",
    "print(r)\n"
   ]
  },
  {
   "cell_type": "code",
   "execution_count": 23,
   "metadata": {},
   "outputs": [
    {
     "name": "stdout",
     "output_type": "stream",
     "text": [
      "4\n",
      "  2\n",
      "    1\n",
      "    3\n",
      "  7\n",
      "    5\n",
      "    20\n",
      "      10\n",
      "        11\n",
      "      90\n",
      "        91\n"
     ]
    }
   ],
   "source": [
    "\n",
    "\n",
    "r = None\n",
    "s = Solution()\n",
    "for i in l:\n",
    "    r = s.insertIntoBST(r, i)\n",
    "\n",
    "print(r)"
   ]
  }
 ],
 "metadata": {
  "kernelspec": {
   "display_name": "Python 3",
   "language": "python",
   "name": "python3"
  },
  "language_info": {
   "codemirror_mode": {
    "name": "ipython",
    "version": 3
   },
   "file_extension": ".py",
   "mimetype": "text/x-python",
   "name": "python",
   "nbconvert_exporter": "python",
   "pygments_lexer": "ipython3",
   "version": "3.7.3"
  }
 },
 "nbformat": 4,
 "nbformat_minor": 2
}
