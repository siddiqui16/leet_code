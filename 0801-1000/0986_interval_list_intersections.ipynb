{
  "nbformat": 4,
  "nbformat_minor": 0,
  "metadata": {
    "colab": {
      "name": "986. Interval List Intersections.ipynb",
      "provenance": [],
      "authorship_tag": "ABX9TyOor6swZENk2HCpHoDBGW63",
      "include_colab_link": true
    },
    "kernelspec": {
      "name": "python3",
      "display_name": "Python 3"
    },
    "language_info": {
      "name": "python"
    }
  },
  "cells": [
    {
      "cell_type": "markdown",
      "metadata": {
        "id": "view-in-github",
        "colab_type": "text"
      },
      "source": [
        "<a href=\"https://colab.research.google.com/github/siddiqui16/leet_code/blob/colab/986_Interval_List_Intersections.ipynb\" target=\"_parent\"><img src=\"https://colab.research.google.com/assets/colab-badge.svg\" alt=\"Open In Colab\"/></a>"
      ]
    },
    {
      "cell_type": "markdown",
      "source": [
        "[https://leetcode.com/problems/interval-list-intersections/]"
      ],
      "metadata": {
        "id": "KNzzDxXL2tEK"
      }
    },
    {
      "cell_type": "code",
      "execution_count": null,
      "metadata": {
        "id": "Rl18zf_f2ozf"
      },
      "outputs": [],
      "source": [
        "class Solution:\n",
        "    def intervalIntersection(self, firstList: List[List[int]], secondList: List[List[int]]) -> List[List[int]]:\n",
        "        m = len(firstList)\n",
        "        n = len(secondList)\n",
        "        i = 0\n",
        "        j = 0\n",
        "        \n",
        "        res = []\n",
        "        \n",
        "        while i<m and j<n:\n",
        "            si, ei = firstList[i]\n",
        "            sj, ej = secondList[j]\n",
        "            \n",
        "            # Overlap\n",
        "            if si<=ej and ei>=sj:\n",
        "                a = [max(si,sj),min(ei,ej)]\n",
        "                res.append(a)\n",
        "                \n",
        "            if ej>ei:\n",
        "                i+=1\n",
        "            else:\n",
        "                j+=1\n",
        "        return res\n",
        "            \n",
        "        "
      ]
    }
  ]
}