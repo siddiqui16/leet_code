{
  "nbformat": 4,
  "nbformat_minor": 0,
  "metadata": {
    "colab": {
      "name": "896. Monotonic Array.ipynb",
      "provenance": [],
      "authorship_tag": "ABX9TyOASYc4RztZmxUk/eV25FGk",
      "include_colab_link": true
    },
    "kernelspec": {
      "name": "python3",
      "display_name": "Python 3"
    },
    "language_info": {
      "name": "python"
    }
  },
  "cells": [
    {
      "cell_type": "markdown",
      "metadata": {
        "id": "view-in-github",
        "colab_type": "text"
      },
      "source": [
        "<a href=\"https://colab.research.google.com/github/siddiqui16/leet_code/blob/colab/896_Monotonic_Array.ipynb\" target=\"_parent\"><img src=\"https://colab.research.google.com/assets/colab-badge.svg\" alt=\"Open In Colab\"/></a>"
      ]
    },
    {
      "cell_type": "markdown",
      "source": [
        "[https://leetcode.com/problems/monotonic-array/]"
      ],
      "metadata": {
        "id": "wVyoF3ui4WQG"
      }
    },
    {
      "cell_type": "code",
      "execution_count": null,
      "metadata": {
        "id": "kXMzfV8K4QpJ"
      },
      "outputs": [],
      "source": [
        "class Solution:\n",
        "    def isMonotonic(self, nums: List[int]) -> bool:\n",
        "        d_ = None\n",
        "        n = len(nums)\n",
        "        \n",
        "        for i in range(1,n):\n",
        "            d = nums[i] - nums[i-1]\n",
        "            \n",
        "            if not d_:\n",
        "                d_ = d\n",
        "            else:\n",
        "                if d_*d<0:\n",
        "                    return False\n",
        "                if d!= 0:\n",
        "                    d_ = d\n",
        "        return True\n",
        "        "
      ]
    }
  ]
}