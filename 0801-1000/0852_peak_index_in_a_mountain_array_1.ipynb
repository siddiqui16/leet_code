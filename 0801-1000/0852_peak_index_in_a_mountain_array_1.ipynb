{
  "nbformat": 4,
  "nbformat_minor": 0,
  "metadata": {
    "colab": {
      "name": "852. Peak Index in a Mountain Array.ipynb",
      "provenance": [],
      "collapsed_sections": [],
      "authorship_tag": "ABX9TyNrY9/0t1egBHf4+k5hn6Ff",
      "include_colab_link": true
    },
    "kernelspec": {
      "name": "python3",
      "display_name": "Python 3"
    },
    "language_info": {
      "name": "python"
    }
  },
  "cells": [
    {
      "cell_type": "markdown",
      "metadata": {
        "id": "view-in-github",
        "colab_type": "text"
      },
      "source": [
        "<a href=\"https://colab.research.google.com/github/siddiqui16/leet_code/blob/colab/852_Peak_Index_in_a_Mountain_Array.ipynb\" target=\"_parent\"><img src=\"https://colab.research.google.com/assets/colab-badge.svg\" alt=\"Open In Colab\"/></a>"
      ]
    },
    {
      "cell_type": "markdown",
      "source": [
        "[https://leetcode.com/problems/peak-index-in-a-mountain-array/]"
      ],
      "metadata": {
        "id": "fgR6paEbKXpe"
      }
    },
    {
      "cell_type": "code",
      "execution_count": null,
      "metadata": {
        "id": "3LCIvUyEKV47"
      },
      "outputs": [],
      "source": [
        "class Solution(object):\n",
        "    def peakIndexInMountainArray(self, arr):\n",
        "        \"\"\"\n",
        "        :type arr: List[int]\n",
        "        :rtype: int\n",
        "        \"\"\"\n",
        "        i_max = 0\n",
        "        \n",
        "        for i,n in enumerate(arr):\n",
        "            if n>arr[i_max]:\n",
        "                i_max = i\n",
        "        return i_max\n",
        "        "
      ]
    },
    {
      "cell_type": "code",
      "source": [
        "class Solution(object):\n",
        "    def peakIndexInMountainArray(self, arr):\n",
        "        \"\"\"\n",
        "        :type arr: List[int]\n",
        "        :rtype: int\n",
        "        \"\"\"\n",
        "        i_max = 0\n",
        "        \n",
        "        for i in range(len(arr)-1):\n",
        "            if arr[i]<arr[i+1]:\n",
        "                pass\n",
        "            else:\n",
        "                return i\n",
        "        return i\n",
        "        "
      ],
      "metadata": {
        "id": "fU6YuGSzlvbf"
      },
      "execution_count": null,
      "outputs": []
    }
  ]
}