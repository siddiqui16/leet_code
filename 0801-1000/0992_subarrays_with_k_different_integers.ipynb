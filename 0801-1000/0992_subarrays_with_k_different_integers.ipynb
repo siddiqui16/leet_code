{
  "nbformat": 4,
  "nbformat_minor": 0,
  "metadata": {
    "colab": {
      "name": "992. Subarrays with K Different Integers.ipynb",
      "provenance": [],
      "authorship_tag": "ABX9TyOme10/zsqsk0YnR5OkzZPJ",
      "include_colab_link": true
    },
    "kernelspec": {
      "name": "python3",
      "display_name": "Python 3"
    },
    "language_info": {
      "name": "python"
    }
  },
  "cells": [
    {
      "cell_type": "markdown",
      "metadata": {
        "id": "view-in-github",
        "colab_type": "text"
      },
      "source": [
        "<a href=\"https://colab.research.google.com/github/siddiqui16/leet_code/blob/colab/992_Subarrays_with_K_Different_Integers.ipynb\" target=\"_parent\"><img src=\"https://colab.research.google.com/assets/colab-badge.svg\" alt=\"Open In Colab\"/></a>"
      ]
    },
    {
      "cell_type": "markdown",
      "source": [
        "[https://leetcode.com/problems/subarrays-with-k-different-integers/]"
      ],
      "metadata": {
        "id": "5cPJdCWxhxyi"
      }
    },
    {
      "cell_type": "code",
      "execution_count": null,
      "metadata": {
        "id": "-U6Te8EqhqXq"
      },
      "outputs": [],
      "source": [
        "class Solution:\n",
        "    def subarraysWithKDistinct(self, nums: List[int], k: int) -> int:\n",
        "        n = len(nums)\n",
        "        #res = []\n",
        "        cnt = 0\n",
        "        for l in range(n-(k-1)):\n",
        "            s = set()\n",
        "            for r in range(l,n):\n",
        "                s.add(nums[r])\n",
        "                if len(s)>k:\n",
        "                    break\n",
        "                elif len(s)==k:\n",
        "                    #res.append(nums[l:r+1])\n",
        "                    cnt+=1\n",
        "        #print(res)\n",
        "        return cnt\n",
        "            \n",
        "        "
      ]
    },
    {
      "cell_type": "code",
      "source": [
        "class Solution:\n",
        "    def subarraysWithKDistinct(self, nums: List[int], k: int) -> int:\n",
        "        \n",
        "        m = {}\n",
        "        l = 0\n",
        "        r = 0\n",
        "        n = len(nums)\n",
        "        count = 0\n",
        "        \n",
        "        while l<n:\n",
        "            if nums[r] not in m:\n",
        "                m[nums[r]] = 0\n",
        "            m[nums[r]]+=1\n",
        "            \n",
        "            if len(m)==k:\n",
        "                count+=1\n",
        "                #print(count, (l,r), nums[l:r+1])\n",
        "                \n",
        "            if len(m)<=k:\n",
        "                if r+1<n:\n",
        "                    r+=1\n",
        "                else:\n",
        "                    l+=1\n",
        "                    r = l\n",
        "                    m = {}\n",
        "                \n",
        "            if len(m)>k:\n",
        "                l+=1\n",
        "                r = l\n",
        "                m = {}\n",
        "        return count\n",
        "                \n",
        "            \n",
        "        "
      ],
      "metadata": {
        "id": "-7U7-ct5pT2Q"
      },
      "execution_count": null,
      "outputs": []
    },
    {
      "cell_type": "code",
      "source": [
        "class Solution:\n",
        "    def subarraysWithKDistinct(self, nums, k: int) -> int:\n",
        "        return self.atmostK(nums,k)-self.atmostK(nums,k-1)\n",
        "    \n",
        "    def atmostK(self,nums,k):\n",
        "        print(k, \"-\"*10)\n",
        "        n = len(nums)\n",
        "        m = {}\n",
        "\n",
        "        r = 0\n",
        "        l = 0\n",
        "        cnt = 0\n",
        "        while r<n:\n",
        "            if nums[r] not in m:\n",
        "                m[nums[r]] = 0\n",
        "            m[nums[r]]+=1\n",
        "            while len(m)>k:\n",
        "                m[nums[l]]-=1\n",
        "                if not m[nums[l]]:\n",
        "                    del m[nums[l]]\n",
        "                l+=1\n",
        "            c = r-l+1\n",
        "            cnt+=c\n",
        "            r+=1\n",
        "        return cnt\n",
        "            \n",
        "\n",
        "\n",
        "s = Solution()\n",
        "s.subarraysWithKDistinct([2,1,2,1,2],2)"
      ],
      "metadata": {
        "colab": {
          "base_uri": "https://localhost:8080/"
        },
        "id": "6S0mPtVUr0Od",
        "outputId": "463043dd-ea43-4cc7-eb03-7a7528c18b14"
      },
      "execution_count": 14,
      "outputs": [
        {
          "output_type": "stream",
          "name": "stdout",
          "text": [
            "2 ----------\n",
            "1 ----------\n"
          ]
        },
        {
          "output_type": "execute_result",
          "data": {
            "text/plain": [
              "10"
            ]
          },
          "metadata": {},
          "execution_count": 14
        }
      ]
    }
  ]
}