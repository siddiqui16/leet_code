{
 "cells": [
  {
   "cell_type": "markdown",
   "metadata": {},
   "source": [
    "https://leetcode.com/problems/minimum-falling-path-sum/"
   ]
  },
  {
   "cell_type": "code",
   "execution_count": 42,
   "metadata": {},
   "outputs": [
    {
     "name": "stdout",
     "output_type": "stream",
     "text": [
      "  2    1    3\n",
      "  7    6    5\n",
      " 13   13   14\n",
      "                                         13 13 [[2, 1, 3], [6, 5, 4], [7, 8, 9]]\n",
      "-19   57\n",
      "-59  -24\n",
      "                                         -59 -59 [[-19, 57], [-40, -5]]\n"
     ]
    }
   ],
   "source": [
    "class Solution:\n",
    "    def minFallingPathSum(self, m):\n",
    "        n = len(m)\n",
    "        dp = [[0 for i in range(n)] for _ in range(n)]\n",
    "        \n",
    "        for i in range(n):\n",
    "            for j in range(n):\n",
    "                if i == 0:\n",
    "                    dp[i][j] = m[i][j] \n",
    "                else:\n",
    "                    dp[i][j] = min(dp[i-1][j-1] if j>0 else 100000, \n",
    "                                   dp[i-1][j], \n",
    "                                   dp[i-1][j+1] if j+1<n else 1000000) + m[i][j]\n",
    "                \n",
    "        for i in range(n):\n",
    "            print(\"  \".join([\"%3s\"%t for t in dp[i]]))\n",
    "        return min(dp[-1])\n",
    "                \n",
    "        \n",
    "    \n",
    "    \n",
    "cases = [\n",
    "    ([[2,1,3],[6,5,4],[7,8,9]], 13),\n",
    "    ([[-19,57],[-40,-5]], -59)\n",
    "]\n",
    "     \n",
    "s = Solution()\n",
    "for i,r in cases:\n",
    "    print(\" \"*40,s.minFallingPathSum(i),r, i)"
   ]
  }
 ],
 "metadata": {
  "kernelspec": {
   "display_name": "Python 3",
   "language": "python",
   "name": "python3"
  },
  "language_info": {
   "codemirror_mode": {
    "name": "ipython",
    "version": 3
   },
   "file_extension": ".py",
   "mimetype": "text/x-python",
   "name": "python",
   "nbconvert_exporter": "python",
   "pygments_lexer": "ipython3",
   "version": "3.7.3"
  }
 },
 "nbformat": 4,
 "nbformat_minor": 2
}
