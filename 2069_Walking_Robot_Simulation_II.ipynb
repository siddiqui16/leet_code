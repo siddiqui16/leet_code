{
  "nbformat": 4,
  "nbformat_minor": 0,
  "metadata": {
    "colab": {
      "name": "2069. Walking Robot Simulation II.ipynb",
      "provenance": [],
      "authorship_tag": "ABX9TyOxN4bN3BsazIcyk0CRiBHw",
      "include_colab_link": true
    },
    "kernelspec": {
      "name": "python3",
      "display_name": "Python 3"
    },
    "language_info": {
      "name": "python"
    }
  },
  "cells": [
    {
      "cell_type": "markdown",
      "metadata": {
        "id": "view-in-github",
        "colab_type": "text"
      },
      "source": [
        "<a href=\"https://colab.research.google.com/github/siddiqui16/leet_code/blob/colab/2069_Walking_Robot_Simulation_II.ipynb\" target=\"_parent\"><img src=\"https://colab.research.google.com/assets/colab-badge.svg\" alt=\"Open In Colab\"/></a>"
      ]
    },
    {
      "cell_type": "markdown",
      "source": [
        "[https://leetcode.com/problems/walking-robot-simulation-ii/]"
      ],
      "metadata": {
        "id": "QGheH7mcMqN2"
      }
    },
    {
      "cell_type": "code",
      "execution_count": null,
      "metadata": {
        "id": "1wnoB-cFMVTs"
      },
      "outputs": [],
      "source": [
        "DIR = [\"East\", \"North\", \"West\", \"South\"]\n",
        "MOVES = [(1,0),(0,1),(-1,0),(0,-1)]\n",
        "\n",
        "class Robot(object):\n",
        "\n",
        "    def __init__(self, width, height):\n",
        "        \"\"\"\n",
        "        :type width: int\n",
        "        :type height: int\n",
        "        \"\"\"\n",
        "        self.w = width\n",
        "        self.h = height\n",
        "        self.dir = 0\n",
        "        self.x = 0\n",
        "        self.y = 0\n",
        "        \n",
        "        \n",
        "\n",
        "    def step(self, num):\n",
        "        \"\"\"\n",
        "        :type num: int\n",
        "        :rtype: None\n",
        "        \"\"\"\n",
        "        for i in range(num):\n",
        "            p,q = MOVES[self.dir%4]\n",
        "            x_, y_ = self.x + p, self.y + q\n",
        "            while not (-1<x_<self.w and -1<y_<self.h):\n",
        "                self.dir += 1\n",
        "                p,q = MOVES[self.dir%4]\n",
        "                x_, y_ = self.x + p, self.y + q\n",
        "            self.x, self.y = x_, y_\n",
        "        \n",
        "\n",
        "    def getPos(self):\n",
        "        return [self.x, self.y]\n",
        "\n",
        "    def getDir(self):\n",
        "        return DIR[self.dir%4]\n",
        "        \n",
        "\n",
        "\n",
        "# Your Robot object will be instantiated and called as such:\n",
        "# obj = Robot(width, height)\n",
        "# obj.step(num)\n",
        "# param_2 = obj.getPos()\n",
        "# param_3 = obj.getDir()"
      ]
    }
  ]
}