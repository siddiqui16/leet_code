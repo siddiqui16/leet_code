{
  "nbformat": 4,
  "nbformat_minor": 0,
  "metadata": {
    "colab": {
      "name": "116. Populating Next Right Pointers in Each Node.ipynb",
      "provenance": [],
      "authorship_tag": "ABX9TyPpPy2S6qpCt7ddd0E7oReD",
      "include_colab_link": true
    },
    "kernelspec": {
      "name": "python3",
      "display_name": "Python 3"
    },
    "language_info": {
      "name": "python"
    }
  },
  "cells": [
    {
      "cell_type": "markdown",
      "metadata": {
        "id": "view-in-github",
        "colab_type": "text"
      },
      "source": [
        "<a href=\"https://colab.research.google.com/github/siddiqui16/leet_code/blob/colab/116_Populating_Next_Right_Pointers_in_Each_Node.ipynb\" target=\"_parent\"><img src=\"https://colab.research.google.com/assets/colab-badge.svg\" alt=\"Open In Colab\"/></a>"
      ]
    },
    {
      "cell_type": "markdown",
      "source": [
        "[https://leetcode.com/problems/populating-next-right-pointers-in-each-node/]"
      ],
      "metadata": {
        "id": "Q5KzRg_YjHnW"
      }
    },
    {
      "cell_type": "code",
      "source": [
        "class Node:\n",
        "    def __init__(self, val: int = 0, left: 'Node' = None, right: 'Node' = None, next: 'Node' = None):\n",
        "        self.val = val\n",
        "        self.left = left\n",
        "        self.right = right\n",
        "        self.next = next\n",
        "\n",
        "    def __repr__(self):\n",
        "      return f\"{self.val}>{self.next if self.next else '#'}\"\n",
        "\n",
        "    def __str__(self):\n",
        "      return self.__repr__()\n",
        "\n",
        "l1 = Node(1)\n",
        "l2 = Node(2)\n",
        "l3 = Node(3)\n",
        "l4 = Node(4)\n",
        "l5 = Node(5)\n",
        "l6 = Node(6)\n",
        "l7 = Node(7)\n",
        "l8 = Node(8)\n",
        "l9 = Node(9)\n",
        "l10 = Node(10)\n",
        "l11 = Node(11)\n",
        "l12 = Node(12)\n",
        "l13 = Node(13)\n",
        "l14 = Node(14)\n",
        "l15 = Node(15)\n",
        "\n",
        "l1.right = l3\n",
        "l1.left = l2\n",
        "l2.left = l4\n",
        "l2.right = l5\n",
        "l3.left=l6\n",
        "l3.right=l7\n",
        "l4.left=l8\n",
        "l4.right=l9\n",
        "l5.left=l10\n",
        "l5.right=l11\n",
        "\n",
        "l6.left=l12\n",
        "l6.right=l13\n",
        "\n",
        "l7.left=l14\n",
        "l7.right=l15\n"
      ],
      "metadata": {
        "id": "Vefr09LezL8j"
      },
      "execution_count": 110,
      "outputs": []
    },
    {
      "cell_type": "markdown",
      "source": [
        "# Simple BFS Traversal"
      ],
      "metadata": {
        "id": "ouJdOsyz6ZgJ"
      }
    },
    {
      "cell_type": "code",
      "source": [
        "\n",
        "\n",
        "class Solution:\n",
        "    def connect(self, root, stack=[], d = 1):\n",
        "\n",
        "      if not root:\n",
        "        return root\n",
        "\n",
        "      seed = [(root,1)]\n",
        "\n",
        "      curr_l = -1\n",
        "      prev = None\n",
        "      while seed:\n",
        "        n,l = seed.pop(0)\n",
        "\n",
        "        if curr_l == l:\n",
        "          n.next = prev\n",
        "        else:\n",
        "          curr_l = l\n",
        "        \n",
        "        if n.right:\n",
        "          seed.append((n.right, l+1))\n",
        "          seed.append((n.left, l+1))\n",
        "        prev = n\n",
        "      return root\n",
        "\n",
        "        \n",
        "\n",
        "      \n",
        "  \n",
        "s = Solution()\n",
        "res = s.connect(l1)\n",
        "\n",
        "print(l1)\n",
        "print(l2)\n",
        "print(l4)\n",
        "print(l8)"
      ],
      "metadata": {
        "colab": {
          "base_uri": "https://localhost:8080/"
        },
        "id": "VvmsbsNbzaLU",
        "outputId": "2a23e211-8319-4d14-8c68-4b28254eb81b"
      },
      "execution_count": 119,
      "outputs": [
        {
          "output_type": "stream",
          "name": "stdout",
          "text": [
            "1>#\n",
            "2>3>#\n",
            "4>5>6>7>#\n",
            "8>9>10>11>12>13>14>15>#\n"
          ]
        }
      ]
    },
    {
      "cell_type": "markdown",
      "source": [
        "# Complex Recursion"
      ],
      "metadata": {
        "id": "B0_OA-_v6Vf9"
      }
    },
    {
      "cell_type": "code",
      "execution_count": 129,
      "metadata": {
        "colab": {
          "base_uri": "https://localhost:8080/"
        },
        "id": "ZkHseddAfmBy",
        "outputId": "93b46f18-0db5-4744-b212-93e296aca8a1"
      },
      "outputs": [
        {
          "output_type": "stream",
          "name": "stdout",
          "text": [
            "1>#\n",
            "2>3>#\n",
            "4>5>6>7>#\n",
            "8>9>10>11>12>13>14>15>#\n"
          ]
        }
      ],
      "source": [
        "class Solution:\n",
        "    def connect1(self, root, stack=[], d = 1):\n",
        "      pad = \"-\"*d\n",
        "      #print(pad, root.val, \"-\", stack)\n",
        "      rs = []\n",
        "      ls = []\n",
        "      if stack:\n",
        "        root.next = stack.pop()\n",
        "\n",
        "      if root.right:\n",
        "        rs += self.connect1(root.right, stack, d+1)\n",
        "        #print(pad, root.val, \"r\", rs)\n",
        "\n",
        "      if root.left:\n",
        "        ls += self.connect1(root.left, rs, d+1)\n",
        "      ls += [root]\n",
        "      #print(pad, root.val, \"l\", ls)\n",
        "      #print(pad, \"-\"*10)\n",
        "\n",
        "      return ls\n",
        "\n",
        "    def connect(self, root):\n",
        "      if not root:\n",
        "        return root\n",
        "      self.connect1(root)\n",
        "      return root\n",
        "      \n",
        "  \n",
        "s = Solution()\n",
        "res = s.connect(l1)\n",
        "\n",
        "print(l1)\n",
        "print(l2)\n",
        "print(l4)\n",
        "print(l8)"
      ]
    }
  ]
}