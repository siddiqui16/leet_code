{
 "cells": [
  {
   "cell_type": "code",
   "execution_count": 46,
   "metadata": {},
   "outputs": [
    {
     "name": "stdout",
     "output_type": "stream",
     "text": [
      "1  0  7 14 15 ( 9) [-2, -1, -1, 0, 1, 2, 5, 9, 10, 19, 20, 25, 43, 44, 98]\n",
      "2  7 10 14  8 (20) [9, 10, 19, 20, 25, 43, 44, 98]\n",
      "3 10 12 14  5 (43) [20, 25, 43, 44, 98]\n",
      "4 12 13 14  3 (44) [43, 44, 98]\n",
      "14 98 98 True\n"
     ]
    }
   ],
   "source": [
    "class Solution(object):\n",
    "    def search(self, nums, target):\n",
    "        \"\"\"\n",
    "        :type nums: List[int]\n",
    "        :type target: int\n",
    "        :rtype: int\n",
    "        \"\"\"\n",
    "        i = 0\n",
    "        j = len(nums)-1\n",
    "        \n",
    "        count = 0\n",
    "        while i<j and count<len(nums):\n",
    "            count+=1\n",
    "            x = (i+j)/2\n",
    "            x = int(x)\n",
    "            print(f\"{count} {i:2} {x:2} {j:2} {len(nums[i:j+1]):2} ({nums[x]:2}) {nums[i:j+1]}\")\n",
    "            if nums[x] == target:\n",
    "                return x\n",
    "            elif nums[x] < target:\n",
    "                i = x\n",
    "            else:\n",
    "                j = x\n",
    "            if j-i == 1:\n",
    "                if nums[i] == target:\n",
    "                    return i\n",
    "                elif nums[j] == target:\n",
    "                    return j\n",
    "                break\n",
    "            \n",
    "        return -1\n",
    "    \n",
    "s = Solution()\n",
    "nums = [-2,-1,-1,0,1,2,5,9,10,19,20,25,43,44,98]\n",
    "t = 98\n",
    "res = s.search(nums, t)\n",
    "print(res, nums[res], t, nums[res]==t)"
   ]
  },
  {
   "cell_type": "code",
   "execution_count": 54,
   "metadata": {},
   "outputs": [
    {
     "name": "stdout",
     "output_type": "stream",
     "text": [
      "{0: 0, 1: 1, 2: 1}\n"
     ]
    },
    {
     "data": {
      "text/plain": [
       "1"
      ]
     },
     "execution_count": 54,
     "metadata": {},
     "output_type": "execute_result"
    }
   ],
   "source": []
  },
  {
   "cell_type": "code",
   "execution_count": null,
   "metadata": {},
   "outputs": [],
   "source": [
    "range(2,2)"
   ]
  }
 ],
 "metadata": {
  "kernelspec": {
   "display_name": "Python 3",
   "language": "python",
   "name": "python3"
  },
  "language_info": {
   "codemirror_mode": {
    "name": "ipython",
    "version": 3
   },
   "file_extension": ".py",
   "mimetype": "text/x-python",
   "name": "python",
   "nbconvert_exporter": "python",
   "pygments_lexer": "ipython3",
   "version": "3.7.3"
  }
 },
 "nbformat": 4,
 "nbformat_minor": 2
}
