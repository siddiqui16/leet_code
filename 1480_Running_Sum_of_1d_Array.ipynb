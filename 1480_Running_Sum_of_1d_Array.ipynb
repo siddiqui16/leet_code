{
  "nbformat": 4,
  "nbformat_minor": 0,
  "metadata": {
    "colab": {
      "name": "1480. Running Sum of 1d Array.ipynb",
      "provenance": [],
      "authorship_tag": "ABX9TyMzGuB9vjbClPXJyL7Y/ckd",
      "include_colab_link": true
    },
    "kernelspec": {
      "name": "python3",
      "display_name": "Python 3"
    },
    "language_info": {
      "name": "python"
    }
  },
  "cells": [
    {
      "cell_type": "markdown",
      "metadata": {
        "id": "view-in-github",
        "colab_type": "text"
      },
      "source": [
        "<a href=\"https://colab.research.google.com/github/siddiqui16/leet_code/blob/colab/1480_Running_Sum_of_1d_Array.ipynb\" target=\"_parent\"><img src=\"https://colab.research.google.com/assets/colab-badge.svg\" alt=\"Open In Colab\"/></a>"
      ]
    },
    {
      "cell_type": "markdown",
      "source": [
        "[https://leetcode.com/problems/running-sum-of-1d-array/]"
      ],
      "metadata": {
        "id": "qXJss3CA-tfw"
      }
    },
    {
      "cell_type": "code",
      "execution_count": null,
      "metadata": {
        "id": "ZfDr4x51-rv_"
      },
      "outputs": [],
      "source": [
        "class Solution:\n",
        "    def runningSum(self, nums: List[int]) -> List[int]:\n",
        "        s = []\n",
        "        for n in nums:\n",
        "            if s:\n",
        "                s.append(s[-1]+n)\n",
        "            else:\n",
        "                s.append(n)\n",
        "        return s\n",
        "        "
      ]
    }
  ]
}