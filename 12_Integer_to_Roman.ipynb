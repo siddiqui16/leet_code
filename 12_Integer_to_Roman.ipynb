{
  "nbformat": 4,
  "nbformat_minor": 0,
  "metadata": {
    "colab": {
      "name": "12. Integer to Roman.ipynb",
      "provenance": [],
      "authorship_tag": "ABX9TyOSwZJF1Yj2XoufAsBLcqK0",
      "include_colab_link": true
    },
    "kernelspec": {
      "name": "python3",
      "display_name": "Python 3"
    },
    "language_info": {
      "name": "python"
    }
  },
  "cells": [
    {
      "cell_type": "markdown",
      "metadata": {
        "id": "view-in-github",
        "colab_type": "text"
      },
      "source": [
        "<a href=\"https://colab.research.google.com/github/siddiqui16/leet_code/blob/colab/12_Integer_to_Roman.ipynb\" target=\"_parent\"><img src=\"https://colab.research.google.com/assets/colab-badge.svg\" alt=\"Open In Colab\"/></a>"
      ]
    },
    {
      "cell_type": "markdown",
      "source": [
        "[https://leetcode.com/problems/integer-to-roman/]"
      ],
      "metadata": {
        "id": "5358iO2zdKN_"
      }
    },
    {
      "cell_type": "markdown",
      "source": [
        "# Old"
      ],
      "metadata": {
        "id": "BVjoMCn9dKKz"
      }
    },
    {
      "cell_type": "code",
      "execution_count": null,
      "metadata": {
        "id": "OtQPVBtJdHoV"
      },
      "outputs": [],
      "source": [
        "class Solution:\n",
        "    def intToRoman(self, num: int) -> str:\n",
        "        d = {1:\"I\", 4: \"IV\", 5:\"V\", 9:\"IX\", 10:\"X\", 40: \"XL\", 50:\"L\", 90:\"XC\", 100:\"C\", 400:\"CD\", 500:\"D\", 900: \"CM\", 1000: \"M\"}\n",
        "\n",
        "        if num in d.keys():\n",
        "            return d[num]\n",
        "\n",
        "        ans = \"\"\n",
        "\n",
        "        print(list(d.keys())[::-1])\n",
        "        for k in list(d.keys())[::-1]:\n",
        "            if num < k:\n",
        "                pass\n",
        "            else:\n",
        "                while num >= k:\n",
        "                    num = num - k\n",
        "                    ans += d[k]\n",
        "\n",
        "        return ans        "
      ]
    }
  ]
}