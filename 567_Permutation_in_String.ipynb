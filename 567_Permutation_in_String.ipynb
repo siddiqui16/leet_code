{
  "nbformat": 4,
  "nbformat_minor": 0,
  "metadata": {
    "colab": {
      "name": "567. Permutation in String.ipynb",
      "provenance": [],
      "authorship_tag": "ABX9TyMeT2gICRUiiZgzhUEHY2GM",
      "include_colab_link": true
    },
    "kernelspec": {
      "name": "python3",
      "display_name": "Python 3"
    },
    "language_info": {
      "name": "python"
    }
  },
  "cells": [
    {
      "cell_type": "markdown",
      "metadata": {
        "id": "view-in-github",
        "colab_type": "text"
      },
      "source": [
        "<a href=\"https://colab.research.google.com/github/siddiqui16/leet_code/blob/colab/567_Permutation_in_String.ipynb\" target=\"_parent\"><img src=\"https://colab.research.google.com/assets/colab-badge.svg\" alt=\"Open In Colab\"/></a>"
      ]
    },
    {
      "cell_type": "markdown",
      "source": [
        "[https://leetcode.com/problems/permutation-in-string/]"
      ],
      "metadata": {
        "id": "L8NusEii07Pt"
      }
    },
    {
      "cell_type": "code",
      "source": [
        "class Solution:\n",
        "    def checkInclusion(self, s1: str, s2: str) -> bool:\n",
        "      def permute(s):\n",
        "        n = len(s)\n",
        "        if n == 1:\n",
        "          return [s]\n",
        "        else:\n",
        "          res = []\n",
        "          for i in range(n):\n",
        "            v = s.pop(0)\n",
        "            r = permute(s)\n",
        "            for p in r:\n",
        "              b = [v]+p\n",
        "              res.append(b)\n",
        "            s.append(v)\n",
        "        return res\n",
        "\n",
        "      n1 = len(s1)\n",
        "      n2 = len(s2)\n",
        "\n",
        "      if n1>n2:\n",
        "        return False\n",
        "\n",
        "      p1 = set([''.join(p) for p in permute([s for s in s1])])\n",
        "\n",
        "      for i in range(0,n2-n1+1):\n",
        "        k = s2[i:i+n1]\n",
        "        if k in p1:\n",
        "          return True\n",
        "      return False\n",
        "      \n",
        "        \n",
        "\n",
        "\n",
        "s = Solution()\n",
        "\n",
        "inputs = [\n",
        "  (\"ab\", \"eidbaooo\", True),\n",
        "  (\"ab\", \"eidboaoo\", False)\n",
        "]\n",
        "\n",
        "for i1,i2,o in inputs:\n",
        "  print(o, s.checkInclusion(i1,i2))"
      ],
      "metadata": {
        "colab": {
          "base_uri": "https://localhost:8080/"
        },
        "id": "hZZ8BFmG1DPx",
        "outputId": "7950cc04-c052-4d47-f831-43abea220c85"
      },
      "execution_count": 27,
      "outputs": [
        {
          "output_type": "stream",
          "name": "stdout",
          "text": [
            "True True\n",
            "False False\n"
          ]
        }
      ]
    },
    {
      "cell_type": "code",
      "source": [
        "class Solution:\n",
        "    def checkInclusion(self, s1: str, s2: str) -> bool:\n",
        "      n1 = len(s1)\n",
        "      n2 = len(s2)\n",
        "\n",
        "      if n1>n2:\n",
        "        return False\n",
        "\n",
        "      p1 = ''.join(sorted(s1))\n",
        "\n",
        "      for i in range(0,n2-n1+1):\n",
        "        k = s2[i:i+n1]\n",
        "        k1 = ''.join(sorted(k))\n",
        "        if k1 == p1:\n",
        "          return True\n",
        "      return False\n",
        "      \n",
        "        \n",
        "\n",
        "\n",
        "s = Solution()\n",
        "\n",
        "inputs = [\n",
        "  (\"ab\", \"eidbaooo\", True),\n",
        "  (\"ab\", \"eidboaoo\", False)\n",
        "]\n",
        "\n",
        "for i1,i2,o in inputs:\n",
        "  print(o, s.checkInclusion(i1,i2))"
      ],
      "metadata": {
        "colab": {
          "base_uri": "https://localhost:8080/"
        },
        "id": "B1r6MVIh6JPz",
        "outputId": "1cef2529-7e53-4164-c959-f533ee99bf2d"
      },
      "execution_count": 28,
      "outputs": [
        {
          "output_type": "stream",
          "name": "stdout",
          "text": [
            "True True\n",
            "False False\n"
          ]
        }
      ]
    },
    {
      "cell_type": "code",
      "execution_count": null,
      "metadata": {
        "id": "C6ianigg06qt"
      },
      "outputs": [],
      "source": [
        ""
      ]
    }
  ]
}