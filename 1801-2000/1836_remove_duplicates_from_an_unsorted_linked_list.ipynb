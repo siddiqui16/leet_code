{
  "nbformat": 4,
  "nbformat_minor": 0,
  "metadata": {
    "colab": {
      "name": "1836. Remove Duplicates From an Unsorted Linked List.ipynb",
      "provenance": [],
      "authorship_tag": "ABX9TyNDFl1QOAmAoqcWs0EQ+Zyj",
      "include_colab_link": true
    },
    "kernelspec": {
      "name": "python3",
      "display_name": "Python 3"
    },
    "language_info": {
      "name": "python"
    }
  },
  "cells": [
    {
      "cell_type": "markdown",
      "metadata": {
        "id": "view-in-github",
        "colab_type": "text"
      },
      "source": [
        "<a href=\"https://colab.research.google.com/github/siddiqui16/leet_code/blob/colab/1836_Remove_Duplicates_From_an_Unsorted_Linked_List.ipynb\" target=\"_parent\"><img src=\"https://colab.research.google.com/assets/colab-badge.svg\" alt=\"Open In Colab\"/></a>"
      ]
    },
    {
      "cell_type": "markdown",
      "source": [
        "[https://leetcode.com/problems/remove-duplicates-from-an-unsorted-linked-list/]"
      ],
      "metadata": {
        "id": "la4D5oK7vb-F"
      }
    },
    {
      "cell_type": "code",
      "execution_count": null,
      "metadata": {
        "id": "Djr7HjD9u8er"
      },
      "outputs": [],
      "source": [
        "# Definition for singly-linked list.\n",
        "# class ListNode:\n",
        "#     def __init__(self, val=0, next=None):\n",
        "#         self.val = val\n",
        "#         self.next = next\n",
        "class Solution:\n",
        "    def deleteDuplicatesUnsorted(self, head: ListNode) -> ListNode:\n",
        "        ids = {}\n",
        "        node = head\n",
        "        \n",
        "        while node:\n",
        "            if node.val not in ids:\n",
        "                ids[node.val] = 0\n",
        "            ids[node.val]+=1\n",
        "            node = node.next\n",
        "            \n",
        "        node = head\n",
        "        while node and ids[node.val]>1:\n",
        "            node = node.next\n",
        "            head = node\n",
        "            \n",
        "        node = head\n",
        "        prev = None\n",
        "        while node:\n",
        "            if prev:\n",
        "                if ids[node.val]>1:\n",
        "                    node = node.next\n",
        "                    prev.next = node\n",
        "                else:\n",
        "                    prev = node\n",
        "                    node = node.next\n",
        "            else:\n",
        "                prev = node\n",
        "                node = node.next\n",
        "\n",
        "        return head"
      ]
    }
  ]
}