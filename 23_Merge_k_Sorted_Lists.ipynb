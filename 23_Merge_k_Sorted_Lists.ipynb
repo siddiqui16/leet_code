{
  "nbformat": 4,
  "nbformat_minor": 0,
  "metadata": {
    "colab": {
      "name": "23. Merge k Sorted Lists.ipynb",
      "provenance": [],
      "authorship_tag": "ABX9TyMc4uqplpNnouWUuF0h+scZ",
      "include_colab_link": true
    },
    "kernelspec": {
      "name": "python3",
      "display_name": "Python 3"
    },
    "language_info": {
      "name": "python"
    }
  },
  "cells": [
    {
      "cell_type": "markdown",
      "metadata": {
        "id": "view-in-github",
        "colab_type": "text"
      },
      "source": [
        "<a href=\"https://colab.research.google.com/github/siddiqui16/leet_code/blob/colab/23_Merge_k_Sorted_Lists.ipynb\" target=\"_parent\"><img src=\"https://colab.research.google.com/assets/colab-badge.svg\" alt=\"Open In Colab\"/></a>"
      ]
    },
    {
      "cell_type": "markdown",
      "source": [
        "[https://leetcode.com/problems/merge-k-sorted-lists]"
      ],
      "metadata": {
        "id": "bZG_pLm92KGe"
      }
    },
    {
      "cell_type": "code",
      "execution_count": null,
      "metadata": {
        "id": "a1RNHUUR2EMs"
      },
      "outputs": [],
      "source": [
        "# Definition for singly-linked list.\n",
        "# class ListNode:\n",
        "#     def __init__(self, val=0, next=None):\n",
        "#         self.val = val\n",
        "#         self.next = next\n",
        "class Solution:\n",
        "    def mergeKLists(self, lists):\n",
        "        \n",
        "        if not lists:\n",
        "            return None\n",
        "        \n",
        "        head = lists[0]\n",
        "        \n",
        "        for l in lists[1:]:\n",
        "            l0 = ListNode(-1)\n",
        "            l_ = l0\n",
        "            l1 = head\n",
        "            l2 = l\n",
        "            \n",
        "            while l1 and l2:\n",
        "                if l1.val < l2.val:\n",
        "                    l0.next = l1\n",
        "                    l1 = l1.next\n",
        "                else:\n",
        "                    l0.next = l2\n",
        "                    l2 = l2.next\n",
        "                l0 = l0.next\n",
        "            while l1:\n",
        "                l0.next = l1\n",
        "                l1 = l1.next\n",
        "                l0 = l0.next\n",
        "            while l2:\n",
        "                l0.next = l2\n",
        "                l2 = l2.next\n",
        "                l0 = l0.next\n",
        "            head = l_.next\n",
        "        return head\n"
      ]
    },
    {
      "cell_type": "markdown",
      "source": [
        "# With PriorityQueue"
      ],
      "metadata": {
        "id": "GAH4NKjE2OD-"
      }
    },
    {
      "cell_type": "code",
      "source": [
        "# Definition for singly-linked list.\n",
        "# class ListNode:\n",
        "#     def __init__(self, val=0, next=None):\n",
        "#         self.val = val\n",
        "#         self.next = next\n",
        "import heapq\n",
        "\n",
        "class Solution:\n",
        "    def mergeKLists(self, lists):\n",
        "        head = None\n",
        "        seed = []\n",
        "        for l in lists:\n",
        "            n = l\n",
        "            while n:\n",
        "                heappush(seed, (n.val, len(seed), n))\n",
        "                n = n.next\n",
        "        count = 0\n",
        "        while seed:\n",
        "            v,nid,n = heappop(seed)\n",
        "            if not head:\n",
        "                head = n\n",
        "            else:\n",
        "                prev.next = n\n",
        "            prev = n\n",
        "        return head"
      ],
      "metadata": {
        "id": "jSZWrtZD7auz"
      },
      "execution_count": null,
      "outputs": []
    }
  ]
}