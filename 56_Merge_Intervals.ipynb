{
  "nbformat": 4,
  "nbformat_minor": 0,
  "metadata": {
    "colab": {
      "name": "56. Merge Intervals.ipynb",
      "provenance": [],
      "authorship_tag": "ABX9TyNlMIHbXs31aY88FThKYKDc",
      "include_colab_link": true
    },
    "kernelspec": {
      "name": "python3",
      "display_name": "Python 3"
    },
    "language_info": {
      "name": "python"
    }
  },
  "cells": [
    {
      "cell_type": "markdown",
      "metadata": {
        "id": "view-in-github",
        "colab_type": "text"
      },
      "source": [
        "<a href=\"https://colab.research.google.com/github/siddiqui16/leet_code/blob/colab/56_Merge_Intervals.ipynb\" target=\"_parent\"><img src=\"https://colab.research.google.com/assets/colab-badge.svg\" alt=\"Open In Colab\"/></a>"
      ]
    },
    {
      "cell_type": "markdown",
      "source": [
        "[https://leetcode.com/problems/merge-intervals/]"
      ],
      "metadata": {
        "id": "BqZAO25VyaMU"
      }
    },
    {
      "cell_type": "code",
      "execution_count": 41,
      "metadata": {
        "colab": {
          "base_uri": "https://localhost:8080/"
        },
        "id": "9n3KBdJTyQuV",
        "outputId": "c71cd8ff-2221-4637-d357-8452cc663e3f"
      },
      "outputs": [
        {
          "output_type": "stream",
          "name": "stdout",
          "text": [
            "[[1, 6], [8, 10], [15, 18]] [[1, 6], [8, 10], [15, 18]]\n",
            "[[1, 5]] [[1, 5]]\n",
            "[[0, 4]] [[0, 4]]\n",
            "[[2, 7]] [[2, 7]]\n"
          ]
        }
      ],
      "source": [
        "import collections\n",
        "class Solution(object):\n",
        "    def merge(self, intervals):\n",
        "\n",
        "      overlap = lambda a,b: (a[0]<b[1] and b[0]<=a[1]) or (b[0]<a[1] and a[0]<=b[1])\n",
        "\n",
        "      intervals.sort(key=lambda x: x[0])\n",
        "      m = []\n",
        "\n",
        "      for a in intervals:\n",
        "        if not m or m[-1][1] < a[0]:\n",
        "          m.append(a)\n",
        "        else:\n",
        "          m[-1][1] = max(m[-1][1],a[1])\n",
        "      return m\n",
        "\n",
        "inputs = [\n",
        "  ([[1,3],[2,6],[8,10],[15,18]], [[1,6],[8,10],[15,18]]),\n",
        "  ([[1,4],[4,5]], [[1,5]]),\n",
        "  ([[1,4],[0,1]], [[0,4]]),\n",
        "  ([[2,3],[4,6],[5,7],[3,4]], [[2,7]])\n",
        "]\n",
        "s = Solution()\n",
        "\n",
        "for i,o in inputs:\n",
        "  print(o, s.merge(i))"
      ]
    }
  ]
}