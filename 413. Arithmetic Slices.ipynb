{
 "cells": [
  {
   "cell_type": "markdown",
   "metadata": {},
   "source": [
    "https://leetcode.com/problems/arithmetic-slices/"
   ]
  },
  {
   "cell_type": "code",
   "execution_count": 38,
   "metadata": {},
   "outputs": [
    {
     "name": "stdout",
     "output_type": "stream",
     "text": [
      "-------- 15 1 ([1, 2, 3, 4, 5, 6],)\n",
      "-------- 7 1 ([1, 2, 3, 4, 5],)\n",
      "-------- 1 1 ([1, 2, 3, 5],)\n",
      "-------- 3 3 ([1, 2, 3, 4],)\n",
      "-------- 1 1 ([1, 2, 3],)\n",
      "-------- 0 0 ([1],)\n"
     ]
    }
   ],
   "source": [
    "class Solution:\n",
    "    def numberOfArithmeticSlices(self, nums):\n",
    "        if len(nums)<3:\n",
    "            return 0\n",
    "        elif len(nums) == 3:\n",
    "            if nums[1]-nums[0] == nums[2]-nums[1]:\n",
    "                #print(nums)\n",
    "                return 1\n",
    "            else:\n",
    "                return 0\n",
    "        else:\n",
    "            x0 = nums[0]\n",
    "            r0 = self.numberOfArithmeticSlices(nums[1:])\n",
    "            a0 = 0\n",
    "            if r0>0:\n",
    "                a0 = 1 if nums[1]-nums[0] == nums[2]-nums[1] else 0\n",
    "            \n",
    "            \n",
    "            xn = nums[-1]\n",
    "            rn = self.numberOfArithmeticSlices(nums[:-1])\n",
    "            an = 0\n",
    "            if rn>0 and a0==0:\n",
    "                an = 1 if nums[-1]-nums[-2] == nums[-2]-nums[-3] else 0\n",
    "            #print(a0,r0,rn,an, nums)\n",
    "            \n",
    "            return r0 + rn + a0 +an\n",
    "        \n",
    "    \n",
    "cases = [\n",
    "    ([1,2,3,4,5,6], 1),\n",
    "    ([1,2,3,4,5], 1),\n",
    "    ([1,2,3,5], 1),\n",
    "    ([1,2,3,4], 3),\n",
    "    ([1,2,3], 1),\n",
    "    ([1], 0)\n",
    "]\n",
    "    \n",
    "s = Solution()\n",
    "\n",
    "for args in cases:\n",
    "    print(\"----\"*2, s.numberOfArithmeticSlices(*args[:-1]), args[-1], args[:-1])"
   ]
  },
  {
   "cell_type": "code",
   "execution_count": null,
   "metadata": {},
   "outputs": [],
   "source": [
    "class Solution:\n",
    "    def numberOfArithmeticSlices(self, nums):\n",
    "        if len(nums)<3:\n",
    "            return 0\n",
    "        \n",
    "        dp = [0] * len(nums)\n",
    "        \n",
    "        d = nums[1] - nums[0]\n",
    "        for i in range(2,n):\n",
    "            if nums[i] == d+nums[i-1]:\n",
    "                \n",
    "            \n",
    "            \n",
    "        \n",
    "    \n",
    "cases = [\n",
    "    ([1,2,3,4,5,6], 1),\n",
    "    ([1,2,3,4,5], 1),\n",
    "    ([1,2,3,5], 1),\n",
    "    ([1,2,3,4], 3),\n",
    "    ([1,2,3], 1),\n",
    "    ([1], 0)\n",
    "]\n",
    "    \n",
    "s = Solution()\n",
    "\n",
    "for args in cases:\n",
    "    print(\"----\"*2, s.numberOfArithmeticSlices(*args[:-1]), args[-1], args[:-1])"
   ]
  }
 ],
 "metadata": {
  "kernelspec": {
   "display_name": "Python 3",
   "language": "python",
   "name": "python3"
  },
  "language_info": {
   "codemirror_mode": {
    "name": "ipython",
    "version": 3
   },
   "file_extension": ".py",
   "mimetype": "text/x-python",
   "name": "python",
   "nbconvert_exporter": "python",
   "pygments_lexer": "ipython3",
   "version": "3.7.3"
  }
 },
 "nbformat": 4,
 "nbformat_minor": 2
}
