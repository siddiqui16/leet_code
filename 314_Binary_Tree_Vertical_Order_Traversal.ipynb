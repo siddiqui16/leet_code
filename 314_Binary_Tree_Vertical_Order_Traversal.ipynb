{
  "nbformat": 4,
  "nbformat_minor": 0,
  "metadata": {
    "colab": {
      "name": "314. Binary Tree Vertical Order Traversal.ipynb",
      "provenance": [],
      "collapsed_sections": [],
      "authorship_tag": "ABX9TyMd5Zv8alu9eUbcgN08asqp",
      "include_colab_link": true
    },
    "kernelspec": {
      "name": "python3",
      "display_name": "Python 3"
    },
    "language_info": {
      "name": "python"
    }
  },
  "cells": [
    {
      "cell_type": "markdown",
      "metadata": {
        "id": "view-in-github",
        "colab_type": "text"
      },
      "source": [
        "<a href=\"https://colab.research.google.com/github/siddiqui16/leet_code/blob/colab/314_Binary_Tree_Vertical_Order_Traversal.ipynb\" target=\"_parent\"><img src=\"https://colab.research.google.com/assets/colab-badge.svg\" alt=\"Open In Colab\"/></a>"
      ]
    },
    {
      "cell_type": "markdown",
      "source": [
        "[https://leetcode.com/problems/binary-tree-vertical-order-traversal/]"
      ],
      "metadata": {
        "id": "LmK8Jjwm9njo"
      }
    },
    {
      "cell_type": "code",
      "source": [
        "from collections import deque\n",
        "\n",
        "# Definition for a binary tree node.\n",
        "# class TreeNode(object):\n",
        "#     def __init__(self, val=0, left=None, right=None):\n",
        "#         self.val = val\n",
        "#         self.left = left\n",
        "#         self.right = right\n",
        "class Solution(object):\n",
        "    def verticalOrder(self, root):\n",
        "        \"\"\"\n",
        "        :type root: TreeNode\n",
        "        :rtype: List[List[int]]\n",
        "        \"\"\"\n",
        "\n",
        "        M = {}\n",
        "        seed = deque()\n",
        "        seed.append((root, 0, 0))\n",
        "\n",
        "        while seed:\n",
        "          n,h,c = seed.popleft()\n",
        "          if c not in M:\n",
        "            M[c] = {}\n",
        "          if h not in M[c]:\n",
        "            M[c][h] = n.val\n",
        "\n",
        "          if n.left:\n",
        "            seed.append((n.left, h+1, c-1))\n",
        "          if n.right:\n",
        "            seed.append((n.right, h+1, c+1))\n",
        "        print(M)\n",
        "        result = [[M[c][h] for h in sorted(M[c])] for c in sorted(M)]\n",
        "        return result\n",
        "\n"
      ],
      "metadata": {
        "id": "X1mhuozhBNMc"
      },
      "execution_count": null,
      "outputs": []
    },
    {
      "cell_type": "code",
      "execution_count": 1,
      "metadata": {
        "id": "abL173Te9lY8"
      },
      "outputs": [],
      "source": [
        "from collections import deque\n",
        "\n",
        "# Definition for a binary tree node.\n",
        "# class TreeNode(object):\n",
        "#     def __init__(self, val=0, left=None, right=None):\n",
        "#         self.val = val\n",
        "#         self.left = left\n",
        "#         self.right = right\n",
        "class Solution(object):\n",
        "    def verticalOrder(self, root):\n",
        "        \"\"\"\n",
        "        :type root: TreeNode\n",
        "        :rtype: List[List[int]]\n",
        "        \"\"\"\n",
        "\n",
        "        M = {}\n",
        "        seed = deque()\n",
        "        if root:\n",
        "            seed.append((root, 0, 0))\n",
        "\n",
        "        while seed:\n",
        "          n,h,c = seed.popleft()\n",
        "          if c not in M:\n",
        "            M[c] = []\n",
        "          M[c].append(n.val)\n",
        "\n",
        "          if n.left:\n",
        "            seed.append((n.left, h+1, c-1))\n",
        "          if n.right:\n",
        "            seed.append((n.right, h+1, c+1))\n",
        "        print(M)\n",
        "        result = [M[c]for c in sorted(M)]\n",
        "        return result\n",
        "\n"
      ]
    }
  ]
}