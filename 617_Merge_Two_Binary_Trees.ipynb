{
  "nbformat": 4,
  "nbformat_minor": 0,
  "metadata": {
    "colab": {
      "name": "617. Merge Two Binary Trees.ipynb",
      "provenance": [],
      "authorship_tag": "ABX9TyOhjwwZmrQxO7d5vF2/1tPA",
      "include_colab_link": true
    },
    "kernelspec": {
      "name": "python3",
      "display_name": "Python 3"
    },
    "language_info": {
      "name": "python"
    }
  },
  "cells": [
    {
      "cell_type": "markdown",
      "metadata": {
        "id": "view-in-github",
        "colab_type": "text"
      },
      "source": [
        "<a href=\"https://colab.research.google.com/github/siddiqui16/leet_code/blob/colab/617_Merge_Two_Binary_Trees.ipynb\" target=\"_parent\"><img src=\"https://colab.research.google.com/assets/colab-badge.svg\" alt=\"Open In Colab\"/></a>"
      ]
    },
    {
      "cell_type": "markdown",
      "source": [
        "[https://leetcode.com/problems/merge-two-binary-trees/]"
      ],
      "metadata": {
        "id": "kYVTNEoH7BOd"
      }
    },
    {
      "cell_type": "code",
      "execution_count": null,
      "metadata": {
        "id": "qo8wJFnU1zWs"
      },
      "outputs": [],
      "source": [
        "# Definition for a binary tree node.\n",
        "# class TreeNode:\n",
        "#     def __init__(self, val=0, left=None, right=None):\n",
        "#         self.val = val\n",
        "#         self.left = left\n",
        "#         self.right = right\n",
        "class Solution:\n",
        "    def mergeTrees(self, root1: Optional[TreeNode], root2: Optional[TreeNode]) -> Optional[TreeNode]:\n",
        "        \n",
        "        if not (root1 or root2):\n",
        "            return None\n",
        "        \n",
        "        root = TreeNode() \n",
        "        seed = [(root1,root2, root)]\n",
        "        \n",
        "        while seed:\n",
        "            n1,n2,n = seed.pop(0)\n",
        "            \n",
        "            v1 = n1.val if n1 else 0\n",
        "            v2 = n2.val if n2 else 0\n",
        "            \n",
        "            n.val = v1+v2\n",
        "            \n",
        "            if n1 and n2:\n",
        "                if n1.left or n2.left:\n",
        "                    n.left = TreeNode()\n",
        "                    seed.append((n1.left, n2.left, n.left))\n",
        "\n",
        "                if n1.right or n2.right:\n",
        "                    n.right = TreeNode()\n",
        "                    seed.append((n1.right, n2.right, n.right))\n",
        "            elif n1:\n",
        "                if n1.left:\n",
        "                    n.left = TreeNode()\n",
        "                    seed.append((n1.left, None, n.left))\n",
        "\n",
        "                if n1.right:\n",
        "                    n.right = TreeNode()\n",
        "                    seed.append((n1.right, None, n.right))\n",
        "            elif n2:\n",
        "                if n2.left:\n",
        "                    n.left = TreeNode()\n",
        "                    seed.append((None, n2.left, n.left))\n",
        "\n",
        "                if n2.right:\n",
        "                    n.right = TreeNode()\n",
        "                    seed.append((None, n2.right, n.right))\n",
        "                    \n",
        "        return root\n",
        "                \n",
        "        "
      ]
    }
  ]
}