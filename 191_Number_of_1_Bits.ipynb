{
  "nbformat": 4,
  "nbformat_minor": 0,
  "metadata": {
    "colab": {
      "name": "191. Number of 1 Bits.ipynb",
      "provenance": [],
      "authorship_tag": "ABX9TyPwgdC4TgXX2sI1iOu6B2qv",
      "include_colab_link": true
    },
    "kernelspec": {
      "name": "python3",
      "display_name": "Python 3"
    },
    "language_info": {
      "name": "python"
    }
  },
  "cells": [
    {
      "cell_type": "markdown",
      "metadata": {
        "id": "view-in-github",
        "colab_type": "text"
      },
      "source": [
        "<a href=\"https://colab.research.google.com/github/siddiqui16/leet_code/blob/colab/191_Number_of_1_Bits.ipynb\" target=\"_parent\"><img src=\"https://colab.research.google.com/assets/colab-badge.svg\" alt=\"Open In Colab\"/></a>"
      ]
    },
    {
      "cell_type": "markdown",
      "source": [
        "[https://leetcode.com/problems/number-of-1-bits/]"
      ],
      "metadata": {
        "id": "QbtqBUEYdYWl"
      }
    },
    {
      "cell_type": "code",
      "execution_count": 29,
      "metadata": {
        "colab": {
          "base_uri": "https://localhost:8080/"
        },
        "id": "2VzFfI6CdVi2",
        "outputId": "d0a07556-ba76-43c1-9e3b-6e9e2264cd9f"
      },
      "outputs": [
        {
          "output_type": "stream",
          "name": "stdout",
          "text": [
            "11 1101\n",
            "3 3\n",
            "128 00000001\n",
            "1 1\n",
            "4294967293 10111111111111111111111111111111\n",
            "31 31\n"
          ]
        }
      ],
      "source": [
        "class Solution(object):\n",
        "    def hammingWeight(self, n):\n",
        "      b = []\n",
        "      n_ = n\n",
        "      while n_>0:\n",
        "        n_,r = n_//2,n_%2\n",
        "        b.append(f\"{r}\")\n",
        "      print(n,''.join(b))\n",
        "\n",
        "      c = 0\n",
        "      for i in b:\n",
        "        if i == \"1\":\n",
        "          c+=1\n",
        "      return c\n",
        "        \n",
        "\n",
        "s = Solution()\n",
        "\n",
        "inputs = [\n",
        "  (0b1011, 3),\n",
        "  (0b10000000, 1),\n",
        "  (0b11111111111111111111111111111101, 31),\n",
        "]\n",
        "\n",
        "for i,o in inputs:\n",
        "  print(o, s.hammingWeight(i))"
      ]
    }
  ]
}