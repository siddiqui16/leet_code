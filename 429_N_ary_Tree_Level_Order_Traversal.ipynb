{
  "nbformat": 4,
  "nbformat_minor": 0,
  "metadata": {
    "colab": {
      "name": "429. N-ary Tree Level Order Traversal.ipynb",
      "provenance": [],
      "authorship_tag": "ABX9TyOz6mZQJooNFIXVWPjDEr7O",
      "include_colab_link": true
    },
    "kernelspec": {
      "name": "python3",
      "display_name": "Python 3"
    },
    "language_info": {
      "name": "python"
    }
  },
  "cells": [
    {
      "cell_type": "markdown",
      "metadata": {
        "id": "view-in-github",
        "colab_type": "text"
      },
      "source": [
        "<a href=\"https://colab.research.google.com/github/siddiqui16/leet_code/blob/colab/429_N_ary_Tree_Level_Order_Traversal.ipynb\" target=\"_parent\"><img src=\"https://colab.research.google.com/assets/colab-badge.svg\" alt=\"Open In Colab\"/></a>"
      ]
    },
    {
      "cell_type": "markdown",
      "source": [
        "[https://leetcode.com/problems/n-ary-tree-level-order-traversal/]"
      ],
      "metadata": {
        "id": "Fjq4igjTYbJN"
      }
    },
    {
      "cell_type": "code",
      "execution_count": null,
      "metadata": {
        "id": "zg-nxba-YUyh"
      },
      "outputs": [],
      "source": [
        "\"\"\"\n",
        "# Definition for a Node.\n",
        "class Node:\n",
        "    def __init__(self, val=None, children=None):\n",
        "        self.val = val\n",
        "        self.children = children\n",
        "\"\"\"\n",
        "\n",
        "class Solution:\n",
        "    def levelOrder(self, root: 'Node') -> List[List[int]]:\n",
        "        r = {}\n",
        "        \n",
        "        if not root:\n",
        "            return r\n",
        "        \n",
        "        seed = [(root,0)]\n",
        "        max_level = 0\n",
        "        \n",
        "        while seed:\n",
        "            node,l = seed.pop(0)\n",
        "            max_level = max(max_level, l)\n",
        "            if l not in r:\n",
        "                r[l] = []\n",
        "            r[l].append(node.val)\n",
        "            \n",
        "            for c in node.children:\n",
        "                seed.append((c,l+1))\n",
        "\n",
        "        return [r[i] for i in range(max_level+1)]\n",
        "                "
      ]
    }
  ]
}