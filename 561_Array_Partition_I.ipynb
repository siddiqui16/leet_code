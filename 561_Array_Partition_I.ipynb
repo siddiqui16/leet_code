{
  "nbformat": 4,
  "nbformat_minor": 0,
  "metadata": {
    "colab": {
      "name": "561. Array Partition I.ipynb",
      "provenance": [],
      "authorship_tag": "ABX9TyN5p0MoH0F2xAy5Tf4WKb2D",
      "include_colab_link": true
    },
    "kernelspec": {
      "name": "python3",
      "display_name": "Python 3"
    },
    "language_info": {
      "name": "python"
    }
  },
  "cells": [
    {
      "cell_type": "markdown",
      "metadata": {
        "id": "view-in-github",
        "colab_type": "text"
      },
      "source": [
        "<a href=\"https://colab.research.google.com/github/siddiqui16/leet_code/blob/colab/561_Array_Partition_I.ipynb\" target=\"_parent\"><img src=\"https://colab.research.google.com/assets/colab-badge.svg\" alt=\"Open In Colab\"/></a>"
      ]
    },
    {
      "cell_type": "markdown",
      "source": [
        "[https://leetcode.com/problems/array-partition-i/]"
      ],
      "metadata": {
        "id": "uSDH5aSZnspr"
      }
    },
    {
      "cell_type": "code",
      "execution_count": 30,
      "metadata": {
        "colab": {
          "base_uri": "https://localhost:8080/"
        },
        "id": "--y7CzDLhOjC",
        "outputId": "9d0ded74-2caf-486b-8e49-2e80632e0640"
      },
      "outputs": [
        {
          "output_type": "stream",
          "name": "stdout",
          "text": [
            "7 [7]\n",
            "3 [3, 7]\n",
            "1 [1, 7, 3]\n",
            "0 [0, 1, 3, 7]\n",
            "0 [0, 0, 3, 7, 1]\n",
            "6 [0, 0, 3, 7, 1, 6]\n",
            "0 [0, 1, 3, 7, 6]\n",
            "0 [1, 6, 3, 7]\n",
            "1 [3, 6, 7]\n",
            "3 [6, 7]\n",
            "6 [7]\n",
            "7 []\n"
          ]
        },
        {
          "output_type": "execute_result",
          "data": {
            "text/plain": [
              "7"
            ]
          },
          "metadata": {},
          "execution_count": 30
        }
      ],
      "source": [
        "class MinHeap:\n",
        "    def __init__(self):\n",
        "        self.h = [None] * 20000\n",
        "        self.tail = -1\n",
        "\n",
        "    def left(self, i):\n",
        "        l = i*2 + 1\n",
        "        if l <= self.tail:\n",
        "          return l\n",
        "        return None\n",
        "        \n",
        "    def right(self, i):\n",
        "        r = i*2 + 2\n",
        "        if r <= self.tail:\n",
        "          return r\n",
        "        return None\n",
        "\n",
        "    def add(self, v):\n",
        "        self.tail += 1\n",
        "        self.h[self.tail] = v\n",
        "        self.harmonise_up(self.tail)\n",
        "        print(v, self.h[:self.tail+1])\n",
        "        \n",
        "    def pop(self):\n",
        "        if self.tail < 0:\n",
        "            return None\n",
        "        v = self.h[0]\n",
        "        self.h[0] = self.h[self.tail]\n",
        "        self.tail -= 1\n",
        "        self.harmonise_down(0)\n",
        "        print(v, self.h[:self.tail+1])\n",
        "        return v\n",
        "        \n",
        "    def harmonise_up(self, i):\n",
        "        p = (i - 1)//2\n",
        "        if p>-1 and self.h[i] < self.h[p]:\n",
        "            x = self.h[i]\n",
        "            self.h[i] = self.h[p]\n",
        "            self.h[p] = x\n",
        "            if p>0:\n",
        "              self.harmonise_up(p)\n",
        "\n",
        "        \n",
        "    def harmonise_down(self, i):\n",
        "        if i > self.tail:\n",
        "            return\n",
        "        l = self.left(i)\n",
        "        r = self.right(i)\n",
        "        if l:\n",
        "          s = l\n",
        "          if r:\n",
        "            if self.h[r]<self.h[s]:\n",
        "              s = r\n",
        "          if self.h[i] > self.h[s]:\n",
        "              x = self.h[i]\n",
        "              self.h[i] = self.h[s]\n",
        "              self.h[s] = x\n",
        "              self.harmonise_down(s)\n",
        "\n",
        "    \n",
        "class Solution(object):\n",
        "    def arrayPairSum(self, nums):\n",
        "        h = MinHeap()\n",
        "        for v in nums:\n",
        "            h.add(v)\n",
        "        s = 0\n",
        "        for i, v in enumerate(nums):\n",
        "            v = h.pop()\n",
        "            if i % 2 == 0:\n",
        "              s += v\n",
        "        return s\n",
        "\n",
        "s = Solution()\n",
        "#s.arrayPairSum([1,2,3,4])\n",
        "s.arrayPairSum([7,3,1,0,0,6])"
      ]
    }
  ]
}