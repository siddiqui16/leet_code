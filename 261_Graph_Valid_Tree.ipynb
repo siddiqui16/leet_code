{
  "nbformat": 4,
  "nbformat_minor": 0,
  "metadata": {
    "colab": {
      "name": "261. Graph Valid Tree.ipynb",
      "provenance": [],
      "authorship_tag": "ABX9TyPHKQ6pPY/9+PL4uRuVj+DS",
      "include_colab_link": true
    },
    "kernelspec": {
      "name": "python3",
      "display_name": "Python 3"
    },
    "language_info": {
      "name": "python"
    }
  },
  "cells": [
    {
      "cell_type": "markdown",
      "metadata": {
        "id": "view-in-github",
        "colab_type": "text"
      },
      "source": [
        "<a href=\"https://colab.research.google.com/github/siddiqui16/leet_code/blob/colab/261_Graph_Valid_Tree.ipynb\" target=\"_parent\"><img src=\"https://colab.research.google.com/assets/colab-badge.svg\" alt=\"Open In Colab\"/></a>"
      ]
    },
    {
      "cell_type": "markdown",
      "source": [
        "[https://leetcode.com/problems/graph-valid-tree/]\n",
        "👎"
      ],
      "metadata": {
        "id": "P3Wyo3vSK3Do"
      }
    },
    {
      "cell_type": "code",
      "execution_count": 63,
      "metadata": {
        "colab": {
          "base_uri": "https://localhost:8080/"
        },
        "id": "AqzqyZahK1Fr",
        "outputId": "ee8a1112-d21c-4957-b69c-41121805943a"
      },
      "outputs": [
        {
          "output_type": "stream",
          "name": "stdout",
          "text": [
            "________________________________________\n",
            "[[1, 2, 3], [0, 4], [0], [0], [1]]\n",
            "{0: -1, 1: 0, 2: 0, 3: 0, 4: 1}\n",
            "True True [[0, 1], [0, 2], [0, 3], [1, 4]]\n",
            "________________________________________\n",
            "False False [[0, 1], [1, 2], [2, 3], [1, 3], [1, 4]]\n",
            "________________________________________\n",
            "False False [[0, 1], [2, 3]]\n",
            "________________________________________\n",
            "[[]]\n",
            "{0: -1}\n",
            "True True []\n",
            "________________________________________\n",
            "[[2], [2], [0, 1]]\n",
            "{0: -1, 2: 0, 1: 2}\n",
            "True True [[2, 0], [2, 1]]\n",
            "________________________________________\n",
            "[[1], [0, 2], [3, 1], [2]]\n",
            "{0: -1, 1: 0, 2: 1, 3: 2}\n",
            "True True [[0, 1], [2, 3], [1, 2]]\n",
            "________________________________________\n",
            "False False [[1, 0], [0, 2], [2, 1]]\n"
          ]
        }
      ],
      "source": [
        "class Solution:\n",
        "    def validTree(self, n: int, edges) -> bool:\n",
        "        if len(edges) != n-1:\n",
        "            return False\n",
        "\n",
        "        adj_list = [[] for _ in range(n)]\n",
        "        for A, B in edges:\n",
        "            adj_list[A].append(B)\n",
        "            adj_list[B].append(A)        \n",
        "        print(adj_list)\n",
        "\n",
        "        parent = {0: -1}\n",
        "        stack = [0]\n",
        "        \n",
        "        while stack:\n",
        "            node = stack.pop()\n",
        "            for neighbour in adj_list[node]:\n",
        "                if neighbour == parent[node]:\n",
        "                    continue\n",
        "                if neighbour in parent:\n",
        "                    return False\n",
        "                parent[neighbour] = node\n",
        "                stack.append(neighbour)\n",
        "        \n",
        "        print(parent)\n",
        "        return len(parent) == n\n",
        "\n",
        "inputs = [\n",
        "    (5, [[0,1],[0,2],[0,3],[1,4]], True),\n",
        "    (5, [[0,1],[1,2],[2,3],[1,3],[1,4]], False),\n",
        "    (4, [[0,1],[2,3]], False),\n",
        "    (1, [], True),\n",
        "    (3, [[2,0],[2,1]], True),\n",
        "    (4, [[0,1],[2,3],[1,2]], True),\n",
        "    (3, [[1,0],[0,2],[2,1]], False)\n",
        "]\n",
        "\n",
        "for i,j,o in inputs:\n",
        "    s=Solution()\n",
        "    print(\"_\"*40)\n",
        "    print(o, s.validTree(i,j), j) "
      ]
    }
  ]
}