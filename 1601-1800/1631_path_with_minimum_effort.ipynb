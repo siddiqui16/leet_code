{
  "cells": [
    {
      "cell_type": "markdown",
      "metadata": {
        "id": "view-in-github",
        "colab_type": "text"
      },
      "source": [
        "<a href=\"https://colab.research.google.com/github/siddiqui16/leet_code/blob/colab/1631_Path_With_Minimum_Effort.ipynb\" target=\"_parent\"><img src=\"https://colab.research.google.com/assets/colab-badge.svg\" alt=\"Open In Colab\"/></a>"
      ]
    },
    {
      "cell_type": "markdown",
      "metadata": {
        "id": "2-CXIl5moCan"
      },
      "source": [
        "# [1631. Path With Minimum Effort](https://leetcode.com/problems/path-with-minimum-effort/)"
      ]
    },
    {
      "cell_type": "code",
      "execution_count": 203,
      "metadata": {
        "colab": {
          "base_uri": "https://localhost:8080/"
        },
        "id": "a0Nz4_C0n-Dl",
        "outputId": "91e2b888-67e0-4826-d0b2-d89218852cec"
      },
      "outputs": [
        {
          "output_type": "stream",
          "name": "stdout",
          "text": [
            "2 2\n",
            "1 1\n",
            "0 0\n"
          ]
        }
      ],
      "source": [
        "class Solution:\n",
        "    def minimumEffortPath(self, heights, x=0, y=0, visited = set()):\n",
        "      visited.add((x,y))\n",
        "      X = len(heights)\n",
        "      Y = len(heights[0])\n",
        "\n",
        "      if x== X-1 and y==Y-1:\n",
        "        e = [0]\n",
        "      else:\n",
        "        e = []\n",
        "        for i,j in [(0,1), (1,0), (0,-1), (-1,0)]:\n",
        "          x_, y_ = x+i, y+j \n",
        "          if x_>-1 and y_>-1 and x_<X and y_<Y and (x_,y_) not in visited:\n",
        "            #print(\"-\"*len(visited),(x,y), \">>>\", (x_,y_), visited, e)\n",
        "            e_ = max(abs(heights[x][y] - heights[x_][y_]), \n",
        "                    self.minimumEffortPath(heights, x_, y_, visited))\n",
        "            e += [e_]\n",
        "      if len(visited)<3:\n",
        "        #print(\"-\"*len(visited),e,visited)\n",
        "        pass\n",
        "      visited.remove((x,y))\n",
        "      return min(e) if len(e) > 0 else 100000000\n",
        "\n",
        "s = Solution()\n",
        "\n",
        "tests = [\n",
        "  (2, [[1,2,2],[3,8,2],[5,3,5]]),\n",
        "  (1, [[1,2,3],[3,8,4],[5,3,5]]),\n",
        "  (0, [[1,2,1,1,1],[1,2,1,2,1],[1,2,1,2,1],[1,2,1,2,1],[1,1,1,2,1]])       \n",
        "]\n",
        "\n",
        "for o, i in tests:\n",
        "  print(o, s.minimumEffortPath(i))"
      ]
    },
    {
      "cell_type": "code",
      "execution_count": 202,
      "metadata": {
        "colab": {
          "base_uri": "https://localhost:8080/"
        },
        "id": "BKI0xj6Zuu5T",
        "outputId": "06654eb5-1d88-4599-da33-26873a1c43b3"
      },
      "outputs": [
        {
          "output_type": "stream",
          "name": "stdout",
          "text": [
            "2 2\n",
            "1 1\n",
            "0 0\n"
          ]
        }
      ],
      "source": [
        ""
      ]
    }
  ],
  "metadata": {
    "colab": {
      "name": "1631. Path With Minimum Effort.ipynb",
      "provenance": [],
      "authorship_tag": "ABX9TyPhiD/pi1isVk8lJy5GeZk+",
      "include_colab_link": true
    },
    "kernelspec": {
      "display_name": "Python 3",
      "name": "python3"
    },
    "language_info": {
      "name": "python"
    }
  },
  "nbformat": 4,
  "nbformat_minor": 0
}