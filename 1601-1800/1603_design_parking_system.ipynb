{
  "nbformat": 4,
  "nbformat_minor": 0,
  "metadata": {
    "colab": {
      "name": "1603. Design Parking System.ipynb",
      "provenance": [],
      "authorship_tag": "ABX9TyN1cExQeqHj8lBY3obhGnH6",
      "include_colab_link": true
    },
    "kernelspec": {
      "name": "python3",
      "display_name": "Python 3"
    },
    "language_info": {
      "name": "python"
    }
  },
  "cells": [
    {
      "cell_type": "markdown",
      "metadata": {
        "id": "view-in-github",
        "colab_type": "text"
      },
      "source": [
        "<a href=\"https://colab.research.google.com/github/siddiqui16/leet_code/blob/colab/1603_Design_Parking_System.ipynb\" target=\"_parent\"><img src=\"https://colab.research.google.com/assets/colab-badge.svg\" alt=\"Open In Colab\"/></a>"
      ]
    },
    {
      "cell_type": "markdown",
      "source": [
        "[https://leetcode.com/problems/design-parking-system/]"
      ],
      "metadata": {
        "id": "2ipCLJoPxac8"
      }
    },
    {
      "cell_type": "code",
      "execution_count": null,
      "metadata": {
        "id": "2YqpfdnZxV-C"
      },
      "outputs": [],
      "source": [
        "from enum import Enum\n",
        "\n",
        "SMALL = 3\n",
        "MEDIUM = 2\n",
        "BIG = 1\n",
        "\n",
        "class ParkingSystem:\n",
        "\n",
        "    def __init__(self, big: int, medium: int, small: int):\n",
        "        self.slots = {\n",
        "            SMALL:small, \n",
        "            MEDIUM:medium,\n",
        "            BIG:big}\n",
        "        print(self.slots)\n",
        "        \n",
        "\n",
        "    def addCar(self, carType: int) -> bool:\n",
        "        if self.slots[carType] > 0:\n",
        "            self.slots[carType] -= 1\n",
        "            return True\n",
        "        else:\n",
        "            return False\n",
        "        \n",
        "\n",
        "\n",
        "# Your ParkingSystem object will be instantiated and called as such:\n",
        "# obj = ParkingSystem(big, medium, small)\n",
        "# param_1 = obj.addCar(carType)"
      ]
    }
  ]
}