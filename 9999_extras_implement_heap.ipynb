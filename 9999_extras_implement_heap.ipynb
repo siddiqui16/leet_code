{
  "nbformat": 4,
  "nbformat_minor": 0,
  "metadata": {
    "colab": {
      "name": "9999_extras_implement_heap.ipynb",
      "provenance": [],
      "authorship_tag": "ABX9TyOneHQ4fxKwyYQENQjrGjdg",
      "include_colab_link": true
    },
    "kernelspec": {
      "name": "python3",
      "display_name": "Python 3"
    },
    "language_info": {
      "name": "python"
    }
  },
  "cells": [
    {
      "cell_type": "markdown",
      "metadata": {
        "id": "view-in-github",
        "colab_type": "text"
      },
      "source": [
        "<a href=\"https://colab.research.google.com/github/siddiqui16/leet_code/blob/colab/9999_extras_implement_heap.ipynb\" target=\"_parent\"><img src=\"https://colab.research.google.com/assets/colab-badge.svg\" alt=\"Open In Colab\"/></a>"
      ]
    },
    {
      "cell_type": "markdown",
      "source": [
        ""
      ],
      "metadata": {
        "id": "EtVnR-BLRyqn"
      }
    },
    {
      "cell_type": "code",
      "execution_count": 163,
      "metadata": {
        "colab": {
          "base_uri": "https://localhost:8080/"
        },
        "id": "ck4MS4MsRhV7",
        "outputId": "4f181cad-32aa-4eae-d4c1-99e5cc1d7f86"
      },
      "outputs": [
        {
          "output_type": "stream",
          "name": "stdout",
          "text": [
            "0        92        \n",
            "1    71    89    \n",
            "2  35  53  65  84  \n",
            "3  1 23 18 51 32 60 45 80 \n",
            "--------------------------------------------------------------------------------------------\n",
            "-----------------------------------------------------------------------------------------\n",
            "------------------------------------------------------------------------------------\n",
            "--------------------------------------------------------------------------------\n",
            "-----------------------------------------------------------------------\n",
            "-----------------------------------------------------------------\n",
            "------------------------------------------------------------\n",
            "-----------------------------------------------------\n",
            "---------------------------------------------------\n",
            "---------------------------------------------\n"
          ]
        }
      ],
      "source": [
        "import numpy as np\n",
        "from collections import deque\n",
        "\n",
        "class Heap:\n",
        "  def __init__(self, size=100, type = \"min\"):\n",
        "    self.type = type\n",
        "    self.size = size\n",
        "    self.heap = [None] * self.size\n",
        "    self.tail = -1\n",
        "\n",
        "  def compare(self, x,y):\n",
        "    if self.type == \"min\":\n",
        "      return x < y\n",
        "    else:\n",
        "      return x > y \n",
        "\n",
        "  def left(self, idx):\n",
        "    left = idx*2 + 1\n",
        "    return left if self.heap[left] else -1\n",
        "\n",
        "  def right(self, idx):\n",
        "    right = idx*2 + 2\n",
        "    return right if self.heap[right] else -1\n",
        "\n",
        "  def parent(self, idx):\n",
        "    return (idx-1)//2\n",
        "\n",
        "  def add(self, value):\n",
        "    self.tail += 1\n",
        "    self.heap[self.tail] = value\n",
        "    self.harmonise_up(self.tail)\n",
        "\n",
        "  def harmonise_up(self, i):\n",
        "    p = self.parent(i) \n",
        "    if p > -1:\n",
        "      if self.compare(self.heap[i], self.heap[p]):\n",
        "        x = self.heap[i]\n",
        "        self.heap[i] = self.heap[p]\n",
        "        self.heap[p] = x\n",
        "        self.harmonise_up(p)\n",
        "\n",
        "  def harmonise_down(self, i):\n",
        "    l = self.left(i) \n",
        "    r = self.right(i) \n",
        "\n",
        "    flag = False\n",
        "    if l > -1:\n",
        "      if self.compare(self.heap[l], self.heap[i]):\n",
        "        x = self.heap[i]\n",
        "        self.heap[i] = self.heap[l]\n",
        "        self.heap[l] = x\n",
        "        self.harmonise_down(l)\n",
        "        flag = True\n",
        "\n",
        "    if r > -1:\n",
        "      if self.compare(self.heap[r], self.heap[i]):\n",
        "        x = self.heap[i]\n",
        "        self.heap[i] = self.heap[r]\n",
        "        self.heap[r] = x\n",
        "        self.harmonise_down(r)\n",
        "\n",
        "  def delete_root(self):\n",
        "    self.heap[0] = self.heap[self.tail]\n",
        "    self.heap[self.tail] = None\n",
        "    self.tail-=1\n",
        "    self.harmonise_down(0)\n",
        "\n",
        "\n",
        "  def to_tree(self):\n",
        "    if self.tail < 0:\n",
        "      return \"Empty\"\n",
        "    N = int(np.log2(self.tail+1)) + 0\n",
        "\n",
        "    nodes = deque() # id, height, column\n",
        "    nodes.append((0,0,0))\n",
        "\n",
        "    curr_h = 0\n",
        "\n",
        "    str_list = []\n",
        "    str_level = [f\"{curr_h}\",' '*np.power(2,(N-curr_h))]\n",
        "\n",
        "    #print(self.heap[:self.tail+1])\n",
        "    while nodes:\n",
        "      n_idx,n_h,n_c = nodes.popleft()      \n",
        "\n",
        "      if n_h > curr_h:\n",
        "        str_list.append(str_level)\n",
        "        curr_h += 1\n",
        "        str_level = [f\"{curr_h}\", ' '*np.power(2,(N-curr_h))]\n",
        "\n",
        "      str_level.append(f\"{self.heap[n_idx]:2}{' '*np.power(2,(N-curr_h))}\")\n",
        "\n",
        "      #print(curr_h, self.heap[n_idx], (n_idx,n_h,n_c), str_level, nodes)\n",
        "\n",
        "      if self.left(n_idx) > -1:\n",
        "        nodes.append((self.left(n_idx), n_h+1, n_c-1))\n",
        "\n",
        "      if self.right(n_idx) > -1:\n",
        "        nodes.append((self.right(n_idx), n_h+1, n_c+1))\n",
        "    str_list.append(str_level)\n",
        "      \n",
        "    final_str = \"\\n\".join([\"\".join(l) for l in str_list])\n",
        "    return final_str\n",
        "\n",
        "  def __repr__(self):\n",
        "    return self.__str__()\n",
        "\n",
        "  def __str__(self):\n",
        "    return self.to_tree()\n",
        "\n",
        "\n",
        "N = 10000000\n",
        "h = Heap(N, \"max\")\n",
        "for i in range(15):\n",
        "  num = np.random.randint(1,100)\n",
        "  h.add(num)\n",
        "\n",
        "print(h)\n",
        "for i in range(10):\n",
        "  print(\"-\"*h.heap[0])\n",
        "  h.delete_root()\n",
        "  #print(h)\n"
      ]
    }
  ]
}