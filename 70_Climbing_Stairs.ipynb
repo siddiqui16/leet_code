{
  "nbformat": 4,
  "nbformat_minor": 0,
  "metadata": {
    "colab": {
      "name": "70. Climbing Stairs.ipynb",
      "provenance": [],
      "authorship_tag": "ABX9TyMvpIGBUTji4VL0NOGXmRgf",
      "include_colab_link": true
    },
    "kernelspec": {
      "name": "python3",
      "display_name": "Python 3"
    },
    "language_info": {
      "name": "python"
    }
  },
  "cells": [
    {
      "cell_type": "markdown",
      "metadata": {
        "id": "view-in-github",
        "colab_type": "text"
      },
      "source": [
        "<a href=\"https://colab.research.google.com/github/siddiqui16/leet_code/blob/colab/70_Climbing_Stairs.ipynb\" target=\"_parent\"><img src=\"https://colab.research.google.com/assets/colab-badge.svg\" alt=\"Open In Colab\"/></a>"
      ]
    },
    {
      "cell_type": "markdown",
      "source": [
        "[https://leetcode.com/problems/climbing-stairs/]"
      ],
      "metadata": {
        "id": "lQ-RLzjxFIKZ"
      }
    },
    {
      "cell_type": "markdown",
      "source": [
        "# Recursion"
      ],
      "metadata": {
        "id": "Dt34xwrUFMhz"
      }
    },
    {
      "cell_type": "code",
      "execution_count": 19,
      "metadata": {
        "colab": {
          "base_uri": "https://localhost:8080/"
        },
        "id": "F2h3JPkqDwkw",
        "outputId": "c88071c6-ac62-4ef2-92ab-1633dd491d4e"
      },
      "outputs": [
        {
          "output_type": "stream",
          "name": "stdout",
          "text": [
            "0 1 1\n",
            "1 1 1\n",
            "2 2 3\n",
            "3 3 5\n",
            "4 5 9\n",
            "5 8 15\n",
            "6 13 25\n",
            "7 21 41\n",
            "8 34 67\n",
            "9 55 109\n"
          ]
        }
      ],
      "source": [
        "class Solution:\n",
        "    cnt = 0\n",
        "    def climbStairs(self, n):\n",
        "      self.cnt+=1\n",
        "      if n == 0:\n",
        "        return 1\n",
        "      if n == 1:\n",
        "        return 1\n",
        "      return self.climbStairs(n-1) + self.climbStairs(n-2)\n",
        "\n",
        "\n",
        "for i in range(10):\n",
        "  s = Solution()\n",
        "  print(i, s.climbStairs(i), s.cnt)"
      ]
    },
    {
      "cell_type": "markdown",
      "source": [
        "# Recursion with memoisation"
      ],
      "metadata": {
        "id": "JbrfGIzKFRCs"
      }
    },
    {
      "cell_type": "code",
      "source": [
        "class Solution:\n",
        "    cnt = 0\n",
        "    p = {0:1, 1:1}\n",
        "    def __init__(self):\n",
        "      self.cnt=0\n",
        "    def climbStairs(self, n):\n",
        "      if n in self.p:\n",
        "        return self.p[n]\n",
        "\n",
        "      self.cnt+=1\n",
        "      n1 = n-1\n",
        "      n2 = n-2\n",
        "\n",
        "      if n1 not in self.p:\n",
        "        self.p[n1] = self.climbStairs(n-1)\n",
        "      if n2 not in self.p:\n",
        "        self.p[n2] = self.climbStairs(n-2)\n",
        "\n",
        "      return  self.p[n1] + self.p[n2]\n",
        "\n",
        "\n",
        "for i in range(10):\n",
        "  s = Solution()\n",
        "  print(i, s.climbStairs(i), s.cnt)"
      ],
      "metadata": {
        "colab": {
          "base_uri": "https://localhost:8080/"
        },
        "id": "SJIy7Z03FRmF",
        "outputId": "61f28255-1df1-4697-81af-84c58fcbd315"
      },
      "execution_count": 29,
      "outputs": [
        {
          "output_type": "stream",
          "name": "stdout",
          "text": [
            "0 1 0\n",
            "1 1 0\n",
            "2 2 1\n",
            "3 3 2\n",
            "4 5 2\n",
            "5 8 2\n",
            "6 13 2\n",
            "7 21 2\n",
            "8 34 2\n",
            "9 55 2\n"
          ]
        }
      ]
    },
    {
      "cell_type": "markdown",
      "source": [
        "# DP"
      ],
      "metadata": {
        "id": "lcFqaJ-nH8CN"
      }
    },
    {
      "cell_type": "code",
      "source": [
        "class Solution:\n",
        "    def climbStairs(self, n):\n",
        "      p = [0] * max(n + 1, 2)\n",
        "      p[0] = 1\n",
        "      p[1] = 1\n",
        "      for i in range(2,n+1):\n",
        "        p[i] = p[i-1] + p[i-2]\n",
        "      return p[n]\n",
        "\n",
        "for i in range(10):\n",
        "  s = Solution()\n",
        "  print(i, s.climbStairs(i))"
      ],
      "metadata": {
        "colab": {
          "base_uri": "https://localhost:8080/"
        },
        "id": "OUkJ3PAbH8fC",
        "outputId": "b6260232-12d5-4b10-98d2-33c5ceb6e2d2"
      },
      "execution_count": 34,
      "outputs": [
        {
          "output_type": "stream",
          "name": "stdout",
          "text": [
            "0 1\n",
            "1 1\n",
            "2 2\n",
            "3 3\n",
            "4 5\n",
            "5 8\n",
            "6 13\n",
            "7 21\n",
            "8 34\n",
            "9 55\n"
          ]
        }
      ]
    }
  ]
}