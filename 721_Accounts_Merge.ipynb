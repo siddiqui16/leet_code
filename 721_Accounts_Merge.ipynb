{
  "nbformat": 4,
  "nbformat_minor": 0,
  "metadata": {
    "colab": {
      "name": "721. Accounts Merge.ipynb",
      "provenance": [],
      "authorship_tag": "ABX9TyNL9/K9mtw60hyh84ajthJc",
      "include_colab_link": true
    },
    "kernelspec": {
      "name": "python3",
      "display_name": "Python 3"
    },
    "language_info": {
      "name": "python"
    }
  },
  "cells": [
    {
      "cell_type": "markdown",
      "metadata": {
        "id": "view-in-github",
        "colab_type": "text"
      },
      "source": [
        "<a href=\"https://colab.research.google.com/github/siddiqui16/leet_code/blob/colab/721_Accounts_Merge.ipynb\" target=\"_parent\"><img src=\"https://colab.research.google.com/assets/colab-badge.svg\" alt=\"Open In Colab\"/></a>"
      ]
    },
    {
      "cell_type": "markdown",
      "source": [
        "[https://leetcode.com/problems/accounts-merge/]"
      ],
      "metadata": {
        "id": "LSGlejWm3UfC"
      }
    },
    {
      "cell_type": "code",
      "execution_count": null,
      "metadata": {
        "id": "IRFQ1c2A3JxQ"
      },
      "outputs": [],
      "source": [
        "class Solution:\n",
        "    def accountsMerge(self, accounts: List[List[str]]) -> List[List[str]]:\n",
        "        n = len(accounts)\n",
        "        \n",
        "        me = {}\n",
        "        mi = {}\n",
        "        \n",
        "        for i in range(n):\n",
        "            a = accounts[i]\n",
        "            name = a[0]\n",
        "            emails = a[1:]\n",
        "            \n",
        "            for e in emails:\n",
        "                if e not in me:\n",
        "                    me[e] = set()\n",
        "                    mi[e] = set()\n",
        "                me[e].update(emails)\n",
        "                mi[e].add(i)\n",
        "                \n",
        "        all_emails = set(me.keys())\n",
        "        \n",
        "        res = []\n",
        "        visited = set()\n",
        "        while all_emails:\n",
        "            email = all_emails.pop()\n",
        "            if email in visited:\n",
        "                continue\n",
        "            seed = [email]\n",
        "            visited.add(email)\n",
        "            \n",
        "            idxs = []\n",
        "            while seed:\n",
        "                e = seed.pop(0)\n",
        "                idxs.extend(mi[e])\n",
        "                \n",
        "                for e_ in me[e]:\n",
        "                    if e_ not in visited:\n",
        "                        seed.append(e_)\n",
        "                        visited.add(e_)\n",
        "            res.append(idxs)\n",
        "        \n",
        "        result = []\n",
        "        for idxs in res: \n",
        "            r = []\n",
        "            names = set()\n",
        "            emails = set()\n",
        "            for i in set(idxs):\n",
        "                a = accounts[i]\n",
        "                names.add(a[0])\n",
        "                emails.update(a[1:])\n",
        "            [r.append(x) for x in names]\n",
        "            [r.append(x) for x in sorted(emails)]\n",
        "            result.append(r)\n",
        "        return result\n",
        "        \n",
        "            \n",
        "        "
      ]
    }
  ]
}