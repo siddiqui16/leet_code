{
 "cells": [
  {
   "cell_type": "code",
   "execution_count": 13,
   "metadata": {},
   "outputs": [
    {
     "name": "stdout",
     "output_type": "stream",
     "text": [
      "1:0 [1, 2, 3, 0, 0, 0]\n",
      "2:0 [1, 2, 3, 0, 0, 0]\n",
      "3:1 [1, 2, 2, 3, 0, 0]\n",
      "4:1 [1, 2, 2, 3, 0, 0]\n",
      "4:1 [1, 2, 2, 3, 5, 6]\n"
     ]
    }
   ],
   "source": [
    "class Solution:\n",
    "    def merge(self, nums1, m, nums2, n):\n",
    "        \"\"\"\n",
    "        Do not return anything, modify nums1 in-place instead.\n",
    "        \"\"\"\n",
    "        \n",
    "        i = 0\n",
    "        j = 0\n",
    "        m_ = m\n",
    "        \n",
    "        while i<m_ and j<n:\n",
    "            if nums1[i] > nums2[j]:\n",
    "                nums1[i:] = [nums2[j]] + nums1[i:-1]\n",
    "                j+=1\n",
    "                m_+=1\n",
    "            i+=1\n",
    "            print(f\"{i}:{j} {nums1}\")\n",
    "        if j<n:\n",
    "            nums1[m_:] = nums2[j:]\n",
    "        print(f\"{i}:{j} {nums1}\")\n",
    "\n",
    "s = Solution()\n",
    "s.merge(nums1 = [1,2,3,0,0,0], m = 3, nums2 = [2,5,6], n = 3)\n",
    "\n",
    "        \n",
    "        \n",
    "            "
   ]
  },
  {
   "cell_type": "code",
   "execution_count": 4,
   "metadata": {},
   "outputs": [
    {
     "name": "stdout",
     "output_type": "stream",
     "text": [
      "[1, 2, 2, 3, 5, 6]\n",
      "[1, 2, 2, 3, 5, 6]\n"
     ]
    }
   ],
   "source": [
    "class Solution(object):\n",
    "    def merge(self, nums1, m, nums2, n):\n",
    "        \"\"\"\n",
    "        :type nums1: List[int]\n",
    "        :type m: int\n",
    "        :type nums2: List[int]\n",
    "        :type n: int\n",
    "        :rtype: None Do not return anything, modify nums1 in-place instead.\n",
    "        \"\"\"\n",
    "        i = 0\n",
    "        j = 0\n",
    "        res = []\n",
    "        \n",
    "        while i<m and j<n:\n",
    "            if nums1[i] <= nums2[j]:\n",
    "                res.append(nums1[i])\n",
    "                i+=1\n",
    "            else:\n",
    "                res.append(nums2[j])\n",
    "                j+=1\n",
    "                \n",
    "        if i<m:\n",
    "            res.extend(nums1[i:m])\n",
    "        else:\n",
    "            res.extend(nums2[j:n])\n",
    "        nums1[:] = res\n",
    "        print(nums1)\n",
    "            \n",
    "\n",
    "s = Solution()\n",
    "n1 = [1,2,3,0,0,0]\n",
    "\n",
    "s.merge(nums1 = n1, m = 3, nums2 = [2,5,6], n = 3)\n",
    "print(n1)"
   ]
  },
  {
   "cell_type": "code",
   "execution_count": 13,
   "metadata": {},
   "outputs": [
    {
     "name": "stdout",
     "output_type": "stream",
     "text": [
      "[1, 2, 2, 3, 0, 5, 6]\n"
     ]
    }
   ],
   "source": [
    "class Solution(object):\n",
    "    def merge(self, nums1, m, nums2, n):\n",
    "        \"\"\"\n",
    "        :type nums1: List[int]\n",
    "        :type m: int\n",
    "        :type nums2: List[int]\n",
    "        :type n: int\n",
    "        :rtype: None Do not return anything, modify nums1 in-place instead.\n",
    "        \"\"\"\n",
    "        i = 0\n",
    "        j = 0\n",
    "        res = []\n",
    "        \n",
    "        while i<m and j<n:\n",
    "            if nums1[i] <= nums2[j]:\n",
    "                i+=1\n",
    "            else:\n",
    "                nums1[i+1:m+1] = nums1[i:m]\n",
    "                nums1[i] = nums2[j]\n",
    "                j+=1\n",
    "                i+=1\n",
    "                m+=1\n",
    "        if j<n:\n",
    "            nums1[i+j:]=nums2[j:n]\n",
    "        \n",
    "            \n",
    "\n",
    "s = Solution()\n",
    "n1 = [1,2,3,0,0,0]\n",
    "\n",
    "s.merge(nums1 = n1, m = 3, nums2 = [2,5,6], n = 3)\n",
    "print(n1)"
   ]
  },
  {
   "cell_type": "code",
   "execution_count": null,
   "metadata": {},
   "outputs": [],
   "source": []
  }
 ],
 "metadata": {
  "kernelspec": {
   "display_name": "Python 3",
   "language": "python",
   "name": "python3"
  },
  "language_info": {
   "codemirror_mode": {
    "name": "ipython",
    "version": 3
   },
   "file_extension": ".py",
   "mimetype": "text/x-python",
   "name": "python",
   "nbconvert_exporter": "python",
   "pygments_lexer": "ipython3",
   "version": "3.7.3"
  }
 },
 "nbformat": 4,
 "nbformat_minor": 2
}
