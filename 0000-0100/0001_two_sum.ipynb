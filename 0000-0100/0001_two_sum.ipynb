{
 "cells": [
  {
   "cell_type": "code",
   "execution_count": 7,
   "metadata": {},
   "outputs": [
    {
     "data": {
      "text/plain": [
       "[1, 2]"
      ]
     },
     "execution_count": 7,
     "metadata": {},
     "output_type": "execute_result"
    }
   ],
   "source": [
    "class Solution:\n",
    "    def twoSum(self, nums, target):\n",
    "        n = len(nums)\n",
    "\n",
    "        N = {}        \n",
    "        for i in range(n):\n",
    "            if nums[i] not in N:\n",
    "                N[nums[i]] = []\n",
    "            N[nums[i]].append(i)\n",
    "        \n",
    "        for i in range(n):\n",
    "            x = target - nums[i]\n",
    "            if x in N:\n",
    "                l = N[x]\n",
    "                if len(l) and i==l[0]:\n",
    "                    continue\n",
    "                else:\n",
    "                    while l[0] == i:\n",
    "                        l = l[1:]\n",
    "                    return [i, l[0]]\n",
    "                        \n",
    "\n",
    "s = Solution()\n",
    "s.twoSum([3,3], 6)\n",
    "s.twoSum([3,2,4], 6)"
   ]
  },
  {
   "cell_type": "code",
   "execution_count": 4,
   "metadata": {},
   "outputs": [
    {
     "data": {
      "text/plain": [
       "[]"
      ]
     },
     "execution_count": 4,
     "metadata": {},
     "output_type": "execute_result"
    }
   ],
   "source": [
    "class Solution(object):\n",
    "    def twoSum(self, nums, target):\n",
    "        m = {}\n",
    "        \n",
    "        for i,n in enumerate(nums):\n",
    "            if target-n in m:\n",
    "                return [m[target-n], i]\n",
    "            else:\n",
    "                m[n]=i\n",
    "        return []\n",
    "    \n",
    "s = Solution()\n",
    "s.twoSum([3,3], 6)\n",
    "s.twoSum([3,2,4], 0)"
   ]
  }
 ],
 "metadata": {
  "kernelspec": {
   "display_name": "Python 3",
   "language": "python",
   "name": "python3"
  },
  "language_info": {
   "codemirror_mode": {
    "name": "ipython",
    "version": 3
   },
   "file_extension": ".py",
   "mimetype": "text/x-python",
   "name": "python",
   "nbconvert_exporter": "python",
   "pygments_lexer": "ipython3",
   "version": "3.7.3"
  }
 },
 "nbformat": 4,
 "nbformat_minor": 2
}
