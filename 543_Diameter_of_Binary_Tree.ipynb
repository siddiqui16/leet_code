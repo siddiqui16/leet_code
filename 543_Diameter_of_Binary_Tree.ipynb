{
  "nbformat": 4,
  "nbformat_minor": 0,
  "metadata": {
    "colab": {
      "name": "543. Diameter of Binary Tree.ipynb",
      "provenance": [],
      "authorship_tag": "ABX9TyNwUqh6bB6tHwT0qBx3FtjJ",
      "include_colab_link": true
    },
    "kernelspec": {
      "name": "python3",
      "display_name": "Python 3"
    },
    "language_info": {
      "name": "python"
    }
  },
  "cells": [
    {
      "cell_type": "markdown",
      "metadata": {
        "id": "view-in-github",
        "colab_type": "text"
      },
      "source": [
        "<a href=\"https://colab.research.google.com/github/siddiqui16/leet_code/blob/colab/543_Diameter_of_Binary_Tree.ipynb\" target=\"_parent\"><img src=\"https://colab.research.google.com/assets/colab-badge.svg\" alt=\"Open In Colab\"/></a>"
      ]
    },
    {
      "cell_type": "markdown",
      "source": [
        "[https://leetcode.com/problems/diameter-of-binary-tree]"
      ],
      "metadata": {
        "id": "ND_prz0dVoeH"
      }
    },
    {
      "cell_type": "code",
      "execution_count": null,
      "metadata": {
        "id": "zSXlqH72Vk53"
      },
      "outputs": [],
      "source": [
        "# Definition for a binary tree node.\n",
        "# class TreeNode:\n",
        "#     def __init__(self, val=0, left=None, right=None):\n",
        "#         self.val = val\n",
        "#         self.left = left\n",
        "#         self.right = right\n",
        "class Solution:\n",
        "    def diameterOfBinaryTree(self, root, l=0) -> int:\n",
        "        \n",
        "        hl, dl = 0,0\n",
        "        hr, dr = 0,0\n",
        "        if root.left:\n",
        "            hl, dl = self.diameterOfBinaryTree(root.left, l+1)\n",
        "            \n",
        "        if root.right:\n",
        "            hr, dr = self.diameterOfBinaryTree(root.right, l+1)\n",
        "        \n",
        "        h = max(hl,hr)\n",
        "        d = max(max(dl,dr), hl+hr)\n",
        "        \n",
        "        #print(\"*\"*l*2, root.val, h,d)\n",
        "        \n",
        "        if l==0:\n",
        "            return d\n",
        "        else:\n",
        "            return h+1,d"
      ]
    }
  ]
}