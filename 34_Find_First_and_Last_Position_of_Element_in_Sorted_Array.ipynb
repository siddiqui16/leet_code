{
  "nbformat": 4,
  "nbformat_minor": 0,
  "metadata": {
    "colab": {
      "name": "34. Find First and Last Position of Element in Sorted Array.ipynb",
      "provenance": [],
      "authorship_tag": "ABX9TyP+YJb7/p/6ylM+zKgmgSKM",
      "include_colab_link": true
    },
    "kernelspec": {
      "name": "python3",
      "display_name": "Python 3"
    },
    "language_info": {
      "name": "python"
    }
  },
  "cells": [
    {
      "cell_type": "markdown",
      "metadata": {
        "id": "view-in-github",
        "colab_type": "text"
      },
      "source": [
        "<a href=\"https://colab.research.google.com/github/siddiqui16/leet_code/blob/colab/34_Find_First_and_Last_Position_of_Element_in_Sorted_Array.ipynb\" target=\"_parent\"><img src=\"https://colab.research.google.com/assets/colab-badge.svg\" alt=\"Open In Colab\"/></a>"
      ]
    },
    {
      "cell_type": "markdown",
      "source": [
        "[https://leetcode.com/problems/find-first-and-last-position-of-element-in-sorted-array/]"
      ],
      "metadata": {
        "id": "vmpyaw1l5BOF"
      }
    },
    {
      "cell_type": "code",
      "execution_count": null,
      "metadata": {
        "id": "FIcpEs3j41_J"
      },
      "outputs": [],
      "source": [
        "class Solution:\n",
        "    def searchRange(self, nums: List[int], target: int) -> List[int]:\n",
        "        n = len(nums)\n",
        "        l,r = 0, n-1\n",
        "        \n",
        "        while l<=r:\n",
        "            k = (l+r)//2\n",
        "            if target <= nums[k]:\n",
        "                #print([l,k,r], f\"{target}<={nums[k]} <\")\n",
        "                r = k - 1\n",
        "            else:\n",
        "                #print([l,k,r], f\"{target}<={nums[k]} >\")\n",
        "                l = k + 1\n",
        "        si = l\n",
        "        \n",
        "        #print(\"-\"*40)\n",
        "        l,r = 0, n-1\n",
        "        while l<=r:\n",
        "            k = (l+r)//2\n",
        "            if target >= nums[k]:\n",
        "                #print([l,k,r], f\"{target}<={nums[k]} >\")\n",
        "                l = k + 1\n",
        "            else:\n",
        "                #print([l,k,r], f\"{target}<={nums[k]} <\")\n",
        "                r = k - 1\n",
        "        ei = r\n",
        "        #print([si,ei])\n",
        "        \n",
        "        if ei<si:\n",
        "            return [-1,-1]\n",
        "        \n",
        "        return [si,ei]"
      ]
    }
  ]
}