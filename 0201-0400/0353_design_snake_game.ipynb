{
  "nbformat": 4,
  "nbformat_minor": 0,
  "metadata": {
    "colab": {
      "name": "353. Design Snake Game.ipynb",
      "provenance": [],
      "authorship_tag": "ABX9TyP8NZeLt5bzUH3KK907/R/z",
      "include_colab_link": true
    },
    "kernelspec": {
      "name": "python3",
      "display_name": "Python 3"
    },
    "language_info": {
      "name": "python"
    }
  },
  "cells": [
    {
      "cell_type": "markdown",
      "metadata": {
        "id": "view-in-github",
        "colab_type": "text"
      },
      "source": [
        "<a href=\"https://colab.research.google.com/github/siddiqui16/leet_code/blob/colab/353_Design_Snake_Game.ipynb\" target=\"_parent\"><img src=\"https://colab.research.google.com/assets/colab-badge.svg\" alt=\"Open In Colab\"/></a>"
      ]
    },
    {
      "cell_type": "markdown",
      "source": [
        "[https://leetcode.com/problems/design-snake-game/]"
      ],
      "metadata": {
        "id": "eMMbOGSfxLKd"
      }
    },
    {
      "cell_type": "code",
      "execution_count": null,
      "metadata": {
        "id": "X1udHtBPw-rD"
      },
      "outputs": [],
      "source": [
        "MOVES = {\"R\": (0,1), \"L\": (0,-1), \"U\": (-1,0), \"D\": (1,0)}\n",
        "\n",
        "class Snake:\n",
        "    def __init__(self, length = 1):\n",
        "        self.position = [(0,0)]\n",
        "        self.length = length\n",
        "    \n",
        "    def move(self, direction: str):\n",
        "        r,c = self.getHead()\n",
        "        i,j = MOVES[direction]\n",
        "        \n",
        "        r_,c_ = r+i, c+j\n",
        "        \n",
        "        self.position.append((r_,c_))\n",
        "        if len(self.position) > self.length:\n",
        "            self.position.pop(0)\n",
        "        snakeOkay = self.snakeOkay() \n",
        "        \n",
        "        return snakeOkay\n",
        "    \n",
        "    def snakeOkay(self):\n",
        "        r,c = self.getHead()\n",
        "        body = set(self.position[:-1])\n",
        "        okay = True if (r,c) not in body else False\n",
        "        print(okay, (r,c),self.position[::-1])\n",
        "        return okay\n",
        "\n",
        "    \n",
        "    def getTail(self):\n",
        "        return self.position[0]\n",
        "    \n",
        "    def getHead(self):\n",
        "        return self.position[-1]\n",
        "    \n",
        "    def addLength(self):\n",
        "        self.length += 1\n",
        "    \n",
        "class SnakeGame:\n",
        "\n",
        "    def __init__(self, width: int, height: int, food: List[List[int]]):\n",
        "        self.m = height\n",
        "        self.n = width\n",
        "\n",
        "        self.curr_food_at = None\n",
        "        self.food = food\n",
        "        \n",
        "        self.snake = Snake()\n",
        "        self.score = 0\n",
        "        \n",
        "        self._addFood()\n",
        "        \n",
        "    def _addFood(self):\n",
        "        self.curr_food_at = None\n",
        "        if len(self.food):\n",
        "            f = self.food.pop(0)\n",
        "            self.curr_food_at = f\n",
        "        \n",
        "        \n",
        "        \n",
        "    def move(self, direction: str) -> int:\n",
        "        snakeOkay = self.snake.move(direction)\n",
        "        \n",
        "        if not snakeOkay:\n",
        "            return -1\n",
        "        \n",
        "        r,c = self.snake.getHead()\n",
        "        \n",
        "        if -1<r<self.m and -1<c<self.n:\n",
        "            if self.curr_food_at:\n",
        "                fr,fc = self.curr_food_at\n",
        "                if r==fr and c==fc:\n",
        "                    self.snake.addLength()\n",
        "                    self.score+=1\n",
        "                    self._addFood()\n",
        "            return self.score\n",
        "        else:\n",
        "            return -1\n",
        "        \n",
        "        \n",
        "\n",
        "\n",
        "# Your SnakeGame object will be instantiated and called as such:\n",
        "# obj = SnakeGame(width, height, food)\n",
        "# param_1 = obj.move(direction)"
      ]
    }
  ]
}