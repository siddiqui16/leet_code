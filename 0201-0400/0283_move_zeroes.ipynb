{
 "cells": [
  {
   "cell_type": "code",
   "execution_count": 2,
   "metadata": {},
   "outputs": [
    {
     "name": "stdout",
     "output_type": "stream",
     "text": [
      "[0, 1, 0, 3, 12, 0, 6, 7, 1, 0, 0, 8, 1, 0, 5]\n",
      "[1, 0, 0, 3, 12, 0, 6, 7, 1, 0, 0, 8, 1, 0, 5]\n",
      "[1, 3, 0, 0, 12, 0, 6, 7, 1, 0, 0, 8, 1, 0, 5]\n",
      "[1, 3, 12, 0, 0, 0, 6, 7, 1, 0, 0, 8, 1, 0, 5]\n",
      "[1, 3, 12, 6, 0, 0, 0, 7, 1, 0, 0, 8, 1, 0, 5]\n",
      "[1, 3, 12, 6, 7, 0, 0, 0, 1, 0, 0, 8, 1, 0, 5]\n",
      "[1, 3, 12, 6, 7, 1, 0, 0, 0, 0, 0, 8, 1, 0, 5]\n",
      "[1, 3, 12, 6, 7, 1, 8, 0, 0, 0, 0, 0, 1, 0, 5]\n",
      "[1, 3, 12, 6, 7, 1, 8, 1, 0, 0, 0, 0, 0, 0, 5]\n",
      "[1, 3, 12, 6, 7, 1, 8, 1, 5, 0, 0, 0, 0, 0, 0]\n"
     ]
    }
   ],
   "source": [
    "class Solution:\n",
    "    def moveZeroes(self, nums):\n",
    "        \"\"\"\n",
    "        Do not return anything, modify nums in-place instead.\n",
    "        \"\"\"\n",
    "        n = len(nums)\n",
    "        for i in range(0, n-1):\n",
    "            print(nums)\n",
    "            j = -1\n",
    "            if nums[i] == 0:\n",
    "                j = i + 1\n",
    "                while j<n and nums[j] == 0:\n",
    "                    j+=1\n",
    "                if j == n:\n",
    "                    return\n",
    "                nums[i] = nums[j]\n",
    "                nums[j]=0\n",
    "                    \n",
    "        \n",
    "    \n",
    "s = Solution()\n",
    "s.moveZeroes([0,1,0,3,12,0,6,7,1,0,0,8,1,0,5])"
   ]
  },
  {
   "cell_type": "code",
   "execution_count": 17,
   "metadata": {},
   "outputs": [
    {
     "name": "stdout",
     "output_type": "stream",
     "text": [
      "[0, 1, 0, 3, 12, 0, 6, 7, 1, 0, 0, 8, 1, 0, 5]\n",
      "[1, 0, 0, 3, 12, 0, 6, 7, 1, 0, 0, 8, 1, 0, 5]\n",
      "[1, 3, 0, 0, 12, 0, 6, 7, 1, 0, 0, 8, 1, 0, 5]\n",
      "[1, 3, 12, 0, 0, 0, 6, 7, 1, 0, 0, 8, 1, 0, 5]\n",
      "[1, 3, 12, 6, 0, 0, 0, 7, 1, 0, 0, 8, 1, 0, 5]\n",
      "[1, 3, 12, 6, 7, 0, 0, 0, 1, 0, 0, 8, 1, 0, 5]\n",
      "[1, 3, 12, 6, 7, 1, 0, 0, 0, 0, 0, 8, 1, 0, 5]\n",
      "[1, 3, 12, 6, 7, 1, 8, 0, 0, 0, 0, 0, 1, 0, 5]\n",
      "[1, 3, 12, 6, 7, 1, 8, 1, 0, 0, 0, 0, 0, 0, 5]\n",
      "[1, 3, 12, 6, 7, 1, 8, 1, 5, 0, 0, 0, 0, 0, 0]\n",
      "[2, 1]\n",
      "[1, 0, 1]\n",
      "[1, 1, 0]\n"
     ]
    }
   ],
   "source": [
    "class Solution:\n",
    "    def moveZeroes(self, nums):\n",
    "        \"\"\"\n",
    "        Do not return anything, modify nums in-place instead.\n",
    "        \"\"\"\n",
    "        n = len(nums)\n",
    "        m = None\n",
    "        for i in range(0, n):\n",
    "            if m is None:\n",
    "                if nums[i] == 0:\n",
    "                    m = i\n",
    "            else:\n",
    "                if nums[i] != 0 and nums[m] == 0 and i > m:\n",
    "                    nums[m] = nums[i]\n",
    "                    nums[i] = 0\n",
    "                    m +=1\n",
    "                \n",
    "                    \n",
    "        \n",
    "    \n",
    "s = Solution()\n",
    "s.moveZeroes([0,1,0,3,12,0,6,7,1,0,0,8,1,0,5])\n",
    "s.moveZeroes([2,1])\n",
    "s.moveZeroes([1,0,1])"
   ]
  }
 ],
 "metadata": {
  "kernelspec": {
   "display_name": "Python 3",
   "language": "python",
   "name": "python3"
  },
  "language_info": {
   "codemirror_mode": {
    "name": "ipython",
    "version": 3
   },
   "file_extension": ".py",
   "mimetype": "text/x-python",
   "name": "python",
   "nbconvert_exporter": "python",
   "pygments_lexer": "ipython3",
   "version": "3.7.3"
  }
 },
 "nbformat": 4,
 "nbformat_minor": 2
}
