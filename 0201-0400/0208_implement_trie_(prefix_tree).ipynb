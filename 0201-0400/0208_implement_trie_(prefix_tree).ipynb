{
  "nbformat": 4,
  "nbformat_minor": 0,
  "metadata": {
    "colab": {
      "name": "208. Implement Trie (Prefix Tree).ipynb",
      "provenance": [],
      "authorship_tag": "ABX9TyPRssRwfAwEWOA9vBIYIYu8",
      "include_colab_link": true
    },
    "kernelspec": {
      "name": "python3",
      "display_name": "Python 3"
    },
    "language_info": {
      "name": "python"
    }
  },
  "cells": [
    {
      "cell_type": "markdown",
      "metadata": {
        "id": "view-in-github",
        "colab_type": "text"
      },
      "source": [
        "<a href=\"https://colab.research.google.com/github/siddiqui16/leet_code/blob/colab/208_Implement_Trie_(Prefix_Tree).ipynb\" target=\"_parent\"><img src=\"https://colab.research.google.com/assets/colab-badge.svg\" alt=\"Open In Colab\"/></a>"
      ]
    },
    {
      "cell_type": "markdown",
      "source": [
        "[https://leetcode.com/problems/implement-trie-prefix-tree/]"
      ],
      "metadata": {
        "id": "pupQfjzqI8R3"
      }
    },
    {
      "cell_type": "markdown",
      "source": [
        "# Trie: The Prefix Tree"
      ],
      "metadata": {
        "id": "LE4ID7AeI8OC"
      }
    },
    {
      "cell_type": "code",
      "execution_count": null,
      "metadata": {
        "id": "1jzPW_k3I21C"
      },
      "outputs": [],
      "source": [
        "class Node:\n",
        "    def __init__(self, val):\n",
        "        self.val = val\n",
        "        self.count = 0\n",
        "        self.word_count = 0\n",
        "        self.children = {}\n",
        "        \n",
        "    def __repr__(self):\n",
        "        return self.__str__()\n",
        "    \n",
        "    def __str__(self):\n",
        "        t = f\"{self.val}({self.word_count},{self.count}) > {self.children}\"\n",
        "        t = f\"{self.val}>{self.children}\"\n",
        "        return t\n",
        "        \n",
        "    def incrementCount(self):\n",
        "        self.count+=1\n",
        "        \n",
        "    def incrementWordCount(self):\n",
        "        self.word_count+=1\n",
        "        \n",
        "    def insert(self, s):\n",
        "        if len(s) == 0:\n",
        "            self.incrementWordCount()\n",
        "            return True\n",
        "        else:\n",
        "            s_ = s[0]\n",
        "            if s_ not in self.children:\n",
        "                node = Node(s_)\n",
        "                self.children[s_] = node\n",
        "            node = self.children[s_]\n",
        "            node.incrementCount()\n",
        "            return node.insert(s[1:])\n",
        "        \n",
        "    def search(self, s):\n",
        "        if len(s) == 0:\n",
        "            return self.word_count>0\n",
        "        else:\n",
        "            s_ = s[0]\n",
        "            if s_ in self.children:\n",
        "                node = self.children[s_]\n",
        "                return node.search(s[1:])\n",
        "            else:\n",
        "                return False\n",
        "            \n",
        "    def startsWith(self, s):\n",
        "        if len(s) == 0:\n",
        "            return True\n",
        "        else:\n",
        "            s_ = s[0]\n",
        "            if s_ in self.children:\n",
        "                node = self.children[s_]\n",
        "                return node.startsWith(s[1:])\n",
        "            else:\n",
        "                return False\n",
        "        \n",
        "        \n",
        "class Trie:\n",
        "\n",
        "    def __init__(self):\n",
        "        self.root = Node(None)\n",
        "\n",
        "    def insert(self, word: str) -> None:\n",
        "        res = self.root.insert(word)\n",
        "        print(self.root)\n",
        "        \n",
        "\n",
        "    def search(self, word: str) -> bool:\n",
        "        return self.root.search(word)\n",
        "        \n",
        "\n",
        "    def startsWith(self, prefix: str) -> bool:\n",
        "        return self.root.startsWith(prefix)\n",
        "\n",
        "\n",
        "# Your Trie object will be instantiated and called as such:\n",
        "# obj = Trie()\n",
        "# obj.insert(word)\n",
        "# param_2 = obj.search(word)\n",
        "# param_3 = obj.startsWith(prefix)"
      ]
    }
  ]
}