{
  "nbformat": 4,
  "nbformat_minor": 0,
  "metadata": {
    "colab": {
      "name": "277. Find the Celebrity.ipynb",
      "provenance": [],
      "authorship_tag": "ABX9TyNQdgU5s0CRGSEiz0kEzUNq",
      "include_colab_link": true
    },
    "kernelspec": {
      "name": "python3",
      "display_name": "Python 3"
    },
    "language_info": {
      "name": "python"
    }
  },
  "cells": [
    {
      "cell_type": "markdown",
      "metadata": {
        "id": "view-in-github",
        "colab_type": "text"
      },
      "source": [
        "<a href=\"https://colab.research.google.com/github/siddiqui16/leet_code/blob/colab/277_Find_the_Celebrity.ipynb\" target=\"_parent\"><img src=\"https://colab.research.google.com/assets/colab-badge.svg\" alt=\"Open In Colab\"/></a>"
      ]
    },
    {
      "cell_type": "markdown",
      "source": [
        "[https://leetcode.com/problems/find-the-celebrity/]"
      ],
      "metadata": {
        "id": "OMP16dEW1WAU"
      }
    },
    {
      "cell_type": "code",
      "execution_count": null,
      "metadata": {
        "id": "0Vd-KvGs1UxO"
      },
      "outputs": [],
      "source": [
        "# The knows API is already defined for you.\n",
        "# return a bool, whether a knows b\n",
        "# def knows(a: int, b: int) -> bool:\n",
        "\n",
        "class Solution:\n",
        "    def findCelebrity(self, n: int) -> int:\n",
        "        l = 0\n",
        "        r = l+1\n",
        "        \n",
        "        normal = set()\n",
        "        seed = []\n",
        "        for i in range(n):\n",
        "            seed+=[i]\n",
        "        \n",
        "        check = []\n",
        "        while seed:\n",
        "            while len(check) < 2:\n",
        "                check.append(seed.pop(0))\n",
        "            print(check)\n",
        "            \n",
        "            if knows(check[0],check[1]):\n",
        "                normal.add(check.pop(0))\n",
        "            else:\n",
        "                normal.add(check.pop())\n",
        "        \n",
        "        potential = set([i for i in range(n)]).difference(normal)\n",
        "                \n",
        "        print(check, potential, normal)\n",
        "        \n",
        "        for c in potential:\n",
        "            for n in normal:\n",
        "                if not knows(n,c) or knows(c,n):\n",
        "                    return -1\n",
        "        return c\n",
        "        \n",
        "            "
      ]
    }
  ]
}