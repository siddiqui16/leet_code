{
  "nbformat": 4,
  "nbformat_minor": 0,
  "metadata": {
    "colab": {
      "name": "369. Plus One Linked List.ipynb",
      "provenance": [],
      "authorship_tag": "ABX9TyMWHdxK9WdMnxev+4SbW5b3",
      "include_colab_link": true
    },
    "kernelspec": {
      "name": "python3",
      "display_name": "Python 3"
    },
    "language_info": {
      "name": "python"
    }
  },
  "cells": [
    {
      "cell_type": "markdown",
      "metadata": {
        "id": "view-in-github",
        "colab_type": "text"
      },
      "source": [
        "<a href=\"https://colab.research.google.com/github/siddiqui16/leet_code/blob/colab/369_Plus_One_Linked_List.ipynb\" target=\"_parent\"><img src=\"https://colab.research.google.com/assets/colab-badge.svg\" alt=\"Open In Colab\"/></a>"
      ]
    },
    {
      "cell_type": "markdown",
      "source": [
        "[https://leetcode.com/problems/plus-one-linked-list/]"
      ],
      "metadata": {
        "id": "x77iDyH0hu5N"
      }
    },
    {
      "cell_type": "code",
      "execution_count": null,
      "metadata": {
        "id": "nAO4HZ8Jhssa"
      },
      "outputs": [],
      "source": [
        "# Definition for singly-linked list.\n",
        "# class ListNode:\n",
        "#     def __init__(self, val=0, next=None):\n",
        "#         self.val = val\n",
        "#         self.next = next\n",
        "class Solution:\n",
        "    def plusOne(self, head: ListNode) -> ListNode:\n",
        "\n",
        "        if head.val == 9:\n",
        "            node = ListNode(0,head)\n",
        "            head = node\n",
        "\n",
        "\n",
        "        node = head\n",
        "        not9 = (node, 0)\n",
        "        idx = 0\n",
        "        while node.next:\n",
        "            node = node.next\n",
        "            idx+=1\n",
        "\n",
        "            if node.val < 9:\n",
        "                not9 = (node, idx) \n",
        "        print(not9, idx)\n",
        "        \n",
        "        if not9[1] == idx:\n",
        "            node.val+=1\n",
        "        else:\n",
        "            node = not9[0]\n",
        "            node.val+=1\n",
        "\n",
        "            while node.next:\n",
        "                node = node.next\n",
        "                node.val = 0\n",
        "        return head if head.val > 0 else head.next"
      ]
    }
  ]
}