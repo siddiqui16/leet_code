{
  "nbformat": 4,
  "nbformat_minor": 0,
  "metadata": {
    "colab": {
      "name": "206. Reverse Linked List.ipynb",
      "provenance": [],
      "authorship_tag": "ABX9TyMfIPUqGUp3n0iJa+x5ZTIQ",
      "include_colab_link": true
    },
    "kernelspec": {
      "name": "python3",
      "display_name": "Python 3"
    },
    "language_info": {
      "name": "python"
    }
  },
  "cells": [
    {
      "cell_type": "markdown",
      "metadata": {
        "id": "view-in-github",
        "colab_type": "text"
      },
      "source": [
        "<a href=\"https://colab.research.google.com/github/siddiqui16/leet_code/blob/colab/206_Reverse_Linked_List.ipynb\" target=\"_parent\"><img src=\"https://colab.research.google.com/assets/colab-badge.svg\" alt=\"Open In Colab\"/></a>"
      ]
    },
    {
      "cell_type": "markdown",
      "source": [
        "[https://leetcode.com/problems/reverse-linked-list/submissions/]"
      ],
      "metadata": {
        "id": "ksHv3PVcBrOv"
      }
    },
    {
      "cell_type": "code",
      "execution_count": null,
      "metadata": {
        "id": "cNq6Ue2TBp_L"
      },
      "outputs": [],
      "source": [
        "# Definition for singly-linked list.\n",
        "# class ListNode:\n",
        "#     def __init__(self, val=0, next=None):\n",
        "#         self.val = val\n",
        "#         self.next = next\n",
        "class Solution:\n",
        "    def reverseList(self, head: Optional[ListNode]) -> Optional[ListNode]:\n",
        "        \n",
        "        if not head:\n",
        "            return None\n",
        "        if not head.next:\n",
        "            return head\n",
        "        \n",
        "        n0, n = head, head.next\n",
        "        n0.next = None\n",
        "        \n",
        "        while n:\n",
        "            n1 = n.next\n",
        "            n.next = n0\n",
        "            \n",
        "            n0 = n\n",
        "            n = n1\n",
        "        \n",
        "        return n0\n",
        "            "
      ]
    }
  ]
}