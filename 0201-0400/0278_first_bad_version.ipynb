{
  "nbformat": 4,
  "nbformat_minor": 0,
  "metadata": {
    "colab": {
      "name": "278. First Bad Version.ipynb",
      "provenance": [],
      "authorship_tag": "ABX9TyPdGYotgT4fwv3l49Yn2G35",
      "include_colab_link": true
    },
    "kernelspec": {
      "name": "python3",
      "display_name": "Python 3"
    },
    "language_info": {
      "name": "python"
    }
  },
  "cells": [
    {
      "cell_type": "markdown",
      "metadata": {
        "id": "view-in-github",
        "colab_type": "text"
      },
      "source": [
        "<a href=\"https://colab.research.google.com/github/siddiqui16/leet_code/blob/colab/278_First_Bad_Version.ipynb\" target=\"_parent\"><img src=\"https://colab.research.google.com/assets/colab-badge.svg\" alt=\"Open In Colab\"/></a>"
      ]
    },
    {
      "cell_type": "markdown",
      "source": [
        "[https://leetcode.com/problems/first-bad-version/]"
      ],
      "metadata": {
        "id": "wxV9mUV1KX9E"
      }
    },
    {
      "cell_type": "code",
      "execution_count": null,
      "metadata": {
        "id": "ACEpGGhcKVVQ"
      },
      "outputs": [],
      "source": [
        "# The isBadVersion API is already defined for you.\n",
        "# param version, an integer\n",
        "# return a bool\n",
        "# def isBadVersion(version):\n",
        "\n",
        "class Solution(object):\n",
        "    def firstBadVersion(self, n):\n",
        "        i = 1\n",
        "        j = n\n",
        "        \n",
        "        if isBadVersion(i):\n",
        "            return i\n",
        "        \n",
        "        \n",
        "        while i+1<j:\n",
        "            k = (i+j)/2\n",
        "            \n",
        "            if isBadVersion(k):\n",
        "                j = k\n",
        "            else:\n",
        "                i = k\n",
        "        if isBadVersion(i):\n",
        "            return i\n",
        "        else:\n",
        "            return j\n",
        "        "
      ]
    }
  ]
}