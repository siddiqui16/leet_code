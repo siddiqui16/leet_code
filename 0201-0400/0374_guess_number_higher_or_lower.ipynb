{
  "nbformat": 4,
  "nbformat_minor": 0,
  "metadata": {
    "colab": {
      "name": "374. Guess Number Higher or Lower.ipynb",
      "provenance": [],
      "collapsed_sections": [],
      "authorship_tag": "ABX9TyMokTWqFw5wKDNGHM5aurU9",
      "include_colab_link": true
    },
    "kernelspec": {
      "name": "python3",
      "display_name": "Python 3"
    },
    "language_info": {
      "name": "python"
    }
  },
  "cells": [
    {
      "cell_type": "markdown",
      "metadata": {
        "id": "view-in-github",
        "colab_type": "text"
      },
      "source": [
        "<a href=\"https://colab.research.google.com/github/siddiqui16/leet_code/blob/colab/374_Guess_Number_Higher_or_Lower.ipynb\" target=\"_parent\"><img src=\"https://colab.research.google.com/assets/colab-badge.svg\" alt=\"Open In Colab\"/></a>"
      ]
    },
    {
      "cell_type": "markdown",
      "source": [
        "[https://leetcode.com/problems/guess-number-higher-or-lower/]"
      ],
      "metadata": {
        "id": "eCptxCJ3of9c"
      }
    },
    {
      "cell_type": "code",
      "execution_count": 3,
      "metadata": {
        "colab": {
          "base_uri": "https://localhost:8080/",
          "height": 200
        },
        "id": "cSMS2CnUocNi",
        "outputId": "1a22429e-cb20-47f4-cddf-6d4b4cf39180"
      },
      "outputs": [
        {
          "output_type": "error",
          "ename": "TypeError",
          "evalue": "ignored",
          "traceback": [
            "\u001b[0;31m---------------------------------------------------------------------------\u001b[0m",
            "\u001b[0;31mTypeError\u001b[0m                                 Traceback (most recent call last)",
            "\u001b[0;32m<ipython-input-3-0278ef6676f7>\u001b[0m in \u001b[0;36m<module>\u001b[0;34m()\u001b[0m\n\u001b[1;32m     15\u001b[0m \u001b[0;34m\u001b[0m\u001b[0m\n\u001b[1;32m     16\u001b[0m \u001b[0ms\u001b[0m \u001b[0;34m=\u001b[0m \u001b[0mSolution\u001b[0m\u001b[0;34m(\u001b[0m\u001b[0;34m)\u001b[0m\u001b[0;34m\u001b[0m\u001b[0;34m\u001b[0m\u001b[0m\n\u001b[0;32m---> 17\u001b[0;31m \u001b[0ms\u001b[0m\u001b[0;34m.\u001b[0m\u001b[0mguessNumber\u001b[0m\u001b[0;34m(\u001b[0m\u001b[0;34m)\u001b[0m\u001b[0;34m\u001b[0m\u001b[0;34m\u001b[0m\u001b[0m\n\u001b[0m",
            "\u001b[0;31mTypeError\u001b[0m: guessNumber() missing 1 required positional argument: 'n'"
          ]
        }
      ],
      "source": [
        "# The guess API is already defined for you.\n",
        "# param num, your guess\n",
        "# return -1 if num is higher than the picked number\n",
        "#          1 if num is lower than the picked number\n",
        "#          otherwise return 0\n",
        "# def guess(num):\n",
        "\n",
        "class Solution(object):\n",
        "    def guessNumber(self, n):\n",
        "      i = 1\n",
        "      j = n\n",
        "\n",
        "      while i+1 < j:\n",
        "        k = (i+j)//2\n",
        "        r = guess(k)\n",
        "        if r == 0:\n",
        "          return k\n",
        "        elif r == 1:\n",
        "          i = k\n",
        "        else:\n",
        "          j = k \n",
        "\n",
        "      if guess(i) == 0:\n",
        "        return i\n",
        "      else:\n",
        "        return j"
      ]
    }
  ]
}