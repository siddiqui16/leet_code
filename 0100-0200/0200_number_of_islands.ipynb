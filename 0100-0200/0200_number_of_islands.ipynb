{
  "nbformat": 4,
  "nbformat_minor": 0,
  "metadata": {
    "colab": {
      "name": "0200. Number of Islands.ipynb",
      "provenance": [],
      "authorship_tag": "ABX9TyNIYyRJ0Fl3k2f1D/+AE43Q",
      "include_colab_link": true
    },
    "kernelspec": {
      "name": "python3",
      "display_name": "Python 3"
    },
    "language_info": {
      "name": "python"
    }
  },
  "cells": [
    {
      "cell_type": "markdown",
      "metadata": {
        "id": "view-in-github",
        "colab_type": "text"
      },
      "source": [
        "<a href=\"https://colab.research.google.com/github/siddiqui16/leet_code/blob/colab/0200_Number_of_Islands.ipynb\" target=\"_parent\"><img src=\"https://colab.research.google.com/assets/colab-badge.svg\" alt=\"Open In Colab\"/></a>"
      ]
    },
    {
      "cell_type": "markdown",
      "source": [
        "[https://leetcode.com/problems/number-of-islands/]"
      ],
      "metadata": {
        "id": "43hbgNgKQxpf"
      }
    },
    {
      "cell_type": "code",
      "source": [
        "def print_island(grid):\n",
        "  print(\"-\"*10)\n",
        "  for l in grid:\n",
        "    print(\" \".join(l))\n",
        "\n",
        "class Solution(object):\n",
        "    def numIslands(self, grid):\n",
        "        \"\"\"\n",
        "        :type grid: List[List[str]]\n",
        "        :rtype: int\n",
        "        \"\"\"\n",
        "        m = len(grid)\n",
        "        n = len(grid[0])\n",
        "        c = 0\n",
        "\n",
        "        for x0 in range(m):\n",
        "          for y0 in range(n):\n",
        "            island = grid[x0][y0] == \"1\"\n",
        "            if island:\n",
        "              l = [(x0,y0)]\n",
        "              c += 1\n",
        "              while l:\n",
        "                x,y = l.pop()\n",
        "                grid[x][y] = \"0\"\n",
        "                for i,j in [(0,1),(0,-1), (1,0),(-1,0)]:\n",
        "                  if 0<=x+i<m and 0<=y+j<n and grid[x+i][y+j] == \"1\":\n",
        "                    l.append((x+i,y+j))\n",
        "              #print_island(grid)\n",
        "              #print(c, l)\n",
        "        return c\n",
        "\n",
        "\n",
        "s = Solution()\n",
        "\n",
        "s.numIslands(grid = [\n",
        "  [\"1\",\"1\",\"0\",\"0\",\"0\"],\n",
        "  [\"1\",\"1\",\"0\",\"0\",\"0\"],\n",
        "  [\"0\",\"0\",\"1\",\"0\",\"0\"],\n",
        "  [\"0\",\"0\",\"0\",\"1\",\"1\"]\n",
        "])"
      ],
      "metadata": {
        "colab": {
          "base_uri": "https://localhost:8080/"
        },
        "id": "mOAIkELpQtbb",
        "outputId": "24cfca46-37c1-45c8-d9e2-832f93f50005"
      },
      "execution_count": 11,
      "outputs": [
        {
          "output_type": "execute_result",
          "data": {
            "text/plain": [
              "3"
            ]
          },
          "metadata": {},
          "execution_count": 11
        }
      ]
    },
    {
      "cell_type": "code",
      "execution_count": null,
      "metadata": {
        "id": "EwABxq9_QeTh"
      },
      "outputs": [],
      "source": [
        ""
      ]
    }
  ]
}