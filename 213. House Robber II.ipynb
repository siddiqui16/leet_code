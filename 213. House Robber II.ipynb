{
 "cells": [
  {
   "cell_type": "code",
   "execution_count": 59,
   "metadata": {
    "scrolled": false
   },
   "outputs": [
    {
     "name": "stdout",
     "output_type": "stream",
     "text": [
      "--------------------\n",
      " 0 \n",
      "- 1 \n",
      "-- 2 \n",
      "--- 3 \n",
      "---- 4 \n",
      "----- 5 \n",
      "----- 6 \n",
      "- 2 *\n",
      "-- 3 *\n",
      "--- 4 *\n",
      "---- 5 *\n",
      "---- 6 *\n",
      "(5, 0) 19\n",
      "(6, 0) 0\n",
      "(4, 0) 19\n",
      "(3, 0) 22\n",
      "(2, 0) 28\n",
      "(1, 0) 29\n",
      "(5, 1) 0\n",
      "(6, 1) 0\n",
      "(4, 1) 2\n",
      "(3, 1) 3\n",
      "(2, 1) 11\n"
     ]
    },
    {
     "data": {
      "text/plain": [
       "29"
      ]
     },
     "execution_count": 59,
     "metadata": {},
     "output_type": "execute_result"
    }
   ],
   "source": [
    "class Solution:\n",
    "    def rob(self, nums, i = 0, first=None, d = 0):\n",
    "        if d == 0:\n",
    "            self.p = {}\n",
    "            print(\"-\"*20)\n",
    "        print(\"-\"*d, i, \"*\" if first else \"\")\n",
    "        if i>=len(nums):\n",
    "            return 0\n",
    "        \n",
    "        if i==len(nums)-1:\n",
    "            return 0 if first else nums[i]\n",
    "        \n",
    "        if (i+1, 0 if i==0 else first) not in self.p:\n",
    "            self.p[(i+1, 0 if i==0 else first)] = self.rob(nums, i+1, 0 if i==0 else first,d+1)\n",
    "        if (i+2, 1 if i==0 else first) not in self.p:\n",
    "            self.p[(i+2, 1 if i==0 else first)] = self.rob(nums, i+2, 1 if i==0 else first,d+1)\n",
    "\n",
    "        if d==0:\n",
    "            for k in self.p:\n",
    "                print(k, self.p[k])\n",
    "        \n",
    "        return max(\n",
    "            self.p[(i+1, 0 if i==0 else first)],\n",
    "            nums[i] + self.p[(i+2, 1 if i==0 else first)]\n",
    "        )\n",
    "    \n",
    "        return max(\n",
    "            self.rob(nums, i+1, 0 if i==0 else first,d+1),\n",
    "            nums[i] + self.rob(nums, i+2, 1 if i==0 else first,d+1)\n",
    "        )\n",
    "    \n",
    "s = Solution()\n",
    "s.rob([9,7,9,3,2,19])\n",
    "#s.rob([1,2,4])"
   ]
  },
  {
   "cell_type": "code",
   "execution_count": 64,
   "metadata": {},
   "outputs": [
    {
     "data": {
      "text/plain": [
       "12"
      ]
     },
     "execution_count": 64,
     "metadata": {},
     "output_type": "execute_result"
    }
   ],
   "source": [
    "class Solution:\n",
    "    def simple_rob(self, nums, i = -1):\n",
    "        if i<0:\n",
    "            self.p = {}\n",
    "        if i >= len(nums):\n",
    "            return 0\n",
    "        elif i == len(nums) - 1:\n",
    "            return nums[i]\n",
    "        \n",
    "        a = 0 if i<0 else nums[i]\n",
    "        \n",
    "        if (i+1) not in self.p:\n",
    "            self.p[(i+1)] = self.simple_rob(nums, i+1)\n",
    "        if (i+2) not in self.p:\n",
    "            self.p[(i+2)] = self.simple_rob(nums, i+2)\n",
    "        return max(0+self.p[(i+1)], a+self.p[(i+2)])\n",
    "    \n",
    "    def rob(self, nums):\n",
    "        return max(self.simple_rob(nums[1:]), self.simple_rob(nums[:-1]))\n",
    "    \n",
    "s = Solution()\n",
    "s.rob([2,7,9,3,1,1])"
   ]
  }
 ],
 "metadata": {
  "kernelspec": {
   "display_name": "Python 3",
   "language": "python",
   "name": "python3"
  },
  "language_info": {
   "codemirror_mode": {
    "name": "ipython",
    "version": 3
   },
   "file_extension": ".py",
   "mimetype": "text/x-python",
   "name": "python",
   "nbconvert_exporter": "python",
   "pygments_lexer": "ipython3",
   "version": "3.7.3"
  }
 },
 "nbformat": 4,
 "nbformat_minor": 2
}
