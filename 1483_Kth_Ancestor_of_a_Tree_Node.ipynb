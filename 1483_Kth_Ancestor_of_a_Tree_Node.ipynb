{
  "nbformat": 4,
  "nbformat_minor": 0,
  "metadata": {
    "colab": {
      "name": "1483. Kth Ancestor of a Tree Node.ipynb",
      "provenance": [],
      "authorship_tag": "ABX9TyNEDrYbgRa8aVg9m53t6iaF",
      "include_colab_link": true
    },
    "kernelspec": {
      "name": "python3",
      "display_name": "Python 3"
    },
    "language_info": {
      "name": "python"
    }
  },
  "cells": [
    {
      "cell_type": "markdown",
      "metadata": {
        "id": "view-in-github",
        "colab_type": "text"
      },
      "source": [
        "<a href=\"https://colab.research.google.com/github/siddiqui16/leet_code/blob/colab/1483_Kth_Ancestor_of_a_Tree_Node.ipynb\" target=\"_parent\"><img src=\"https://colab.research.google.com/assets/colab-badge.svg\" alt=\"Open In Colab\"/></a>"
      ]
    },
    {
      "cell_type": "markdown",
      "source": [
        "[https://leetcode.com/problems/kth-ancestor-of-a-tree-node/]"
      ],
      "metadata": {
        "id": "ST5phN7WDegr"
      }
    },
    {
      "cell_type": "markdown",
      "source": [
        "# Not Optimal 👎\n",
        "* Optimal solution is using *dynamic programming*.\n",
        "* Will see later after Facebook"
      ],
      "metadata": {
        "id": "K8Gh1rZcDig2"
      }
    },
    {
      "cell_type": "code",
      "execution_count": null,
      "metadata": {
        "id": "8lFYwwI-DbW_"
      },
      "outputs": [],
      "source": [
        "class TreeAncestor:\n",
        "\n",
        "    def __init__(self, n: int, parent: List[int]):\n",
        "        self.n = n\n",
        "        self.parent = parent\n",
        "        self.cache = {}\n",
        "\n",
        "    def getKthAncestor(self, node: int, k: int) -> int:\n",
        "        if k>0:\n",
        "            p = self.parent[node]\n",
        "            if -1<p:\n",
        "                if (p,k-1) not in self.cache: \n",
        "                    self.cache[(p,k-1)] = self.getKthAncestor(p,k-1)\n",
        "                return self.cache[(p,k-1)]\n",
        "            else:\n",
        "                return -1\n",
        "        else:\n",
        "            return node\n"
      ]
    }
  ]
}