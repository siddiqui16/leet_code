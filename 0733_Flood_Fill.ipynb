{
  "nbformat": 4,
  "nbformat_minor": 0,
  "metadata": {
    "colab": {
      "name": "0733 Flood Fill.ipynb",
      "provenance": [],
      "authorship_tag": "ABX9TyM6+rfJ/vItlX3WhYZ1veWZ",
      "include_colab_link": true
    },
    "kernelspec": {
      "name": "python3",
      "display_name": "Python 3"
    },
    "language_info": {
      "name": "python"
    }
  },
  "cells": [
    {
      "cell_type": "markdown",
      "metadata": {
        "id": "view-in-github",
        "colab_type": "text"
      },
      "source": [
        "<a href=\"https://colab.research.google.com/github/siddiqui16/leet_code/blob/colab/0733_Flood_Fill.ipynb\" target=\"_parent\"><img src=\"https://colab.research.google.com/assets/colab-badge.svg\" alt=\"Open In Colab\"/></a>"
      ]
    },
    {
      "cell_type": "markdown",
      "source": [
        "# \n",
        "*Easy*\n",
        "\n",
        "An image is represented by an m x n integer grid image where image[i][j] represents the pixel value of the image.\n",
        "\n",
        "You are also given three integers sr, sc, and newColor. You should perform a flood fill on the image starting from the pixel image[sr][sc].\n",
        "\n",
        "To perform a flood fill, consider the starting pixel, plus any pixels connected 4-directionally to the starting pixel of the same color as the starting pixel, plus any pixels connected 4-directionally to those pixels (also with the same color), and so on. Replace the color of all of the aforementioned pixels with newColor.\n",
        "\n",
        "Return the modified image after performing the flood fill."
      ],
      "metadata": {
        "id": "8YuEhHphJy9A"
      }
    },
    {
      "cell_type": "code",
      "execution_count": 23,
      "metadata": {
        "colab": {
          "base_uri": "https://localhost:8080/"
        },
        "id": "4ZEx1_8rJrc8",
        "outputId": "904ea217-07b1-450b-b003-4e2840f74c64"
      },
      "outputs": [
        {
          "output_type": "execute_result",
          "data": {
            "text/plain": [
              "[[2, 2, 2], [2, 2, 0], [2, 0, 1]]"
            ]
          },
          "metadata": {},
          "execution_count": 23
        }
      ],
      "source": [
        "class Solution(object):\n",
        "    def floodFill(self, image, sr, sc, newColor):\n",
        "        \"\"\"\n",
        "        :type image: List[List[int]]\n",
        "        :type sr: int\n",
        "        :type sc: int\n",
        "        :type newColor: int\n",
        "        :rtype: List[List[int]]\n",
        "        \"\"\"\n",
        "        oldColor = image[sr][sc]\n",
        "\n",
        "        if oldColor == newColor:\n",
        "          return image\n",
        "\n",
        "        l = [(sr,sc)]\n",
        "        m = len(image)\n",
        "        n = len(image[0])\n",
        "        \n",
        "        while l:\n",
        "            x,y = l.pop()\n",
        "            image[x][y] = newColor\n",
        "            #print(image, (x,y), l)\n",
        "            for i,j in [(0,1), (0,-1), (1,0), (-1,0)]:\n",
        "                if 0<=x+i<m and 0<=y+j<n and image[x+i][y+j] == oldColor:\n",
        "                    l.append((x+i,y+j))\n",
        "        return image            \n",
        "\n",
        "s = Solution()\n",
        "s.floodFill( image = [[1,1,1],[1,1,0],[1,0,1]], sr = 1, sc = 1, newColor = 2)        "
      ]
    },
    {
      "cell_type": "code",
      "source": [
        "l = [(1,1)]\n",
        "\n",
        "print(l)\n",
        "print(l.pop())\n",
        "print(l)"
      ],
      "metadata": {
        "colab": {
          "base_uri": "https://localhost:8080/"
        },
        "id": "QKQSFP-WNEC9",
        "outputId": "80c27ccd-9c2f-430a-ade9-9200e5569ecd"
      },
      "execution_count": 16,
      "outputs": [
        {
          "output_type": "stream",
          "name": "stdout",
          "text": [
            "[(1, 1)]\n",
            "(1, 1)\n",
            "[]\n"
          ]
        }
      ]
    }
  ]
}