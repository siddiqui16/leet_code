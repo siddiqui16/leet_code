{
  "nbformat": 4,
  "nbformat_minor": 0,
  "metadata": {
    "colab": {
      "name": "0733 Flood Fill.ipynb",
      "provenance": [],
      "authorship_tag": "ABX9TyOJm1IZtxkbLzKFjPbUfKvc",
      "include_colab_link": true
    },
    "kernelspec": {
      "name": "python3",
      "display_name": "Python 3"
    },
    "language_info": {
      "name": "python"
    }
  },
  "cells": [
    {
      "cell_type": "markdown",
      "metadata": {
        "id": "view-in-github",
        "colab_type": "text"
      },
      "source": [
        "<a href=\"https://colab.research.google.com/github/siddiqui16/leet_code/blob/colab/0733_Flood_Fill.ipynb\" target=\"_parent\"><img src=\"https://colab.research.google.com/assets/colab-badge.svg\" alt=\"Open In Colab\"/></a>"
      ]
    },
    {
      "cell_type": "markdown",
      "source": [
        "# \n",
        "*Easy*\n",
        "\n",
        "An image is represented by an m x n integer grid image where image[i][j] represents the pixel value of the image.\n",
        "\n",
        "You are also given three integers sr, sc, and newColor. You should perform a flood fill on the image starting from the pixel image[sr][sc].\n",
        "\n",
        "To perform a flood fill, consider the starting pixel, plus any pixels connected 4-directionally to the starting pixel of the same color as the starting pixel, plus any pixels connected 4-directionally to those pixels (also with the same color), and so on. Replace the color of all of the aforementioned pixels with newColor.\n",
        "\n",
        "Return the modified image after performing the flood fill."
      ],
      "metadata": {
        "id": "8YuEhHphJy9A"
      }
    },
    {
      "cell_type": "code",
      "execution_count": null,
      "metadata": {
        "id": "4ZEx1_8rJrc8"
      },
      "outputs": [],
      "source": [
        ""
      ]
    }
  ]
}