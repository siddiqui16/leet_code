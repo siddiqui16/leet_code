{
  "nbformat": 4,
  "nbformat_minor": 0,
  "metadata": {
    "colab": {
      "name": "706. Design HashMap.ipynb",
      "provenance": [],
      "collapsed_sections": [],
      "authorship_tag": "ABX9TyO+etdD6bNGMtoY9Nt23ZrP",
      "include_colab_link": true
    },
    "kernelspec": {
      "name": "python3",
      "display_name": "Python 3"
    },
    "language_info": {
      "name": "python"
    }
  },
  "cells": [
    {
      "cell_type": "markdown",
      "metadata": {
        "id": "view-in-github",
        "colab_type": "text"
      },
      "source": [
        "<a href=\"https://colab.research.google.com/github/siddiqui16/leet_code/blob/colab/706_Design_HashMap.ipynb\" target=\"_parent\"><img src=\"https://colab.research.google.com/assets/colab-badge.svg\" alt=\"Open In Colab\"/></a>"
      ]
    },
    {
      "cell_type": "markdown",
      "source": [
        "[https://leetcode.com/problems/design-hashmap/]"
      ],
      "metadata": {
        "id": "ficdRYeOq72s"
      }
    },
    {
      "cell_type": "code",
      "execution_count": null,
      "metadata": {
        "colab": {
          "base_uri": "https://localhost:8080/"
        },
        "id": "UrfNjEwnq5CD",
        "outputId": "fa1cb4be-1a1b-4ddf-cf6f-d14e4a760be6"
      },
      "outputs": [
        {
          "output_type": "stream",
          "name": "stdout",
          "text": [
            "-1\n",
            "[\n",
            "[1@0:0], None, \n",
            "[2@1:1], None, \n",
            "[3@2:2]]\n",
            "0\n",
            "[\n",
            "[4@0:2], \n",
            "[7@3:5], \n",
            "[5@1:3], \n",
            "[8@4:6], \n",
            "[6@2:4]]\n"
          ]
        }
      ],
      "source": [
        "class HashObject(object):\n",
        "    counter = 0\n",
        "    def __init__(self, key, value, next=None):\n",
        "        HashObject.counter += 1\n",
        "        self.id = HashObject.counter\n",
        "        self.key = key\n",
        "        self.value = value\n",
        "        self.next = next\n",
        "\n",
        "    def __repr__(self):\n",
        "        str_list = []\n",
        "        curr = self\n",
        "        while curr:\n",
        "          str_list += [\"[%s@%s:%s]\"%(self.id,curr.key,curr.value)]\n",
        "          curr = curr.next\n",
        "        return \"\\n\" + \">\".join(str_list)\n",
        "\n",
        "    def __str__(self):\n",
        "        return self.__repr__()\n",
        "\n",
        "class MyHashMap(object):\n",
        "    def __init__(self):\n",
        "        self.N = 5\n",
        "        self.hash = [None] * self.N\n",
        "\n",
        "    def get_hash(self, key):\n",
        "        hash_key = (key * 7)%self.N\n",
        "        return hash_key\n",
        "\n",
        "    def put(self, key, value):\n",
        "        \"\"\"\n",
        "        :type key: int\n",
        "        :type value: int\n",
        "        :rtype: None\n",
        "        \"\"\"\n",
        "        hash_key = self.get_hash(key)\n",
        "        hash_obj = HashObject(key, value)\n",
        "\n",
        "        self.remove(key)        \n",
        "        if self.hash[hash_key] is None:\n",
        "            self.hash[hash_key] = hash_obj\n",
        "        else:\n",
        "            curr = self.hash[hash_key]\n",
        "            while curr.next is not None:\n",
        "                curr = curr.next\n",
        "            curr.next = hash_obj\n",
        "        \n",
        "\n",
        "    def get(self, key):\n",
        "        \"\"\"\n",
        "        :type key: int\n",
        "        :rtype: int\n",
        "        \"\"\"\n",
        "        hash_key = self.get_hash(key)\n",
        "\n",
        "        if self.hash[hash_key] is None:\n",
        "            return -1\n",
        "        \n",
        "        curr = self.hash[hash_key]\n",
        "        while curr.key != key and curr.next is not None:\n",
        "            curr = curr.next\n",
        "\n",
        "        if curr.key == key:\n",
        "            return curr.value\n",
        "        return -1\n",
        "\n",
        "        \n",
        "\n",
        "    def remove(self, key):\n",
        "        \"\"\"\n",
        "        :type key: int\n",
        "        :rtype: None\n",
        "        \"\"\"\n",
        "        hash_key = self.get_hash(key)\n",
        "\n",
        "        if self.hash[hash_key] is None:\n",
        "            return -1\n",
        "\n",
        "        if self.hash[hash_key].key == key:\n",
        "            self.hash[hash_key] = self.hash[hash_key].next\n",
        "            return 0\n",
        "        else:\n",
        "          prev = self.hash[hash_key]\n",
        "          curr = prev.next\n",
        "\n",
        "          while curr and curr.key != key:\n",
        "              prev = curr\n",
        "              curr = curr.next\n",
        "          \n",
        "          if curr:\n",
        "            prev.next = curr.next\n",
        "            return 0\n",
        "          return -1\n",
        "\n",
        "    def __repr__(self):\n",
        "        return \"%s\" % self.hash\n",
        "\n",
        "    def __str__(self):\n",
        "        return self.__repr__()\n",
        "        \n",
        "\n",
        "\n",
        "# Your MyHashMap object will be instantiated and called as such:\n",
        "obj = MyHashMap()\n",
        "print(obj.remove(0))\n",
        "\n",
        "for i in range(3):\n",
        "  obj.put(i,i)\n",
        "print(obj)\n",
        "\n",
        "print(obj.remove(0))\n",
        "\n",
        "for i in range(5):\n",
        "  obj.put(i,i+2)\n",
        "print(obj)\n"
      ]
    }
  ]
}