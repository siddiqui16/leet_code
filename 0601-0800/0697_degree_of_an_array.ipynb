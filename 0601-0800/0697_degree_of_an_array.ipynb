{
 "cells": [
  {
   "cell_type": "markdown",
   "metadata": {},
   "source": [
    "https://leetcode.com/problems/degree-of-an-array/"
   ]
  },
  {
   "cell_type": "code",
   "execution_count": null,
   "metadata": {},
   "outputs": [],
   "source": [
    "class Solution(object):\n",
    "    def findShortestSubArray(self, nums):\n",
    "        \"\"\"\n",
    "        :type nums: List[int]\n",
    "        :rtype: int\n",
    "        \"\"\"\n",
    "        m={}\n",
    "        \n",
    "        d_max = -1\n",
    "        n_min = [0, len(nums)]\n",
    "        for i, x in enumerate(nums):\n",
    "            if x in m:\n",
    "                d_curr = m[x][0]+1 \n",
    "                l_idx = m[x][1]\n",
    "            else:\n",
    "                d_curr = 1\n",
    "                l_idx = i\n",
    "            m[x] = (d_curr, l_idx, i)\n",
    "            \n",
    "            if d_curr > d_max:\n",
    "                d_max = d_curr\n",
    "                n_min = [l_idx, i]\n",
    "            elif d_curr == d_max:\n",
    "                if i-l_idx < n_min[1]-n_min[0]:\n",
    "                    n_min = [l_idx, i]\n",
    "            #print(m, d_max, n_min)\n",
    "        return len(nums[n_min[0]:n_min[1]])+1\n"
   ]
  }
 ],
 "metadata": {
  "kernelspec": {
   "display_name": "Python 3",
   "language": "python",
   "name": "python3"
  },
  "language_info": {
   "codemirror_mode": {
    "name": "ipython",
    "version": 3
   },
   "file_extension": ".py",
   "mimetype": "text/x-python",
   "name": "python",
   "nbconvert_exporter": "python",
   "pygments_lexer": "ipython3",
   "version": "3.7.3"
  }
 },
 "nbformat": 4,
 "nbformat_minor": 2
}
