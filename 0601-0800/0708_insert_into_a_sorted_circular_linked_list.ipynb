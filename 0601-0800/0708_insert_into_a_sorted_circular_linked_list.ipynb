{
  "nbformat": 4,
  "nbformat_minor": 0,
  "metadata": {
    "colab": {
      "name": "708. Insert into a Sorted Circular Linked List.ipynb",
      "provenance": [],
      "authorship_tag": "ABX9TyOC28EIk/thheBG0DRbRZTL",
      "include_colab_link": true
    },
    "kernelspec": {
      "name": "python3",
      "display_name": "Python 3"
    },
    "language_info": {
      "name": "python"
    }
  },
  "cells": [
    {
      "cell_type": "markdown",
      "metadata": {
        "id": "view-in-github",
        "colab_type": "text"
      },
      "source": [
        "<a href=\"https://colab.research.google.com/github/siddiqui16/leet_code/blob/colab/708_Insert_into_a_Sorted_Circular_Linked_List.ipynb\" target=\"_parent\"><img src=\"https://colab.research.google.com/assets/colab-badge.svg\" alt=\"Open In Colab\"/></a>"
      ]
    },
    {
      "cell_type": "markdown",
      "source": [
        "[https://leetcode.com/problems/insert-into-a-sorted-circular-linked-list]"
      ],
      "metadata": {
        "id": "j_Swx7UA4ZOs"
      }
    },
    {
      "cell_type": "code",
      "execution_count": null,
      "metadata": {
        "id": "owBZazm24W2z"
      },
      "outputs": [],
      "source": [
        "\"\"\"\n",
        "# Definition for a Node.\n",
        "class Node:\n",
        "    def __init__(self, val=None, next=None):\n",
        "        self.val = val\n",
        "        self.next = next\n",
        "\"\"\"\n",
        "\n",
        "class Solution:\n",
        "    def insert(self, head, insertVal) -> 'Node':\n",
        "        if not head:\n",
        "            ni = Node(insertVal)\n",
        "            ni.next = ni\n",
        "            return ni\n",
        "        \n",
        "        f_inc = True\n",
        "        node = head\n",
        "        m = {}\n",
        "        while node:\n",
        "            if node.val not in m:\n",
        "                m[node.val] = 0\n",
        "            m[node.val] += 1\n",
        "            \n",
        "            if node.val <= insertVal <= node.next.val:\n",
        "                break\n",
        "            elif node.val>node.next.val:\n",
        "                if node.val<=insertVal or insertVal<=node.next.val:\n",
        "                    break\n",
        "            elif node.next == head:\n",
        "                break\n",
        "            node = node.next\n",
        "        node.next = Node(insertVal,node.next)\n",
        "        \n",
        "        return head\n",
        "            \n",
        "        "
      ]
    }
  ]
}