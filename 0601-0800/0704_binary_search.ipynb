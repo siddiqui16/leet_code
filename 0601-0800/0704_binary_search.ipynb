{
  "nbformat": 4,
  "nbformat_minor": 0,
  "metadata": {
    "colab": {
      "name": "704. Binary Search.ipynb",
      "provenance": [],
      "authorship_tag": "ABX9TyMBbZiKmaXLrMZkQCqybGtf",
      "include_colab_link": true
    },
    "kernelspec": {
      "name": "python3",
      "display_name": "Python 3"
    },
    "language_info": {
      "name": "python"
    }
  },
  "cells": [
    {
      "cell_type": "markdown",
      "metadata": {
        "id": "view-in-github",
        "colab_type": "text"
      },
      "source": [
        "<a href=\"https://colab.research.google.com/github/siddiqui16/leet_code/blob/colab/704_Binary_Search.ipynb\" target=\"_parent\"><img src=\"https://colab.research.google.com/assets/colab-badge.svg\" alt=\"Open In Colab\"/></a>"
      ]
    },
    {
      "cell_type": "markdown",
      "source": [
        "[https://leetcode.com/problems/binary-search/]"
      ],
      "metadata": {
        "id": "K0lquc7cfsnH"
      }
    },
    {
      "cell_type": "code",
      "execution_count": 32,
      "metadata": {
        "colab": {
          "base_uri": "https://localhost:8080/"
        },
        "id": "EbPF2W_0ZqAa",
        "outputId": "631610c3-6207-42a7-92da-b24e903af092"
      },
      "outputs": [
        {
          "output_type": "stream",
          "name": "stdout",
          "text": [
            " \n",
            "0 6 3 9 == 5\n",
            "3 6 4 9 == 9\n",
            " \n",
            "0 6 3 2 == 5\n",
            "0 3 1 2 == 0\n",
            "1 3 2 2 == 3\n"
          ]
        },
        {
          "output_type": "execute_result",
          "data": {
            "text/plain": [
              "-1"
            ]
          },
          "metadata": {},
          "execution_count": 32
        }
      ],
      "source": [
        "class Solution(object):\n",
        "    def search(self, nums, target):\n",
        "        \"\"\"\n",
        "        :type nums: List[int]\n",
        "        :type target: int\n",
        "        :rtype: int\n",
        "        \"\"\"\n",
        "        print(\" \")\n",
        "\n",
        "        if target < nums[0] or target > nums[-1]:\n",
        "          return -1\n",
        "\n",
        "        i = 0\n",
        "        j = len(nums)\n",
        "\n",
        "        if nums[i] == target:\n",
        "            return i\n",
        "        elif nums[-1] == target:\n",
        "            return j-1\n",
        "\n",
        "        while i+1 < j:\n",
        "          k = (i+j)//2\n",
        "          print(i,j,k, f\"{target} == {nums[k]}\")\n",
        "          if nums[k] == target:\n",
        "            return k\n",
        "          elif target < nums[k]:\n",
        "            j = k\n",
        "          else:\n",
        "            i = k\n",
        "\n",
        "        if nums[i] == target:\n",
        "          return i\n",
        "        if nums[j] == target:\n",
        "          return j\n",
        "        return -1\n",
        "\n",
        "s = Solution()\n",
        "s.search(nums = [-1,0,3,5,9,12], target = 9)\n",
        "s.search(nums = [-1,0,3,5,9,12], target = 2)"
      ]
    }
  ]
}