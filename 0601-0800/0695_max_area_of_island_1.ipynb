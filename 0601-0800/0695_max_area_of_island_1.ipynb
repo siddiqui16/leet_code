{
  "nbformat": 4,
  "nbformat_minor": 0,
  "metadata": {
    "colab": {
      "name": "695. Max Area of Island.ipynb",
      "provenance": [],
      "authorship_tag": "ABX9TyMkDxo5HYk0ti8jLHQcpP3W",
      "include_colab_link": true
    },
    "kernelspec": {
      "name": "python3",
      "display_name": "Python 3"
    },
    "language_info": {
      "name": "python"
    }
  },
  "cells": [
    {
      "cell_type": "markdown",
      "metadata": {
        "id": "view-in-github",
        "colab_type": "text"
      },
      "source": [
        "<a href=\"https://colab.research.google.com/github/siddiqui16/leet_code/blob/colab/695_Max_Area_of_Island.ipynb\" target=\"_parent\"><img src=\"https://colab.research.google.com/assets/colab-badge.svg\" alt=\"Open In Colab\"/></a>"
      ]
    },
    {
      "cell_type": "markdown",
      "source": [
        "[https://leetcode.com/problems/max-area-of-island/]"
      ],
      "metadata": {
        "id": "-mWsVEZiZQvy"
      }
    },
    {
      "cell_type": "code",
      "execution_count": 21,
      "metadata": {
        "colab": {
          "base_uri": "https://localhost:8080/"
        },
        "id": "2tlA6WbfZNbl",
        "outputId": "3650c157-4bd1-463f-cf50-0fd87acad216"
      },
      "outputs": [
        {
          "output_type": "stream",
          "name": "stdout",
          "text": [
            "{1: 1, 2: 1}\n",
            "1\n",
            "{1: 1, 2: 4, 3: 4, 4: 5, 5: 6, 6: 5}\n",
            "6\n",
            "{}\n",
            "0\n",
            "{1: 5, 2: 6, 3: 14}\n",
            "14\n"
          ]
        }
      ],
      "source": [
        "class Solution:\n",
        "    def maxAreaOfIsland(self, grid) -> int:\n",
        "        m = len(grid)\n",
        "        n = len(grid[0])\n",
        "\n",
        "        islands = {}\n",
        "        max_area = 0\n",
        "        visited = set()\n",
        "        for i in range(m):\n",
        "          for j in range(n):\n",
        "            if grid[i][j] == 1 and (i,j) not in visited:\n",
        "              seed = [(i,j, len(islands)+1)]\n",
        "              visited.add((i,j))\n",
        "\n",
        "              area = 0\n",
        "              while seed:\n",
        "                #print(seed)\n",
        "                area += 1\n",
        "                x,y,id = seed.pop(0)\n",
        "                for p,q in [(0,1),(1,0),(0,-1),(-1,0)]:\n",
        "                  x_,y_ = x+p,y+q\n",
        "                  if -1<x_<m and -1<y_<n:\n",
        "                    if grid[x_][y_] == 1 and (x_,y_) not in visited:\n",
        "                      seed.append((x_,y_,id))\n",
        "                      visited.add((x_,y_))\n",
        "              max_area = max(max_area, area)\n",
        "              islands[id] = area\n",
        "        print(islands)\n",
        "        return max_area        \n",
        "\n",
        "s = Solution()\n",
        "\n",
        "inputs = [\n",
        "  ([[1,0,1]]),\n",
        "  ([[0,0,1,0,0,0,0,1,0,0,0,0,0],[0,0,0,0,0,0,0,1,1,1,0,0,0],[0,1,1,0,1,0,0,0,0,0,0,0,0],[0,1,0,0,1,1,0,0,1,0,1,0,0],[0,1,0,0,1,1,0,0,1,1,1,0,0],[0,0,0,0,0,0,0,0,0,0,1,0,0],[0,0,0,0,0,0,0,1,1,1,0,0,0],[0,0,0,0,0,0,0,1,1,0,0,0,0]]),\n",
        "  ([[0,0,0,0,0,0,0,0]]),\n",
        "  ([\n",
        "    [0,0,0,0,0,0,0,0],\n",
        "    [0,0,0,0,1,0,0,0],\n",
        "    [0,0,0,1,1,1,0,0],\n",
        "    [0,0,0,0,1,0,0,0],\n",
        "    [0,0,0,0,0,0,0,0],\n",
        "    [0,0,0,0,0,0,0,0],\n",
        "    [1,1,0,0,0,0,0,0],\n",
        "    [1,1,0,0,1,1,0,0],\n",
        "    [1,1,0,0,1,1,0,0],\n",
        "    [0,0,1,1,1,1,1,1],\n",
        "    [0,0,0,0,1,1,0,0],\n",
        "    [0,0,0,0,1,1,0,0],\n",
        "    [0,0,0,0,0,0,0,0],\n",
        "  ])\n",
        "]\n",
        "\n",
        "for i in inputs:\n",
        "  print(s.maxAreaOfIsland(i))"
      ]
    }
  ]
}