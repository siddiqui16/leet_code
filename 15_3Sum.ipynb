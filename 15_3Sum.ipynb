{
  "nbformat": 4,
  "nbformat_minor": 0,
  "metadata": {
    "colab": {
      "name": "15. 3Sum.ipynb",
      "provenance": [],
      "authorship_tag": "ABX9TyMg/T1gw+gp0BlvakcJw9HE",
      "include_colab_link": true
    },
    "kernelspec": {
      "name": "python3",
      "display_name": "Python 3"
    },
    "language_info": {
      "name": "python"
    }
  },
  "cells": [
    {
      "cell_type": "markdown",
      "metadata": {
        "id": "view-in-github",
        "colab_type": "text"
      },
      "source": [
        "<a href=\"https://colab.research.google.com/github/siddiqui16/leet_code/blob/colab/15_3Sum.ipynb\" target=\"_parent\"><img src=\"https://colab.research.google.com/assets/colab-badge.svg\" alt=\"Open In Colab\"/></a>"
      ]
    },
    {
      "cell_type": "markdown",
      "source": [
        "[https://leetcode.com/problems/3sum/]"
      ],
      "metadata": {
        "id": "0Ft5TdiEVy7a"
      }
    },
    {
      "cell_type": "code",
      "execution_count": 7,
      "metadata": {
        "colab": {
          "base_uri": "https://localhost:8080/"
        },
        "id": "-B4JIXZRVyVQ",
        "outputId": "10ff982c-c8f7-4bd2-df20-3e01f153b5bc"
      },
      "outputs": [
        {
          "output_type": "stream",
          "name": "stdout",
          "text": [
            "0 1 2\n",
            "0 3 4\n",
            "1 2 4\n"
          ]
        },
        {
          "output_type": "execute_result",
          "data": {
            "text/plain": [
              "[[-1, -1, 2], [-1, 0, 1]]"
            ]
          },
          "metadata": {},
          "execution_count": 7
        }
      ],
      "source": [
        "class Solution(object):\n",
        "    def threeSum(self, nums):\n",
        "        \"\"\"\n",
        "        :type nums: List[int]\n",
        "        :rtype: List[List[int]]\n",
        "        \"\"\"\n",
        "        l = set()\n",
        "        n = len(nums)\n",
        "        \n",
        "        for i in range(n-2):\n",
        "            for j in range(i+1, n-1):\n",
        "                for k in range(j+1, n):\n",
        "                    if nums[i] + nums[j] + nums[k] == 0:\n",
        "                        print(i,j,k)\n",
        "                        x = sorted([nums[i], nums[j], nums[k]])\n",
        "                        l.add(\",\".join([f\"{x_}\" for x_ in x]))\n",
        "        ans = []\n",
        "        for t in l:\n",
        "          ans.append([int(k) for k in t.split(\",\")])\n",
        "        return ans\n",
        "\n",
        "s = Solution()\n",
        "s.threeSum(nums = [-1,0,1,2,-1,-4])"
      ]
    },
    {
      "cell_type": "code",
      "source": [
        "class Solution(object):\n",
        "    def threeSum(self, nums):\n",
        "        \"\"\"\n",
        "        :type nums: List[int]\n",
        "        :rtype: List[List[int]]\n",
        "        \"\"\"\n",
        "        sum2 = dict()\n",
        "        n = len(nums)\n",
        "        l = set()\n",
        "        \n",
        "        for i in range(n-1):\n",
        "            for j in range(i+1, n):\n",
        "              s2 = nums[i] + nums[j]\n",
        "              if s2 not in sum2:\n",
        "                sum2[s2] = []\n",
        "              sum2[s2].append([i,j])\n",
        "\n",
        "        for k in range(n):\n",
        "          s2 = 0 - nums[k]\n",
        "          if s2 in sum2:\n",
        "            for i,j in sum2[s2]:\n",
        "              if i!=k and j!=k:\n",
        "                l.add(tuple(sorted([nums[i],nums[j],nums[k]])))\n",
        "\n",
        "        print(sum2)\n",
        "        ans = []\n",
        "        for t in l:\n",
        "          ans.append(list(t))\n",
        "        return ans\n",
        "\n",
        "s = Solution()\n",
        "#s.threeSum(nums = [-1,0,1,2,-1,-4])\n",
        "s.threeSum(nums = [-1,0,1,2,-1,-4])"
      ],
      "metadata": {
        "colab": {
          "base_uri": "https://localhost:8080/"
        },
        "id": "ash6z7sVZFKs",
        "outputId": "2a881d13-b25d-49f9-f264-8adc9db3118e"
      },
      "execution_count": 17,
      "outputs": [
        {
          "output_type": "stream",
          "name": "stdout",
          "text": [
            "{-1: [[0, 1], [1, 4]], 0: [[0, 2], [2, 4]], 1: [[0, 3], [1, 2], [3, 4]], -2: [[0, 4], [3, 5]], -5: [[0, 5], [4, 5]], 2: [[1, 3]], -4: [[1, 5]], 3: [[2, 3]], -3: [[2, 5]]}\n"
          ]
        },
        {
          "output_type": "execute_result",
          "data": {
            "text/plain": [
              "[[-1, -1, 2], [-1, 0, 1]]"
            ]
          },
          "metadata": {},
          "execution_count": 17
        }
      ]
    }
  ]
}