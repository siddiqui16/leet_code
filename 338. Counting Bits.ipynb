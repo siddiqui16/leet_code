{
 "cells": [
  {
   "cell_type": "code",
   "execution_count": null,
   "metadata": {},
   "outputs": [],
   "source": [
    "class Solution:\n",
    "    def countBits2(self, n: int):\n",
    "        int_to_bin = {}\n",
    "        for ni in range(n + 1):\n",
    "            x = ni\n",
    "            b = []\n",
    "            while x > 1:\n",
    "                if x in int_to_bin:\n",
    "                    b.extend(int_to_bin[x])\n",
    "                    break\n",
    "                b.append(x%2)\n",
    "                x = int(x/2)\n",
    "            if x < 2:\n",
    "                b.append(x)\n",
    "            int_to_bin[ni] = b\n",
    "        for i in int_to_bin:\n",
    "            print(i, sum(int_to_bin[i]), int_to_bin[i])\n",
    "\n",
    "        return [sum(int_to_bin[i]) for i in int_to_bin]\n",
    "\n",
    "    def countBits(self, n: int):\n",
    "        int_to_bin = [0, 1]\n",
    "        for ni in range(2, n + 1):\n",
    "            int_to_bin.append(int_to_bin[int(ni/2)] + ni%2)\n",
    "\n",
    "        return int_to_bin[:n+1]\n",
    "\n",
    "s = Solution()\n",
    "\n",
    "n = 10\n",
    "print(s.countBits2(n))\n",
    "print(s.countBits(n))\n",
    "print(s.countBits(0))\n"
   ]
  }
 ],
 "metadata": {
  "kernelspec": {
   "display_name": "Python 3",
   "language": "python",
   "name": "python3"
  },
  "language_info": {
   "codemirror_mode": {
    "name": "ipython",
    "version": 3
   },
   "file_extension": ".py",
   "mimetype": "text/x-python",
   "name": "python",
   "nbconvert_exporter": "python",
   "pygments_lexer": "ipython3",
   "version": "3.7.3"
  }
 },
 "nbformat": 4,
 "nbformat_minor": 2
}
