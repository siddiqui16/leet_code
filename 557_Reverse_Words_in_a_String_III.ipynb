{
  "nbformat": 4,
  "nbformat_minor": 0,
  "metadata": {
    "colab": {
      "name": "557. Reverse Words in a String III.ipynb",
      "provenance": [],
      "authorship_tag": "ABX9TyOgnKaoVWaJ0TLkN6lw1jfF",
      "include_colab_link": true
    },
    "kernelspec": {
      "name": "python3",
      "display_name": "Python 3"
    },
    "language_info": {
      "name": "python"
    }
  },
  "cells": [
    {
      "cell_type": "markdown",
      "metadata": {
        "id": "view-in-github",
        "colab_type": "text"
      },
      "source": [
        "<a href=\"https://colab.research.google.com/github/siddiqui16/leet_code/blob/colab/557_Reverse_Words_in_a_String_III.ipynb\" target=\"_parent\"><img src=\"https://colab.research.google.com/assets/colab-badge.svg\" alt=\"Open In Colab\"/></a>"
      ]
    },
    {
      "cell_type": "markdown",
      "source": [
        "[https://leetcode.com/problems/reverse-words-in-a-string-iii/]"
      ],
      "metadata": {
        "id": "1YWaxkJu_Cm9"
      }
    },
    {
      "cell_type": "code",
      "execution_count": 18,
      "metadata": {
        "colab": {
          "base_uri": "https://localhost:8080/"
        },
        "id": "PNwdtrlm_Bn8",
        "outputId": "d8730ded-0976-4ef8-f6ed-98812d288cff"
      },
      "outputs": [
        {
          "output_type": "stream",
          "name": "stdout",
          "text": [
            "(\"s'teL ekat edoCteeL tsetnoc\", ['s', \"'\", 't', 'e', 'L', ' ', 'e', 'k', 'a', 't', ' ', 'e', 'd', 'o', 'C', 't', 'e', 'e', 'L', ' ', 't', 's', 'e', 't', 'n', 'o', 'c'])\n",
            "('doG gniD', ['d', 'o', 'G', ' ', 'g', 'n', 'i', 'D'])\n"
          ]
        }
      ],
      "source": [
        "class Solution:\n",
        "    def reverseWords(self, s: str) -> str:\n",
        "      s = list(s)\n",
        "      n = len(s)\n",
        "\n",
        "      l = 0 \n",
        "      while l < n:\n",
        "        r = l\n",
        "\n",
        "\n",
        "        while r+1 < n and s[r+1] != \" \":\n",
        "            r+=1\n",
        "        i = r+2\n",
        "        \n",
        "        while l<r:\n",
        "          w = s[r]\n",
        "          s[r] = s[l]\n",
        "          s[l] = w\n",
        "          l+=1\n",
        "          r-=1\n",
        "        l = i\n",
        "      return ''.join(s)\n",
        "        \n",
        "\n",
        "\n",
        "\n",
        "s = Solution()\n",
        "inputs = [\n",
        "          (\"Let's take LeetCode contest\"),\n",
        "          (\"God Ding\")\n",
        "]\n",
        "for i in inputs:\n",
        "  print(s.reverseWords(i))"
      ]
    }
  ]
}