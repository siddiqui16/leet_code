{
  "nbformat": 4,
  "nbformat_minor": 0,
  "metadata": {
    "colab": {
      "name": "146. LRU Cache.ipynb",
      "provenance": [],
      "authorship_tag": "ABX9TyPEZVZ2lpjii7MaCgZmKs2E",
      "include_colab_link": true
    },
    "kernelspec": {
      "name": "python3",
      "display_name": "Python 3"
    },
    "language_info": {
      "name": "python"
    }
  },
  "cells": [
    {
      "cell_type": "markdown",
      "metadata": {
        "id": "view-in-github",
        "colab_type": "text"
      },
      "source": [
        "<a href=\"https://colab.research.google.com/github/siddiqui16/leet_code/blob/colab/146_LRU_Cache.ipynb\" target=\"_parent\"><img src=\"https://colab.research.google.com/assets/colab-badge.svg\" alt=\"Open In Colab\"/></a>"
      ]
    },
    {
      "cell_type": "markdown",
      "source": [
        "[https://leetcode.com/problems/lru-cache]"
      ],
      "metadata": {
        "id": "TkYJofPupm5y"
      }
    },
    {
      "cell_type": "code",
      "execution_count": null,
      "metadata": {
        "id": "8WcTbRfmpYkA"
      },
      "outputs": [],
      "source": [
        "class Node:\n",
        "    def __init__(self, key, val, next=None, prev=None):\n",
        "        self.key = key\n",
        "        self.val = val\n",
        "        self.next = next\n",
        "        self.prev = prev\n",
        "        \n",
        "    def __repr__(self):\n",
        "        return self.__str__()\n",
        "\n",
        "    def __str__(self):\n",
        "        if self.key == None:\n",
        "            return f\"|> {self.next}\" \n",
        "        return f\"({self.key}: {self.val}) > {self.next}\"\n",
        "        \n",
        "class DoubleLinkedList:\n",
        "    def __init__(self):\n",
        "        self.head = Node(None,0)        \n",
        "        self.tail = Node(None,0)\n",
        "        \n",
        "        self.head.next = self.tail\n",
        "        self.tail.prev = self.head\n",
        "        \n",
        "    def remove_node(self, node):\n",
        "        node.prev.next = node.next\n",
        "        node.next.prev = node.prev\n",
        "        \n",
        "    def move_to_head(self, node: Node):\n",
        "        self.remove_node(node)\n",
        "        self.add_node(node)\n",
        "        \n",
        "    def add_node(self, node):\n",
        "        node.prev = self.head\n",
        "        node.next = self.head.next\n",
        "        \n",
        "        self.head.next.prev = node\n",
        "        self.head.next = node        \n",
        "    \n",
        "    def update_node(self, node):\n",
        "        self.move_to_head(node)\n",
        "            \n",
        "    def pop_tail(self):\n",
        "        last = self.tail.prev\n",
        "        if last.key is not None:\n",
        "            self.remove_node(last)\n",
        "            return last.key\n",
        "        \n",
        "    def __repr__(self):\n",
        "        return self.__str__()\n",
        "\n",
        "    def __str__(self):\n",
        "        return f\"({self.head})\"\n",
        "    \n",
        "\n",
        "class LRUCache:\n",
        "    def __init__(self, capacity: int):\n",
        "        self.capacity = capacity\n",
        "        self.n = 0\n",
        "        self.cache = DoubleLinkedList()\n",
        "        self.nodes   = {}\n",
        "        \n",
        "\n",
        "    def get(self, key: int) -> int:\n",
        "        if key not in self.nodes: \n",
        "            res = -1\n",
        "        else:\n",
        "            node = self.nodes[key]\n",
        "            res = node.val\n",
        "            self.cache.update_node(node)\n",
        "            #print(key, self.n, self.cache)\n",
        "        return res\n",
        "        \n",
        "    def put(self, key: int, value: int) -> None:\n",
        "        if key not in self.nodes:\n",
        "            if not self.n<self.capacity:\n",
        "                self.n-=1\n",
        "                del_k = self.cache.pop_tail()\n",
        "                del self.nodes[del_k]\n",
        "            node = Node(key, value)\n",
        "            self.nodes[key] = node\n",
        "            self.cache.add_node(node)\n",
        "            self.n+=1\n",
        "        else:\n",
        "            node = self.nodes[key]\n",
        "            node.val = value\n",
        "            self.cache.update_node(node)\n",
        "        #print(key, self.n, self.cache)\n",
        "        \n",
        "        \n",
        "\n",
        "\n",
        "# Your LRUCache object will be instantiated and called as such:\n",
        "# obj = LRUCache(capacity)\n",
        "# param_1 = obj.get(key)\n",
        "# obj.put(key,value)"
      ]
    }
  ]
}