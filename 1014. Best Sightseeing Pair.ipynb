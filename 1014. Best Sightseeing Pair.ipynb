{
 "cells": [
  {
   "cell_type": "markdown",
   "metadata": {},
   "source": [
    "https://leetcode.com/problems/best-sightseeing-pair/"
   ]
  },
  {
   "cell_type": "code",
   "execution_count": 22,
   "metadata": {},
   "outputs": [
    {
     "name": "stdout",
     "output_type": "stream",
     "text": [
      "                                         11 11 [8, 1, 5, 2, 6]\n",
      "                                         14 11 [8, 1, 5, 9, 6]\n",
      "                                         16 11 [8, 9, 5, 2, 6]\n",
      "                                         26 11 [18, 9, 5, 2, 6]\n",
      "                                         27 11 [18, 9, 5, 12, 6]\n"
     ]
    }
   ],
   "source": [
    "class Solution:\n",
    "    def maxScoreSightseeingPair(self, values):\n",
    "        n = len(values)\n",
    "        dp = [0] * n\n",
    "        \n",
    "        v_ = values[0]\n",
    "        for i in range(1,n):\n",
    "            v = values[i]\n",
    "            dp[i] = max(v_ + v - i, dp[i-1])\n",
    "            if v + i > v_:\n",
    "                v_ = v+i\n",
    "        return dp[i]\n",
    "    \n",
    "    \n",
    "cases = [\n",
    "    ([8,1,5,2,6], 11),\n",
    "    ([8,1,5,9,6], 11),\n",
    "    ([8,9,5,2,6], 11),\n",
    "    ([18,9,5,2,6], 11),\n",
    "    ([18,9,5,12,6], 11)\n",
    "]\n",
    "     \n",
    "s = Solution()\n",
    "for i,r in cases:\n",
    "    print(\" \"*40,s.maxScoreSightseeingPair(i),r, i)"
   ]
  }
 ],
 "metadata": {
  "kernelspec": {
   "display_name": "Python 3",
   "language": "python",
   "name": "python3"
  },
  "language_info": {
   "codemirror_mode": {
    "name": "ipython",
    "version": 3
   },
   "file_extension": ".py",
   "mimetype": "text/x-python",
   "name": "python",
   "nbconvert_exporter": "python",
   "pygments_lexer": "ipython3",
   "version": "3.7.3"
  }
 },
 "nbformat": 4,
 "nbformat_minor": 2
}
