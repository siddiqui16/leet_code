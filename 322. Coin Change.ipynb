{
 "cells": [
  {
   "cell_type": "code",
   "execution_count": 6,
   "metadata": {
    "scrolled": false
   },
   "outputs": [
    {
     "name": "stdout",
     "output_type": "stream",
     "text": [
      "[0, 4, 4, 4]\n",
      "[0, 4, 4, 4]\n",
      "[0, 1, 4, 4]\n",
      "[0, 1, 1, 4]\n",
      "[0, 1, 1, 4]\n",
      "[0, 1, 1, 2]\n"
     ]
    },
    {
     "data": {
      "text/plain": [
       "2"
      ]
     },
     "execution_count": 6,
     "metadata": {},
     "output_type": "execute_result"
    }
   ],
   "source": [
    "class Solution(object):\n",
    "    def f(self, coins, amount):\n",
    "        dp = [amount+1] * (amount + 1)\n",
    "        dp[0] = 0\n",
    "        \n",
    "        for a in range(1, amount + 1):\n",
    "            for c in coins:\n",
    "                dp[a] = min(dp[a], 1 + dp[a-c])\n",
    "        \n",
    "        return dp[amount] if dp[amount]< amount+1 else -1\n",
    "        \n",
    "\n",
    "    def coinChange(self, coins, amount):\n",
    "        return self.f(coins, amount)\n",
    "            \n",
    "            \n",
    "\n",
    "s = Solution()\n",
    "#s.coinChange(coins = [27,9,3,1], amount = 91)\n",
    "s.coinChange(coins = [2,1], amount = 3)\n",
    "#s.coinChange(coins=[186,419,83,408], amount=6249)"
   ]
  },
  {
   "cell_type": "code",
   "execution_count": 16,
   "metadata": {},
   "outputs": [
    {
     "name": "stdout",
     "output_type": "stream",
     "text": [
      "1 2 4 [0, 4, 4, 4]\n",
      "1 1 1 [0, 1, 4, 4]\n",
      "2 2 1 [0, 1, 1, 4]\n",
      "2 1 1 [0, 1, 1, 4]\n",
      "3 2 2 [0, 1, 1, 2]\n",
      "3 1 2 [0, 1, 1, 2]\n"
     ]
    },
    {
     "data": {
      "text/plain": [
       "2"
      ]
     },
     "execution_count": 16,
     "metadata": {},
     "output_type": "execute_result"
    }
   ],
   "source": [
    "class Solution:\n",
    "    def coinChange1(self, coins, amount):\n",
    "        dp = [amount+1] * (amount + 1)\n",
    "        \n",
    "        dp[0] = 0\n",
    "        for i in range(1, amount + 1):\n",
    "            for c in coins:\n",
    "                dp[i] = min(dp[i], dp[i-c]+1)\n",
    "                \n",
    "        res = dp[amount]\n",
    "        \n",
    "        return dp[amount] if  dp[amount]<amount+1 else -1\n",
    "s = Solution()\n",
    "s.coinChange1(coins = [2,1], amount = 3)\n"
   ]
  }
 ],
 "metadata": {
  "kernelspec": {
   "display_name": "Python 3",
   "language": "python",
   "name": "python3"
  },
  "language_info": {
   "codemirror_mode": {
    "name": "ipython",
    "version": 3
   },
   "file_extension": ".py",
   "mimetype": "text/x-python",
   "name": "python",
   "nbconvert_exporter": "python",
   "pygments_lexer": "ipython3",
   "version": "3.7.3"
  }
 },
 "nbformat": 4,
 "nbformat_minor": 2
}
