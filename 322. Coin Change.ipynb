{
 "cells": [
  {
   "cell_type": "code",
   "execution_count": 46,
   "metadata": {
    "scrolled": false
   },
   "outputs": [
    {
     "data": {
      "text/plain": [
       "20"
      ]
     },
     "execution_count": 46,
     "metadata": {},
     "output_type": "execute_result"
    }
   ],
   "source": [
    "class Solution(object):\n",
    "    def f(self, coins, amount):\n",
    "        dp = [amount+1] * (amount + 1)\n",
    "        dp[0] = 0\n",
    "        \n",
    "        for a in range(1, amount + 1):\n",
    "            for c in coins:\n",
    "                dp[a] = min(dp[a], 1 + dp[a-c])\n",
    "        \n",
    "        return dp[amount] if dp[amount]< amount+1 else -1\n",
    "        \n",
    "\n",
    "    def coinChange(self, coins, amount):\n",
    "        return self.f(coins, amount)\n",
    "            \n",
    "            \n",
    "\n",
    "s = Solution()\n",
    "#s.coinChange(coins = [27,9,3,1], amount = 91)\n",
    "#s.coinChange(coins = [2], amount = 3)\n",
    "s.coinChange(coins=[186,419,83,408], amount=6249)"
   ]
  }
 ],
 "metadata": {
  "kernelspec": {
   "display_name": "Python 3",
   "language": "python",
   "name": "python3"
  },
  "language_info": {
   "codemirror_mode": {
    "name": "ipython",
    "version": 3
   },
   "file_extension": ".py",
   "mimetype": "text/x-python",
   "name": "python",
   "nbconvert_exporter": "python",
   "pygments_lexer": "ipython3",
   "version": "3.7.3"
  }
 },
 "nbformat": 4,
 "nbformat_minor": 2
}
