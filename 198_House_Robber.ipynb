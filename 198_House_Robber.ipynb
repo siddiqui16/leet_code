{
  "nbformat": 4,
  "nbformat_minor": 0,
  "metadata": {
    "colab": {
      "name": "198. House Robber.ipynb",
      "provenance": [],
      "authorship_tag": "ABX9TyNQmW50tLWlVj/E8VB71D4k",
      "include_colab_link": true
    },
    "kernelspec": {
      "name": "python3",
      "display_name": "Python 3"
    },
    "language_info": {
      "name": "python"
    }
  },
  "cells": [
    {
      "cell_type": "markdown",
      "metadata": {
        "id": "view-in-github",
        "colab_type": "text"
      },
      "source": [
        "<a href=\"https://colab.research.google.com/github/siddiqui16/leet_code/blob/colab/198_House_Robber.ipynb\" target=\"_parent\"><img src=\"https://colab.research.google.com/assets/colab-badge.svg\" alt=\"Open In Colab\"/></a>"
      ]
    },
    {
      "cell_type": "markdown",
      "source": [
        "[https://leetcode.com/problems/house-robber/]"
      ],
      "metadata": {
        "id": "EYEEGi7J67ID"
      }
    },
    {
      "cell_type": "markdown",
      "source": [
        "# DP 👍"
      ],
      "metadata": {
        "id": "lvSXCcht7AN2"
      }
    },
    {
      "cell_type": "code",
      "execution_count": 49,
      "metadata": {
        "colab": {
          "base_uri": "https://localhost:8080/"
        },
        "id": "EvZU4aR064aF",
        "outputId": "a0a9afce-f359-4c09-d306-48e4df54ef94"
      },
      "outputs": [
        {
          "output_type": "stream",
          "name": "stdout",
          "text": [
            "7 6\n",
            "6 6\n",
            "4 4\n",
            "12 12\n"
          ]
        }
      ],
      "source": [
        "class Solution:\n",
        "    def rob(self, nums, i = -1):\n",
        "        if len(nums)==0:\n",
        "            return 0\n",
        "        elif len(nums)==1:\n",
        "            return nums[0]\n",
        "        \n",
        "        p = [-1] * len(nums)\n",
        "        p[0] = nums[0]\n",
        "        p[1] = max(nums[:2])\n",
        "        \n",
        "        for i in range(2, len(p)):\n",
        "            p[i] = max(p[i-1], p[i-2]+nums[i])\n",
        "        \n",
        "        return p[-1]\n",
        "\n",
        "inputs = [\n",
        "         ([3,1,3,1,1,1], 6),\n",
        "         ([4,6],6),\n",
        "         ([1,2,3,1],4),\n",
        "         ([2,7,9,3,1], 12)\n",
        "]\n",
        "\n",
        "for i,o in inputs:\n",
        "  s = Solution()\n",
        "  print(s.rob(i), o)"
      ]
    },
    {
      "cell_type": "markdown",
      "source": [
        "# Recursion with memoisation 💗"
      ],
      "metadata": {
        "id": "Vv9n-Q8I7FNz"
      }
    },
    {
      "cell_type": "code",
      "source": [
        "# Class\n",
        "class Solution:\n",
        "  def __init__(self):\n",
        "    self.dp = {}\n",
        "  def rob(self, nums):\n",
        "    n = len(nums)\n",
        "    if n == 0:\n",
        "      return 0\n",
        "    if n == 1:\n",
        "      return nums[0]\n",
        "    else:\n",
        "      v = nums.pop(0)\n",
        "      l0 = len(nums[1:])\n",
        "      l1 = len(nums[:])\n",
        "\n",
        "      if l0 not in self.dp:\n",
        "        self.dp[l0] = self.rob(nums[1:])\n",
        "      if l1 not in self.dp:\n",
        "        self.dp[l1] = self.rob(nums)\n",
        "      return max(v+self.dp[l0], self.dp[l1])\n",
        "\n",
        "inputs = [\n",
        "         ([3,1,3,1,1,1], 6),\n",
        "         ([4,6],6),\n",
        "         ([1,2,3,1],4),\n",
        "         ([2,7,9,3,1], 12)\n",
        "]\n",
        "\n",
        "\n",
        "for i,o in inputs:\n",
        "  s = Solution()\n",
        "  print(s.rob(i), o, s.dp)"
      ],
      "metadata": {
        "colab": {
          "base_uri": "https://localhost:8080/"
        },
        "id": "stHkSUmp7FwP",
        "outputId": "23ed7aab-6151-4e66-ebe9-5a77f3c589fd"
      },
      "execution_count": 46,
      "outputs": [
        {
          "output_type": "stream",
          "name": "stdout",
          "text": [
            "7 6 {0: 0, 1: 1, 2: 1, 3: 2, 4: 4, 5: 4}\n",
            "6 6 {0: 0, 1: 6}\n",
            "4 4 {0: 0, 1: 1, 2: 3, 3: 3}\n",
            "12 12 {1: 1, 0: 0, 2: 3, 3: 10, 4: 10}\n"
          ]
        }
      ]
    }
  ]
}