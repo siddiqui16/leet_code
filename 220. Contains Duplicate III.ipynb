{
 "cells": [
  {
   "cell_type": "markdown",
   "metadata": {},
   "source": [
    "https://leetcode.com/problems/contains-duplicate-iii/"
   ]
  },
  {
   "cell_type": "code",
   "execution_count": null,
   "metadata": {},
   "outputs": [],
   "source": []
  },
  {
   "cell_type": "code",
   "execution_count": 29,
   "metadata": {},
   "outputs": [
    {
     "name": "stdout",
     "output_type": "stream",
     "text": [
      "1 []\n",
      "5 [1]\n",
      "9 [1, 5]\n",
      "1 [5, 9]\n",
      "5 [9, 1]\n",
      "9 [1, 5]\n",
      "1 []\n",
      "2 [1]\n",
      "3 [1, 2]\n"
     ]
    },
    {
     "data": {
      "text/plain": [
       "True"
      ]
     },
     "execution_count": 29,
     "metadata": {},
     "output_type": "execute_result"
    }
   ],
   "source": [
    "class Solution(object):\n",
    "    def containsNearbyAlmostDuplicate(self, nums, k, t):\n",
    "        \"\"\"\n",
    "        :type nums: List[int]\n",
    "        :type k: int\n",
    "        :type t: int\n",
    "        :rtype: bool\n",
    "        \"\"\"\n",
    "        \n",
    "        w = []\n",
    "        \n",
    "        \n",
    "        for i, x in enumerate(nums):\n",
    "            if len(w) >= k+1:\n",
    "                w = w[1:]\n",
    "            for y in w:\n",
    "                if abs(x-y) <= t:\n",
    "                    return True\n",
    "            w.append(x)\n",
    "        return False\n",
    "        \n",
    "        \n",
    "s = Solution()\n",
    "s.containsNearbyAlmostDuplicate(nums = [1,5,9,1,5,9], k = 2, t = 3)\n",
    "s.containsNearbyAlmostDuplicate([1,2,3,1], k = 3, t = 0)"
   ]
  },
  {
   "cell_type": "code",
   "execution_count": null,
   "metadata": {},
   "outputs": [],
   "source": []
  },
  {
   "cell_type": "code",
   "execution_count": 24,
   "metadata": {},
   "outputs": [
    {
     "data": {
      "text/plain": [
       "[1, 2]"
      ]
     },
     "execution_count": 24,
     "metadata": {},
     "output_type": "execute_result"
    }
   ],
   "source": [
    "c=[1,2,3]\n",
    "c[0:2]"
   ]
  }
 ],
 "metadata": {
  "kernelspec": {
   "display_name": "Python 3",
   "language": "python",
   "name": "python3"
  },
  "language_info": {
   "codemirror_mode": {
    "name": "ipython",
    "version": 3
   },
   "file_extension": ".py",
   "mimetype": "text/x-python",
   "name": "python",
   "nbconvert_exporter": "python",
   "pygments_lexer": "ipython3",
   "version": "3.7.3"
  }
 },
 "nbformat": 4,
 "nbformat_minor": 2
}
