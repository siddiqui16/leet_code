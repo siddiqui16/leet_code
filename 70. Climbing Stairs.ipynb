{
 "cells": [
  {
   "cell_type": "code",
   "execution_count": 23,
   "metadata": {},
   "outputs": [
    {
     "name": "stdout",
     "output_type": "stream",
     "text": [
      "{4: 1, 5: 0}\n",
      "{4: 1, 5: 0, 3: 1}\n",
      "{4: 1, 5: 0, 3: 1, 2: 2}\n",
      "{4: 1, 5: 0, 3: 1, 2: 2, 1: 3}\n"
     ]
    },
    {
     "data": {
      "text/plain": [
       "5"
      ]
     },
     "execution_count": 23,
     "metadata": {},
     "output_type": "execute_result"
    }
   ],
   "source": [
    "class Solution:\n",
    "    p = {}\n",
    "    def climbStairs(self, n, c = 0) -> int:\n",
    "        if c == n:\n",
    "            return 1\n",
    "        elif c > n:\n",
    "            return 0\n",
    "        \n",
    "        if (c+1) not in self.p:\n",
    "            self.p[(c+1)] = self.climbStairs(n,c+1)\n",
    "        if (c+2) not in self.p:\n",
    "            self.p[(c+2)] = self.climbStairs(n,c+2)\n",
    "        \n",
    "        print(self.p)\n",
    "        if c<n:\n",
    "            return self.p[(c+1)] + self.p[(c+2)] \n",
    "\n",
    "s = Solution()\n",
    "s.climbStairs(4)"
   ]
  },
  {
   "cell_type": "code",
   "execution_count": 52,
   "metadata": {},
   "outputs": [
    {
     "name": "stdout",
     "output_type": "stream",
     "text": [
      "1 {0: 1, -1: 0}\n",
      "2 {0: 1, -1: 0, 1: 1}\n",
      "3 {0: 1, -1: 0, 1: 1, 2: 2}\n",
      "4 {0: 1, -1: 0, 1: 1, 2: 2, 3: 3}\n"
     ]
    },
    {
     "data": {
      "text/plain": [
       "5"
      ]
     },
     "execution_count": 52,
     "metadata": {},
     "output_type": "execute_result"
    }
   ],
   "source": [
    "class Solution:\n",
    "    p = {}\n",
    "    def climbStairs(self, n):\n",
    "        if n==0:\n",
    "            return 1\n",
    "        elif n < 0:\n",
    "            return 0\n",
    "        \n",
    "        if (n-1) not in self.p:\n",
    "            self.p[(n-1)] = self.climbStairs(n-1)\n",
    "        if (n-2) not in self.p:\n",
    "            self.p[(n-2)] = self.climbStairs(n-2)\n",
    "        \n",
    "        print(n, self.p)\n",
    "        if n>0:\n",
    "            return self.p[(n-1)] + self.p[(n-2)]\n",
    "        \n",
    "        \n",
    "\n",
    "s = Solution()\n",
    "s.climbStairs(4)"
   ]
  }
 ],
 "metadata": {
  "kernelspec": {
   "display_name": "Python 3",
   "language": "python",
   "name": "python3"
  },
  "language_info": {
   "codemirror_mode": {
    "name": "ipython",
    "version": 3
   },
   "file_extension": ".py",
   "mimetype": "text/x-python",
   "name": "python",
   "nbconvert_exporter": "python",
   "pygments_lexer": "ipython3",
   "version": "3.7.3"
  }
 },
 "nbformat": 4,
 "nbformat_minor": 2
}
