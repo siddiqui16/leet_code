{
 "cells": [
  {
   "cell_type": "markdown",
   "metadata": {},
   "source": [
    "https://leetcode.com/problems/maximum-product-subarray/"
   ]
  },
  {
   "cell_type": "code",
   "execution_count": 31,
   "metadata": {},
   "outputs": [
    {
     "data": {
      "text/plain": [
       "24"
      ]
     },
     "execution_count": 31,
     "metadata": {},
     "output_type": "execute_result"
    }
   ],
   "source": [
    "class Solution:\n",
    "    def maxProduct(self, nums) -> int:\n",
    "        if len(nums)==0:\n",
    "            return 0\n",
    "        if len(nums)==1:\n",
    "            return nums[0]\n",
    "        \n",
    "        p =  {}\n",
    "        \n",
    "        p[(0,\"max\")] = nums[0]\n",
    "        p[(0,\"min\")] = nums[0]\n",
    "        \n",
    "        max_sum = max(p[(0,\"max\")], p[(0,\"min\")])\n",
    "        for i in range(1, len(nums)):\n",
    "            p[(i,\"max\")] = max(nums[i], nums[i]*p[(i-1,\"max\")], nums[i]*p[(i-1,\"min\")])\n",
    "            p[(i,\"min\")] = min(nums[i], nums[i]*p[(i-1,\"min\")], nums[i]*p[(i-1,\"max\")])\n",
    "            max_sum = max(max_sum, p[(i,\"max\")], p[(i,\"min\")])\n",
    "            \n",
    "        return max_sum\n",
    "s=Solution()\n",
    "s.maxProduct([1,2,33,-1,8,6])\n",
    "s.maxProduct([-2,3,-4])\n",
    "\n"
   ]
  }
 ],
 "metadata": {
  "kernelspec": {
   "display_name": "Python 3",
   "language": "python",
   "name": "python3"
  },
  "language_info": {
   "codemirror_mode": {
    "name": "ipython",
    "version": 3
   },
   "file_extension": ".py",
   "mimetype": "text/x-python",
   "name": "python",
   "nbconvert_exporter": "python",
   "pygments_lexer": "ipython3",
   "version": "3.7.3"
  }
 },
 "nbformat": 4,
 "nbformat_minor": 2
}
