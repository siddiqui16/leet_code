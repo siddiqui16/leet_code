{
  "nbformat": 4,
  "nbformat_minor": 0,
  "metadata": {
    "colab": {
      "name": "102. Binary Tree Level Order Traversal.ipynb",
      "provenance": [],
      "authorship_tag": "ABX9TyN9ty8nf6YVLjvnM729wEV+",
      "include_colab_link": true
    },
    "kernelspec": {
      "name": "python3",
      "display_name": "Python 3"
    },
    "language_info": {
      "name": "python"
    }
  },
  "cells": [
    {
      "cell_type": "markdown",
      "metadata": {
        "id": "view-in-github",
        "colab_type": "text"
      },
      "source": [
        "<a href=\"https://colab.research.google.com/github/siddiqui16/leet_code/blob/colab/102_Binary_Tree_Level_Order_Traversal.ipynb\" target=\"_parent\"><img src=\"https://colab.research.google.com/assets/colab-badge.svg\" alt=\"Open In Colab\"/></a>"
      ]
    },
    {
      "cell_type": "markdown",
      "source": [
        "[https://leetcode.com/problems/binary-tree-level-order-traversal/]"
      ],
      "metadata": {
        "id": "1aCLCDOESRJb"
      }
    },
    {
      "cell_type": "code",
      "execution_count": null,
      "metadata": {
        "id": "vkplvFT6SMw0"
      },
      "outputs": [],
      "source": [
        "from collections import deque\n",
        "\n",
        "# Definition for a binary tree node.\n",
        "# class TreeNode(object):\n",
        "#     def __init__(self, val=0, left=None, right=None):\n",
        "#         self.val = val\n",
        "#         self.left = left\n",
        "#         self.right = right\n",
        "class Solution(object):\n",
        "    def levelOrder(self, root):\n",
        "        \"\"\"\n",
        "        :type root: TreeNode\n",
        "        :rtype: List[List[int]]\n",
        "        \"\"\"\n",
        "\n",
        "        M = {}\n",
        "        seed = deque()\n",
        "        if not root:\n",
        "          return []\n",
        "        seed.append((root, 0, 0))\n",
        "        min_h = 0\n",
        "        max_h = 0\n",
        "\n",
        "        while seed:\n",
        "          n,h,c = seed.popleft()\n",
        "\n",
        "          min_h = min(h, min_h)\n",
        "          max_h = max(h, max_h)\n",
        "\n",
        "          if h not in M:\n",
        "            M[h] = []\n",
        "          M[h].append(n.val)\n",
        "\n",
        "          if n.left:\n",
        "            seed.append((n.left, h+1, c-1))\n",
        "          if n.right:\n",
        "            seed.append((n.right, h+1, c+1))\n",
        "        result = [M[h]for h in range(min_h, max_h+1)]\n",
        "        return result\n",
        "\n"
      ]
    }
  ]
}