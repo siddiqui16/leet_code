{
  "nbformat": 4,
  "nbformat_minor": 0,
  "metadata": {
    "colab": {
      "name": "46. Permutations.ipynb",
      "provenance": [],
      "authorship_tag": "ABX9TyPpzIVfMHaRkTd6E7iILRov",
      "include_colab_link": true
    },
    "kernelspec": {
      "name": "python3",
      "display_name": "Python 3"
    },
    "language_info": {
      "name": "python"
    }
  },
  "cells": [
    {
      "cell_type": "markdown",
      "metadata": {
        "id": "view-in-github",
        "colab_type": "text"
      },
      "source": [
        "<a href=\"https://colab.research.google.com/github/siddiqui16/leet_code/blob/colab/0001-0200/0046_permutations.ipynb\" target=\"_parent\"><img src=\"https://colab.research.google.com/assets/colab-badge.svg\" alt=\"Open In Colab\"/></a>"
      ]
    },
    {
      "cell_type": "markdown",
      "source": [
        "[https://leetcode.com/problems/permutations/]"
      ],
      "metadata": {
        "id": "McGFHGRL_2UY"
      }
    },
    {
      "cell_type": "code",
      "execution_count": 2,
      "metadata": {
        "colab": {
          "base_uri": "https://localhost:8080/"
        },
        "id": "1FejhRNf_z72",
        "outputId": "93e4e47e-72f4-43f7-dad0-47f6b771028d"
      },
      "outputs": [
        {
          "output_type": "stream",
          "name": "stdout",
          "text": [
            "3 6\n"
          ]
        },
        {
          "output_type": "execute_result",
          "data": {
            "text/plain": [
              "[[1, 2, 3], [1, 3, 2], [2, 1, 3], [2, 3, 1], [3, 1, 2], [3, 2, 1]]"
            ]
          },
          "metadata": {},
          "execution_count": 2
        }
      ],
      "source": [
        "class Solution(object):\n",
        "    def permute(self, nums, d = 0):\n",
        "\n",
        "      if len(nums) < 2:\n",
        "        return [nums]\n",
        "      else:\n",
        "        p = []\n",
        "        for i,n in enumerate(nums):\n",
        "          res = self.permute(nums[:i] + nums[i+1:], d+1)\n",
        "          p.extend([[n]+j for j in res])\n",
        "        if d == 0:\n",
        "          print(len(nums), len(p))\n",
        "        return p\n",
        "\n",
        "\n",
        "s = Solution()\n",
        "s.permute([1,2,3])"
      ]
    },
    {
      "cell_type": "markdown",
      "source": [
        "# Efficient Backtracking"
      ],
      "metadata": {
        "id": "d25NOAgEHXeP"
      }
    },
    {
      "cell_type": "code",
      "source": [
        "class Solution(object):\n",
        "    def permute(self, nums):\n",
        "      n = len(nums)\n",
        "      if n == 1:\n",
        "        return [nums]\n",
        "      \n",
        "      res = []\n",
        "      for i in range(n):\n",
        "        v = nums.pop(0)\n",
        "        r = self.permute(nums)\n",
        "        for p in r:\n",
        "          #print(v,p, r)\n",
        "          res.append([v]+p)\n",
        "        # backtrack\n",
        "        nums.append(v)\n",
        "      return res\n",
        "\n",
        "\n",
        "\n",
        "s = Solution()\n",
        "s.permute([1,2,3])"
      ],
      "metadata": {
        "id": "EX6RWUUvFLaD",
        "outputId": "cb4fef77-80d6-43e5-d3c3-d410e8b801b9",
        "colab": {
          "base_uri": "https://localhost:8080/"
        }
      },
      "execution_count": 15,
      "outputs": [
        {
          "output_type": "execute_result",
          "data": {
            "text/plain": [
              "[[1, 2, 3], [1, 3, 2], [2, 3, 1], [2, 1, 3], [3, 1, 2], [3, 2, 1]]"
            ]
          },
          "metadata": {},
          "execution_count": 15
        }
      ]
    }
  ]
}