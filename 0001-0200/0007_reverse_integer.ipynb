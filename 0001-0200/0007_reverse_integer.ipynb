{
 "cells": [
  {
   "cell_type": "markdown",
   "metadata": {},
   "source": [
    "https://leetcode.com/problems/reverse-integer/"
   ]
  },
  {
   "cell_type": "code",
   "execution_count": null,
   "metadata": {},
   "outputs": [],
   "source": [
    "class Solution(object):\n",
    "    def reverse(self, x):\n",
    "        \"\"\"\n",
    "        :type x: int\n",
    "        :rtype: int\n",
    "        \"\"\"\n",
    "        c=x\n",
    "        r=0\n",
    "        sign=1\n",
    "        if c<0:\n",
    "            c=c*-1\n",
    "            sign=-1\n",
    "            \n",
    "        while c>0:\n",
    "            r=r*10+c%10\n",
    "            c=c/10\n",
    "        r*=sign\n",
    "        if r>2**31-1 or r<2**31*-1:\n",
    "            return 0\n",
    "        \n",
    "        return r\n",
    "        "
   ]
  }
 ],
 "metadata": {
  "kernelspec": {
   "display_name": "Python 3",
   "language": "python",
   "name": "python3"
  },
  "language_info": {
   "codemirror_mode": {
    "name": "ipython",
    "version": 3
   },
   "file_extension": ".py",
   "mimetype": "text/x-python",
   "name": "python",
   "nbconvert_exporter": "python",
   "pygments_lexer": "ipython3",
   "version": "3.7.3"
  }
 },
 "nbformat": 4,
 "nbformat_minor": 2
}
