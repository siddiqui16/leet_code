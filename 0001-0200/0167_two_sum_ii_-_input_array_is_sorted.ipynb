{
 "cells": [
  {
   "cell_type": "code",
   "execution_count": 2,
   "metadata": {},
   "outputs": [
    {
     "name": "stdout",
     "output_type": "stream",
     "text": [
      "0 + 3 = 3\n"
     ]
    },
    {
     "data": {
      "text/plain": [
       "[1, 4]"
      ]
     },
     "execution_count": 2,
     "metadata": {},
     "output_type": "execute_result"
    }
   ],
   "source": [
    "class Solution:\n",
    "    def twoSum(self, n, target):\n",
    "        i = 0\n",
    "        j = len(n) - 1\n",
    "        \n",
    "        while i<j:\n",
    "            if n[i] + n[j] == target:\n",
    "                print(f\"{n[i]} + {n[j]} = {target}\")\n",
    "                return [i+1,j+1]\n",
    "            elif n[i] + n[j] > target:\n",
    "                j-=1\n",
    "            else:\n",
    "                i+=1\n",
    "\n",
    "s = Solution()\n",
    "s.twoSum(range(10),3)\n",
    "        "
   ]
  }
 ],
 "metadata": {
  "kernelspec": {
   "display_name": "Python 3",
   "language": "python",
   "name": "python3"
  },
  "language_info": {
   "codemirror_mode": {
    "name": "ipython",
    "version": 3
   },
   "file_extension": ".py",
   "mimetype": "text/x-python",
   "name": "python",
   "nbconvert_exporter": "python",
   "pygments_lexer": "ipython3",
   "version": "3.7.3"
  }
 },
 "nbformat": 4,
 "nbformat_minor": 2
}
