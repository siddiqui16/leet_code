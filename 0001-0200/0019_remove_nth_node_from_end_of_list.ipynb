{
  "nbformat": 4,
  "nbformat_minor": 0,
  "metadata": {
    "colab": {
      "name": "19. Remove Nth Node From End of List.ipynb",
      "provenance": [],
      "authorship_tag": "ABX9TyNX7Lwlk3vlal0OZhuCxlbq",
      "include_colab_link": true
    },
    "kernelspec": {
      "name": "python3",
      "display_name": "Python 3"
    },
    "language_info": {
      "name": "python"
    }
  },
  "cells": [
    {
      "cell_type": "markdown",
      "metadata": {
        "id": "view-in-github",
        "colab_type": "text"
      },
      "source": [
        "<a href=\"https://colab.research.google.com/github/siddiqui16/leet_code/blob/colab/19_Remove_Nth_Node_From_End_of_List.ipynb\" target=\"_parent\"><img src=\"https://colab.research.google.com/assets/colab-badge.svg\" alt=\"Open In Colab\"/></a>"
      ]
    },
    {
      "cell_type": "markdown",
      "source": [
        "[https://leetcode.com/problems/remove-nth-node-from-end-of-list/]"
      ],
      "metadata": {
        "id": "bfFWO8OBoWTe"
      }
    },
    {
      "cell_type": "code",
      "execution_count": null,
      "metadata": {
        "id": "q8ilitgGoVcZ"
      },
      "outputs": [],
      "source": [
        "# Definition for singly-linked list.\n",
        "# class ListNode:\n",
        "#     def __init__(self, val=0, next=None):\n",
        "#         self.val = val\n",
        "#         self.next = next\n",
        "class Solution:\n",
        "    def removeNthFromEnd(self, head: Optional[ListNode], n: int) -> Optional[ListNode]:\n",
        "        curr = head\n",
        "        N = 0\n",
        "        \n",
        "        while curr:\n",
        "            curr = curr.next\n",
        "            N += 1\n",
        "            \n",
        "        if N == n:\n",
        "            return head.next\n",
        "        \n",
        "        if N == n == 1:\n",
        "            return None\n",
        "        \n",
        "        curr = head\n",
        "        i = 0\n",
        "        while curr:\n",
        "            i += 1\n",
        "            if N-i == n:\n",
        "                curr.next = curr.next.next\n",
        "                break\n",
        "            curr = curr.next\n",
        "        return head\n",
        "            \n",
        "        "
      ]
    }
  ]
}