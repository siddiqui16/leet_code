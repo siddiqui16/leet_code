{
 "cells": [
  {
   "cell_type": "markdown",
   "metadata": {},
   "source": [
    "# 198. House Robber"
   ]
  },
  {
   "cell_type": "code",
   "execution_count": 21,
   "metadata": {},
   "outputs": [
    {
     "data": {
      "text/plain": [
       "12"
      ]
     },
     "execution_count": 21,
     "metadata": {},
     "output_type": "execute_result"
    }
   ],
   "source": [
    "class Solution:\n",
    "    p = {}\n",
    "    def rob(self, nums, i = -1):\n",
    "        if i >= len(nums):\n",
    "            return 0\n",
    "        elif i == len(nums) - 1:\n",
    "            return nums[i]\n",
    "        \n",
    "        a = 0 if i<0 else nums[i]\n",
    "        \n",
    "        if (i+1) not in self.p:\n",
    "            self.p[(i+1)] = self.rob(nums, i+1)\n",
    "        if (i+2) not in self.p:\n",
    "            self.p[(i+2)] = self.rob(nums, i+2)\n",
    "            \n",
    "        return max(0+self.p[(i+1)], a+self.p[(i+2)])\n",
    "    \n",
    "s = Solution()\n",
    "s.rob([2,7,9,3,1,1])\n"
   ]
  },
  {
   "cell_type": "code",
   "execution_count": 26,
   "metadata": {},
   "outputs": [
    {
     "name": "stdout",
     "output_type": "stream",
     "text": [
      "2\n",
      "1\n"
     ]
    }
   ],
   "source": [
    "a = [1,2]\n",
    "print(sum(a[1:]))\n",
    "print(sum(a[:-1]))"
   ]
  },
  {
   "cell_type": "code",
   "execution_count": 2,
   "metadata": {},
   "outputs": [
    {
     "data": {
      "text/plain": [
       "12"
      ]
     },
     "execution_count": 2,
     "metadata": {},
     "output_type": "execute_result"
    }
   ],
   "source": [
    "class Solution:\n",
    "    def rob(self, nums, i = -1):\n",
    "        if len(nums)==0:\n",
    "            return 0\n",
    "        elif len(nums)==1:\n",
    "            return nums[0]\n",
    "        \n",
    "        p = [-1] * len(nums)\n",
    "        p[0] = nums[0]\n",
    "        p[1] = nums[1]\n",
    "        \n",
    "        for i in range(2, len(p)):\n",
    "            p[i] = max(p[i-1], p[i-2]+nums[i])\n",
    "        \n",
    "        return p[-1]\n",
    "\n",
    "\n",
    "s = Solution()\n",
    "s.rob([2,7,9,3,1,1])"
   ]
  }
 ],
 "metadata": {
  "kernelspec": {
   "display_name": "Python 3",
   "language": "python",
   "name": "python3"
  },
  "language_info": {
   "codemirror_mode": {
    "name": "ipython",
    "version": 3
   },
   "file_extension": ".py",
   "mimetype": "text/x-python",
   "name": "python",
   "nbconvert_exporter": "python",
   "pygments_lexer": "ipython3",
   "version": "3.7.3"
  }
 },
 "nbformat": 4,
 "nbformat_minor": 2
}
