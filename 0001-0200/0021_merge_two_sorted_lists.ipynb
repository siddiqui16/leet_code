{
  "nbformat": 4,
  "nbformat_minor": 0,
  "metadata": {
    "colab": {
      "name": "21. Merge Two Sorted Lists.ipynb",
      "provenance": [],
      "collapsed_sections": [],
      "authorship_tag": "ABX9TyMSdpuZaEwDGtemKjHkouMe",
      "include_colab_link": true
    },
    "kernelspec": {
      "name": "python3",
      "display_name": "Python 3"
    },
    "language_info": {
      "name": "python"
    }
  },
  "cells": [
    {
      "cell_type": "markdown",
      "metadata": {
        "id": "view-in-github",
        "colab_type": "text"
      },
      "source": [
        "<a href=\"https://colab.research.google.com/github/siddiqui16/leet_code/blob/colab/21_Merge_Two_Sorted_Lists.ipynb\" target=\"_parent\"><img src=\"https://colab.research.google.com/assets/colab-badge.svg\" alt=\"Open In Colab\"/></a>"
      ]
    },
    {
      "cell_type": "markdown",
      "source": [
        "[https://leetcode.com/problems/merge-two-sorted-lists/]"
      ],
      "metadata": {
        "id": "H5t2Bm0u9vQf"
      }
    },
    {
      "cell_type": "code",
      "execution_count": null,
      "metadata": {
        "id": "ScY52qFb9u36"
      },
      "outputs": [],
      "source": [
        "# Definition for singly-linked list.\n",
        "# class ListNode:\n",
        "#     def __init__(self, val=0, next=None):\n",
        "#         self.val = val\n",
        "#         self.next = next\n",
        "class Solution:\n",
        "    def mergeTwoLists(self, list1: Optional[ListNode], list2: Optional[ListNode]) -> Optional[ListNode]:\n",
        "        \n",
        "        if not (list1 or list2):\n",
        "            return None\n",
        "        \n",
        "        l = ListNode()\n",
        "        n1,n2,n = list1,list2,l\n",
        "        while n1 and n2:\n",
        "            if n1.val<n2.val:\n",
        "                n.val = n1.val\n",
        "                n1 = n1.next\n",
        "                n.next = ListNode()\n",
        "                n = n.next\n",
        "            else:\n",
        "                n.val = n2.val\n",
        "                n2 = n2.next\n",
        "                n.next = ListNode()\n",
        "                n = n.next\n",
        "        \n",
        "        while n1:\n",
        "            n.val = n1.val\n",
        "            if n1.next:\n",
        "                n.next = ListNode()\n",
        "                n = n.next\n",
        "            n1 = n1.next\n",
        "\n",
        "        while n2:\n",
        "            n.val = n2.val\n",
        "            if n2.next:\n",
        "                n.next = ListNode()\n",
        "                n = n.next\n",
        "            n2 = n2.next\n",
        "        return l\n",
        "\n",
        "        "
      ]
    }
  ]
}