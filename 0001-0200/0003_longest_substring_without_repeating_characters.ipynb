{
  "cells": [
    {
      "cell_type": "markdown",
      "metadata": {
        "id": "view-in-github",
        "colab_type": "text"
      },
      "source": [
        "<a href=\"https://colab.research.google.com/github/siddiqui16/leet_code/blob/colab/0001-0200/0003_longest_substring_without_repeating_characters.ipynb\" target=\"_parent\"><img src=\"https://colab.research.google.com/assets/colab-badge.svg\" alt=\"Open In Colab\"/></a>"
      ]
    },
    {
      "cell_type": "markdown",
      "metadata": {
        "id": "jGG6W_OodCUF"
      },
      "source": [
        "https://leetcode.com/problems/longest-substring-without-repeating-characters/"
      ]
    },
    {
      "cell_type": "code",
      "execution_count": null,
      "metadata": {
        "id": "XUH6PB49dCUK"
      },
      "outputs": [],
      "source": [
        "class Solution(object):\n",
        "    def lengthOfLongestSubstring(self, s):\n",
        "        \"\"\"\n",
        "        :type s: str\n",
        "        :rtype: int\n",
        "        \"\"\"\n",
        "        \n",
        "        if len(s) < 2:\n",
        "            return len(s)\n",
        "        \n",
        "        i = 0\n",
        "        j = 1\n",
        "        \n",
        "        max_len = 1\n",
        "        \n",
        "        # char last index\n",
        "        c = {}\n",
        "        c[s[i]] = i\n",
        "        \n",
        "        while j < len(s):\n",
        "            if s[j] not in c or c[s[j]] < i:\n",
        "                max_len = max(max_len, j-i+1)\n",
        "                print(max_len,i,j, len(s),s[i:j+1])\n",
        "            else:\n",
        "                i = c[s[j]] + 1\n",
        "            c[s[j]] = j\n",
        "            j+=1\n",
        "        \n",
        "        return max_len\n"
      ]
    }
  ],
  "metadata": {
    "kernelspec": {
      "display_name": "Python 3",
      "language": "python",
      "name": "python3"
    },
    "language_info": {
      "codemirror_mode": {
        "name": "ipython",
        "version": 3
      },
      "file_extension": ".py",
      "mimetype": "text/x-python",
      "name": "python",
      "nbconvert_exporter": "python",
      "pygments_lexer": "ipython3",
      "version": "3.7.3"
    },
    "colab": {
      "name": "0003_longest_substring_without_repeating_characters.ipynb",
      "provenance": [],
      "include_colab_link": true
    }
  },
  "nbformat": 4,
  "nbformat_minor": 0
}