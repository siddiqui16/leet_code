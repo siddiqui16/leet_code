{
  "cells": [
    {
      "cell_type": "markdown",
      "metadata": {
        "id": "view-in-github",
        "colab_type": "text"
      },
      "source": [
        "<a href=\"https://colab.research.google.com/github/siddiqui16/leet_code/blob/colab/77_Combinations.ipynb\" target=\"_parent\"><img src=\"https://colab.research.google.com/assets/colab-badge.svg\" alt=\"Open In Colab\"/></a>"
      ]
    },
    {
      "cell_type": "markdown",
      "metadata": {
        "id": "BHJ-37aZHj69"
      },
      "source": [
        "[https://leetcode.com/problems/combinations/]"
      ]
    },
    {
      "cell_type": "code",
      "execution_count": null,
      "metadata": {
        "colab": {
          "base_uri": "https://localhost:8080/"
        },
        "id": "JGVjBu5nHXBS",
        "outputId": "ec27d060-12ca-4e03-fa92-352137517028"
      },
      "outputs": [
        {
          "name": "stdout",
          "output_type": "stream",
          "text": [
            "[[1, 2], [1, 3], [1, 4], [2, 3], [2, 4], [3, 4]]\n",
            "[[1]]\n"
          ]
        }
      ],
      "source": [
        "class Solution:\n",
        "  def combine(self, n: int, k: int, d=1, s=1):\n",
        "    res = []\n",
        "\n",
        "    for i in range(s,n+1):\n",
        "      if d>=k:\n",
        "        res.append([i])\n",
        "      else:\n",
        "        r = self.combine(n,k,d+1,i+1)\n",
        "        for c in r:\n",
        "          res.append([i]+c)\n",
        "    return res\n",
        "\n",
        "s = Solution()\n",
        "\n",
        "inputs = [\n",
        "  (4,2),\n",
        "  (1,1)\n",
        "]\n",
        "\n",
        "for n,k in inputs:\n",
        "  print(s.combine(n,k))\n",
        "        "
      ]
    },
    {
      "cell_type": "markdown",
      "metadata": {
        "id": "UfQJs7EPNawx"
      },
      "source": [
        "# Study Solution\n",
        "* its crazy ignore"
      ]
    },
    {
      "cell_type": "code",
      "execution_count": 36,
      "metadata": {
        "colab": {
          "base_uri": "https://localhost:8080/"
        },
        "id": "Jekp4XMmI0dX",
        "outputId": "9b27ac19-3eec-43f0-bbc6-8f6dd3f9c86e"
      },
      "outputs": [
        {
          "output_type": "stream",
          "name": "stdout",
          "text": [
            "--------------------------------------------------------------------------------\n",
            "0 [1, 2, 5] [[1, 2]]\n",
            "1 [1, 3, 5] [[1, 2], [1, 3]]\n",
            "0 [2, 3, 5] [[1, 2], [1, 3], [2, 3]]\n",
            "1 [1, 4, 5] [[1, 2], [1, 3], [2, 3], [1, 4]]\n",
            "0 [2, 4, 5] [[1, 2], [1, 3], [2, 3], [1, 4], [2, 4]]\n",
            "0 [3, 4, 5] [[1, 2], [1, 3], [2, 3], [1, 4], [2, 4], [3, 4]]\n",
            "[[1, 2], [1, 3], [2, 3], [1, 4], [2, 4], [3, 4]]\n",
            "--------------------------------------------------------------------------------\n",
            "0 [1, 2] [[1]]\n",
            "[[1]]\n"
          ]
        }
      ],
      "source": [
        "class Solution:\n",
        "    def combine(self, n: int, k: int):\n",
        "        # init first combination\n",
        "        nums = list(range(1, k + 1)) + [n + 1]\n",
        "        \n",
        "        output, j = [], 0\n",
        "        while j < k:\n",
        "            # add current combination\n",
        "            output.append(nums[:k])\n",
        "            print(j, nums, output)\n",
        "            # increase first nums[j] by one\n",
        "            # if nums[j] + 1 != nums[j + 1]\n",
        "            j = 0\n",
        "            while j < k and nums[j + 1] == nums[j] + 1:\n",
        "                nums[j] = j + 1\n",
        "                j += 1\n",
        "            nums[j] += 1\n",
        "            \n",
        "        return output\n",
        "\n",
        "s = Solution()\n",
        "\n",
        "inputs = [\n",
        "  (4,2),\n",
        "  (1,1)\n",
        "]\n",
        "\n",
        "for n,k in inputs:\n",
        "  print(\"-\"*80)\n",
        "  print(s.combine(n,k))\n"
      ]
    }
  ],
  "metadata": {
    "colab": {
      "name": "77. Combinations.ipynb",
      "provenance": [],
      "authorship_tag": "ABX9TyNSqJ+UXynUh2ynK+/9J2hF",
      "include_colab_link": true
    },
    "kernelspec": {
      "display_name": "Python 3",
      "name": "python3"
    },
    "language_info": {
      "name": "python"
    }
  },
  "nbformat": 4,
  "nbformat_minor": 0
}