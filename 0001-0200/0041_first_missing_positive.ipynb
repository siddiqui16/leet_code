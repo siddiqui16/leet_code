{
  "nbformat": 4,
  "nbformat_minor": 0,
  "metadata": {
    "colab": {
      "name": "41. First Missing Positive.ipynb",
      "provenance": [],
      "authorship_tag": "ABX9TyOwcyuQfIhlm93TbmgLgUJw",
      "include_colab_link": true
    },
    "kernelspec": {
      "name": "python3",
      "display_name": "Python 3"
    },
    "language_info": {
      "name": "python"
    }
  },
  "cells": [
    {
      "cell_type": "markdown",
      "metadata": {
        "id": "view-in-github",
        "colab_type": "text"
      },
      "source": [
        "<a href=\"https://colab.research.google.com/github/siddiqui16/leet_code/blob/colab/41_First_Missing_Positive.ipynb\" target=\"_parent\"><img src=\"https://colab.research.google.com/assets/colab-badge.svg\" alt=\"Open In Colab\"/></a>"
      ]
    },
    {
      "cell_type": "markdown",
      "source": [
        "[https://leetcode.com/problems/first-missing-positive/]"
      ],
      "metadata": {
        "id": "I8Toh0FBMmFm"
      }
    },
    {
      "cell_type": "code",
      "execution_count": null,
      "metadata": {
        "id": "VvvwbzE7Mg0c"
      },
      "outputs": [],
      "source": [
        "class Solution:\n",
        "    def firstMissingPositive(self, nums: List[int]) -> int:\n",
        "        m = set()\n",
        "        x = 0\n",
        "        for i in nums:\n",
        "            if i>0:\n",
        "                m.add(i)\n",
        "                x = max(x,i)\n",
        "                \n",
        "        if x<=0:\n",
        "            return 1\n",
        "        \n",
        "        for i in range(1,max(m)+2):\n",
        "            if i not in m:\n",
        "                return i\n"
      ]
    }
  ]
}