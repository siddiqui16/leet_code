{
  "nbformat": 4,
  "nbformat_minor": 0,
  "metadata": {
    "colab": {
      "name": "17. Letter Combinations of a Phone Number.ipynb",
      "provenance": [],
      "authorship_tag": "ABX9TyMiTx8RIeTP7FM2eUJM9GXR",
      "include_colab_link": true
    },
    "kernelspec": {
      "name": "python3",
      "display_name": "Python 3"
    },
    "language_info": {
      "name": "python"
    }
  },
  "cells": [
    {
      "cell_type": "markdown",
      "metadata": {
        "id": "view-in-github",
        "colab_type": "text"
      },
      "source": [
        "<a href=\"https://colab.research.google.com/github/siddiqui16/leet_code/blob/colab/17_Letter_Combinations_of_a_Phone_Number.ipynb\" target=\"_parent\"><img src=\"https://colab.research.google.com/assets/colab-badge.svg\" alt=\"Open In Colab\"/></a>"
      ]
    },
    {
      "cell_type": "markdown",
      "source": [
        "[https://leetcode.com/problems/letter-combinations-of-a-phone-number/]"
      ],
      "metadata": {
        "id": "GLRdxVoYzbsG"
      }
    },
    {
      "cell_type": "code",
      "execution_count": null,
      "metadata": {
        "id": "dUi38tC6zYwH"
      },
      "outputs": [],
      "source": [
        "class Solution(object):\n",
        "    def letterCombinations(self, digits):\n",
        "        m = [\"\", \"\", \"abc\", \"def\", \"ghi\", \"jkl\", \"mno\", \"pqrs\", \"tuv\", \"wxyz\"]\n",
        "\n",
        "        if len(digits) == 0:\n",
        "            return []\n",
        "        \n",
        "        d = digits[0]\n",
        "        \n",
        "        com = []\n",
        "        for c in m[int(d)]:\n",
        "            res = self.letterCombinations(digits[1:])\n",
        "            if len(res) == 0:\n",
        "                com.append(c)\n",
        "            else:\n",
        "                com.extend([c+r for r in res])\n",
        "        return com\n",
        "        "
      ]
    }
  ]
}