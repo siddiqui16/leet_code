{
  "cells": [
    {
      "cell_type": "markdown",
      "metadata": {
        "id": "view-in-github",
        "colab_type": "text"
      },
      "source": [
        "<a href=\"https://colab.research.google.com/github/siddiqui16/leet_code/blob/colab/0001-0200/0001_two_sum.ipynb\" target=\"_parent\"><img src=\"https://colab.research.google.com/assets/colab-badge.svg\" alt=\"Open In Colab\"/></a>"
      ]
    },
    {
      "cell_type": "markdown",
      "source": [
        "[https://leetcode.com/problems/two-sum/]"
      ],
      "metadata": {
        "id": "eIwV_r_-cwNu"
      }
    },
    {
      "cell_type": "code",
      "execution_count": null,
      "metadata": {
        "id": "eRB2t_VTcp-B",
        "outputId": "282deb68-d8a7-4ad5-a218-a300b84670f2"
      },
      "outputs": [
        {
          "data": {
            "text/plain": [
              "[1, 2]"
            ]
          },
          "execution_count": 7,
          "metadata": {},
          "output_type": "execute_result"
        }
      ],
      "source": [
        "class Solution:\n",
        "    def twoSum(self, nums, target):\n",
        "        n = len(nums)\n",
        "\n",
        "        N = {}        \n",
        "        for i in range(n):\n",
        "            if nums[i] not in N:\n",
        "                N[nums[i]] = []\n",
        "            N[nums[i]].append(i)\n",
        "        \n",
        "        for i in range(n):\n",
        "            x = target - nums[i]\n",
        "            if x in N:\n",
        "                l = N[x]\n",
        "                if len(l) and i==l[0]:\n",
        "                    continue\n",
        "                else:\n",
        "                    while l[0] == i:\n",
        "                        l = l[1:]\n",
        "                    return [i, l[0]]\n",
        "                        \n",
        "\n",
        "s = Solution()\n",
        "s.twoSum([3,3], 6)\n",
        "s.twoSum([3,2,4], 6)"
      ]
    },
    {
      "cell_type": "code",
      "execution_count": null,
      "metadata": {
        "id": "lKelg-fCcp-E",
        "outputId": "f1ad24b9-52bc-4f30-89a4-2c0aeb4998a9"
      },
      "outputs": [
        {
          "data": {
            "text/plain": [
              "[]"
            ]
          },
          "execution_count": 4,
          "metadata": {},
          "output_type": "execute_result"
        }
      ],
      "source": [
        "class Solution(object):\n",
        "    def twoSum(self, nums, target):\n",
        "        m = {}\n",
        "        \n",
        "        for i,n in enumerate(nums):\n",
        "            if target-n in m:\n",
        "                return [m[target-n], i]\n",
        "            else:\n",
        "                m[n]=i\n",
        "        return []\n",
        "    \n",
        "s = Solution()\n",
        "s.twoSum([3,3], 6)\n",
        "s.twoSum([3,2,4], 0)"
      ]
    }
  ],
  "metadata": {
    "kernelspec": {
      "display_name": "Python 3",
      "language": "python",
      "name": "python3"
    },
    "language_info": {
      "codemirror_mode": {
        "name": "ipython",
        "version": 3
      },
      "file_extension": ".py",
      "mimetype": "text/x-python",
      "name": "python",
      "nbconvert_exporter": "python",
      "pygments_lexer": "ipython3",
      "version": "3.7.3"
    },
    "colab": {
      "name": "0001_two_sum.ipynb",
      "provenance": [],
      "include_colab_link": true
    }
  },
  "nbformat": 4,
  "nbformat_minor": 0
}