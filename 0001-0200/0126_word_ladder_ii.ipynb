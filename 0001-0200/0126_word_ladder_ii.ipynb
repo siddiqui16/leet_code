{
  "nbformat": 4,
  "nbformat_minor": 0,
  "metadata": {
    "colab": {
      "name": "126. Word Ladder II.ipynb",
      "provenance": [],
      "authorship_tag": "ABX9TyON278wPNIwucgE1ZVEpcOt",
      "include_colab_link": true
    },
    "kernelspec": {
      "name": "python3",
      "display_name": "Python 3"
    },
    "language_info": {
      "name": "python"
    }
  },
  "cells": [
    {
      "cell_type": "markdown",
      "metadata": {
        "id": "view-in-github",
        "colab_type": "text"
      },
      "source": [
        "<a href=\"https://colab.research.google.com/github/siddiqui16/leet_code/blob/colab/126_Word_Ladder_II.ipynb\" target=\"_parent\"><img src=\"https://colab.research.google.com/assets/colab-badge.svg\" alt=\"Open In Colab\"/></a>"
      ]
    },
    {
      "cell_type": "markdown",
      "source": [
        "[https://leetcode.com/problems/word-ladder-ii/]"
      ],
      "metadata": {
        "id": "ApxqKNypcJxf"
      }
    },
    {
      "cell_type": "code",
      "execution_count": 48,
      "metadata": {
        "colab": {
          "base_uri": "https://localhost:8080/"
        },
        "id": "NufJGuxhcIJA",
        "outputId": "5d1dd938-b8b3-40df-f38f-825c8025c220"
      },
      "outputs": [
        {
          "output_type": "stream",
          "name": "stdout",
          "text": [
            "5 [['hit', 'lit', 'lot', 'log', 'cog'], ['hit', 'hot', 'lot', 'log', 'cog'], ['hit', 'hot', 'dot', 'dog', 'cog']]\n"
          ]
        }
      ],
      "source": [
        "import collections\n",
        "class Solution:\n",
        "    def dist(self, u,v):\n",
        "        d = 0\n",
        "        for i,j in zip(u, v):\n",
        "            if i != j:\n",
        "                d+=1\n",
        "        return d\n",
        "\n",
        "    def findLadders(self, beginWord: str, endWord: str, wordList) -> int:\n",
        "        n = len(beginWord)\n",
        "        seed = [(beginWord, [beginWord])]\n",
        "        visited = set()\n",
        "        visited.add(tuple([beginWord]))\n",
        "\n",
        "        nei = collections.defaultdict()\n",
        "        for w in [beginWord] + wordList:\n",
        "            for i in range(n):\n",
        "                p = w[:i] + \"*\" + w[i+1:]\n",
        "                if p not in nei:\n",
        "                    nei[p] = set()\n",
        "                nei[p].add(w)\n",
        "        #print(nei)\n",
        "\n",
        "        min_l = len(wordList) + 1\n",
        "        r = []\n",
        "        while seed:\n",
        "            w,t = seed.pop(0)\n",
        "            #print(w, t, len(seed))\n",
        "            if w == endWord and len(t)<=min_l:\n",
        "                min_l = min(len(t),min_l)\n",
        "                r.append(t)\n",
        "\n",
        "            for i in range(n):\n",
        "                p = w[:i] + \"*\" + w[i+1:]\n",
        "                for w_ in nei[p]:\n",
        "                    if tuple(t+[w_]) not in visited and w_ not in t and len(t) + 1 < min_l:\n",
        "                        seed.append((w_, t + [w_]))\n",
        "                        visited.add(tuple)\n",
        "        return r\n",
        "            \n",
        "\n",
        "inputs = [\n",
        "    #(\"hot\", \"dog\", [\"hot\",\"dot\",\"dog\"], 3),\n",
        "    #(\"hit\", \"cog\", [\"hot\",\"dot\",\"dog\",\"lot\",\"log\",\"cog\"], 5),\n",
        "    #(\"hit\", \"cog\", [\"hot\",\"dot\",\"dog\",\"lot\",\"log\"], 0),\n",
        "    (\"hit\", \"cog\", [\"him\",\"his\",\"hip\",\"bit\",\"sit\",\"hot\",\"kit\",\"lit\",\"git\",\"wit\",\"fit\",\"got\",\"wot\",\"dot\",\"dog\",\"lot\",\"not\",\"rot\",\"fog\",\"log\",\"cog\"], 5),\n",
        "]\n",
        "\n",
        "for i,j,k,o in inputs:\n",
        "    s=Solution()\n",
        "    print(o, s.findLadders(i,j,k))"
      ]
    }
  ]
}