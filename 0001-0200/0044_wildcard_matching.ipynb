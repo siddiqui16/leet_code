{
 "cells": [
  {
   "cell_type": "code",
   "execution_count": null,
   "metadata": {},
   "outputs": [],
   "source": [
    "class Solution(object):\n",
    "    def isMatch(self, s, p):\n",
    "        print(s, p)\n",
    "        if len(p) == 0:\n",
    "            return len(s) == len(p)\n",
    "\n",
    "        if len(s) == 0 and p[0] == '*':\n",
    "            return self.isMatch(s, p[1:])\n",
    "\n",
    "        first_match = bool(s) and p[0] in {s[0], '?', '*'}\n",
    "\n",
    "        if p[0] == '*':\n",
    "            return first_match and (self.isMatch(s, p[1:]) or self.isMatch(s[1:], p))\n",
    "        else:\n",
    "            return first_match and self.isMatch(s[1:], p[1:])\n",
    "\n",
    "    def apply(self, s: str, p: str, r: bool) -> bool:\n",
    "        print(\"-\" * 80)\n",
    "        res = self.isMatch(s, p)\n",
    "        print(f\"{'v' if res == r else 'x'} s={s} p={p}\")\n",
    "\n",
    "\n",
    "s = Solution()\n",
    "s.apply(\"bbaaaaaaabbbabaaabbbba\", \"**b**b\", False)\n",
    "s.apply(\"aaabababaaabaababbbaaaabbbbbbabbbbabbbabbaabbababab\", \"*ab***ba**b*b*aaab*b\", True)\n",
    "\n",
    "s.apply(\"aa\", \"*\", True)\n",
    "s.apply(\"adceb\", \"a??b\", False)\n",
    "s.apply(\"adceb\", \"a???b\", True)\n",
    "s.apply(\"adceb\", \"a*b\", True)\n",
    "s.apply(\"aa\", \"a\", False)\n",
    "s.apply(\"acdcb\", \"a*c?b\", False)\n",
    "s.apply(\"\", \"****\", True)\n",
    "\n",
    "\n"
   ]
  }
 ],
 "metadata": {
  "kernelspec": {
   "display_name": "Python 3",
   "language": "python",
   "name": "python3"
  },
  "language_info": {
   "codemirror_mode": {
    "name": "ipython",
    "version": 3
   },
   "file_extension": ".py",
   "mimetype": "text/x-python",
   "name": "python",
   "nbconvert_exporter": "python",
   "pygments_lexer": "ipython3",
   "version": "3.7.3"
  }
 },
 "nbformat": 4,
 "nbformat_minor": 2
}
