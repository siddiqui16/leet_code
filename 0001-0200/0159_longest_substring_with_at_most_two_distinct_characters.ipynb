{
  "nbformat": 4,
  "nbformat_minor": 0,
  "metadata": {
    "colab": {
      "name": "159. Longest Substring with At Most Two Distinct Characters.ipynb",
      "provenance": [],
      "authorship_tag": "ABX9TyMp+LMNOJF0C/qcaUcvCWMn",
      "include_colab_link": true
    },
    "kernelspec": {
      "name": "python3",
      "display_name": "Python 3"
    },
    "language_info": {
      "name": "python"
    }
  },
  "cells": [
    {
      "cell_type": "markdown",
      "metadata": {
        "id": "view-in-github",
        "colab_type": "text"
      },
      "source": [
        "<a href=\"https://colab.research.google.com/github/siddiqui16/leet_code/blob/colab/159_Longest_Substring_with_At_Most_Two_Distinct_Characters.ipynb\" target=\"_parent\"><img src=\"https://colab.research.google.com/assets/colab-badge.svg\" alt=\"Open In Colab\"/></a>"
      ]
    },
    {
      "cell_type": "markdown",
      "source": [
        "[https://leetcode.com/problems/longest-substring-with-at-most-two-distinct-characters/]"
      ],
      "metadata": {
        "id": "JmbRfvDPcQr3"
      }
    },
    {
      "cell_type": "code",
      "execution_count": null,
      "metadata": {
        "id": "fqx4HcyIcLeq"
      },
      "outputs": [],
      "source": [
        "class Solution:\n",
        "    def lengthOfLongestSubstringTwoDistinct(self, s: str) -> int:\n",
        "        \n",
        "        a = 0\n",
        "        i = 0\n",
        "        \n",
        "        c = {}    # b1 a1\n",
        "        max_l = 0 #  1  2  3\n",
        "        while i<len(s):\n",
        "            s_ = s[i]\n",
        "            if s_ not in c:\n",
        "                c[s_] = 0\n",
        "            c[s_]+=1\n",
        "\n",
        "            if len(c) <= 2:\n",
        "                max_l = max(max_l,i-a+1)\n",
        "            else:\n",
        "                while len(c)>2:\n",
        "                    s_ = s[a]\n",
        "                    c[s_]-=1\n",
        "                    if not c[s_]:\n",
        "                        del c[s_]\n",
        "                    a+=1\n",
        "            i+=1\n",
        "        return max_l\n"
      ]
    }
  ]
}