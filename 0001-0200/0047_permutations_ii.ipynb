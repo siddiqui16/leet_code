{
  "nbformat": 4,
  "nbformat_minor": 0,
  "metadata": {
    "colab": {
      "name": "47. Permutations II.ipynb",
      "provenance": [],
      "authorship_tag": "ABX9TyPaJJYhXNFeB9iSNo46+Jzh",
      "include_colab_link": true
    },
    "kernelspec": {
      "name": "python3",
      "display_name": "Python 3"
    },
    "language_info": {
      "name": "python"
    }
  },
  "cells": [
    {
      "cell_type": "markdown",
      "metadata": {
        "id": "view-in-github",
        "colab_type": "text"
      },
      "source": [
        "<a href=\"https://colab.research.google.com/github/siddiqui16/leet_code/blob/colab/47_Permutations_II.ipynb\" target=\"_parent\"><img src=\"https://colab.research.google.com/assets/colab-badge.svg\" alt=\"Open In Colab\"/></a>"
      ]
    },
    {
      "cell_type": "markdown",
      "source": [
        "[https://leetcode.com/problems/permutations-ii/]"
      ],
      "metadata": {
        "id": "Z3P1cusuC9Pi"
      }
    },
    {
      "cell_type": "code",
      "execution_count": 26,
      "metadata": {
        "colab": {
          "base_uri": "https://localhost:8080/"
        },
        "id": "oF0JZH3qC5Sy",
        "outputId": "8b5f9c6f-6612-4d71-bd71-68167c552eac"
      },
      "outputs": [
        {
          "output_type": "execute_result",
          "data": {
            "text/plain": [
              "[[1, 1, 2], [1, 2, 1], [2, 1, 1]]"
            ]
          },
          "metadata": {},
          "execution_count": 26
        }
      ],
      "source": [
        "class Solution(object):\n",
        "    def permuteUnique(self, nums):\n",
        "      if len(nums) < 2:\n",
        "        return [nums]\n",
        "      else:\n",
        "        p = list()\n",
        "        seen = set()\n",
        "        for i,n in enumerate(nums):\n",
        "          if n not in seen:\n",
        "            seen.add(n)\n",
        "            r = self.permuteUnique(nums[:i] + nums[i+1:])\n",
        "            for m in r:\n",
        "              p.append([n] + m)\n",
        "\n",
        "        return p\n",
        "\n",
        "\n",
        "s = Solution()\n",
        "s.permuteUnique([1,1,2])"
      ]
    },
    {
      "cell_type": "code",
      "source": [
        "a = [1,2]\n",
        "tuple(a)"
      ],
      "metadata": {
        "colab": {
          "base_uri": "https://localhost:8080/"
        },
        "id": "qy6cjE5yDOkJ",
        "outputId": "bdd8d375-28bf-4b1b-fcb9-f7efeaf35bb0"
      },
      "execution_count": 21,
      "outputs": [
        {
          "output_type": "execute_result",
          "data": {
            "text/plain": [
              "(1, 2)"
            ]
          },
          "metadata": {},
          "execution_count": 21
        }
      ]
    }
  ]
}