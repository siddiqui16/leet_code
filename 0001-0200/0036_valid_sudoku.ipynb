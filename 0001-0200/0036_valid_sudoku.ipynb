{
 "cells": [
  {
   "cell_type": "code",
   "execution_count": 26,
   "metadata": {},
   "outputs": [
    {
     "data": {
      "text/plain": [
       "True"
      ]
     },
     "execution_count": 26,
     "metadata": {},
     "output_type": "execute_result"
    }
   ],
   "source": [
    "class Solution:\n",
    "    valid = [f\"{i}\" for i in range(1,10)] + [\".\"]\n",
    "    \n",
    "    def checkValidity(self, x):\n",
    "        i = 0\n",
    "        seen = set()\n",
    "        while i<len(x): \n",
    "            if x[i] in self.valid and (x[i] not in seen or x[i]==\".\"):\n",
    "                seen.add(x[i])\n",
    "                i+=1\n",
    "            else:\n",
    "                return False\n",
    "        #print(' '.join(x))\n",
    "        return True\n",
    "        \n",
    "    def isValidSudoku(self, board):\n",
    "\n",
    "        for r in board:\n",
    "            v_flag = self.checkValidity(r)\n",
    "            if not v_flag:\n",
    "                return v_flag\n",
    "            \n",
    "        for i in range(9):\n",
    "            c = [r[i] for r in board]\n",
    "            v_flag = self.checkValidity(c)\n",
    "            if not v_flag:\n",
    "                return v_flag\n",
    "            \n",
    "        for i in range(3):\n",
    "            for j in range(3):\n",
    "                b0 = [r[(j*3):(j*3+3)] for r in board[(i*3):(i*3+3)]]\n",
    "                b = [y for x in b0 for y in x]\n",
    "                v_flag = self.checkValidity(b)\n",
    "                if not v_flag:\n",
    "                    return v_flag\n",
    "        return True\n",
    "    \n",
    "\n",
    "s = Solution()\n",
    "s.isValidSudoku(\n",
    "[[\"5\",\"3\",\".\",\".\",\"7\",\".\",\".\",\".\",\".\"]\n",
    ",[\"6\",\".\",\".\",\"1\",\"9\",\"5\",\".\",\".\",\".\"]\n",
    ",[\".\",\"9\",\"8\",\".\",\".\",\".\",\".\",\"6\",\".\"]\n",
    ",[\"8\",\".\",\".\",\".\",\"6\",\".\",\".\",\".\",\"3\"]\n",
    ",[\"4\",\".\",\".\",\"8\",\".\",\"3\",\".\",\".\",\"1\"]\n",
    ",[\"7\",\".\",\".\",\".\",\"2\",\".\",\".\",\".\",\"6\"]\n",
    ",[\".\",\"6\",\".\",\".\",\".\",\".\",\"2\",\"8\",\".\"]\n",
    ",[\".\",\".\",\".\",\"4\",\"1\",\"9\",\".\",\".\",\"5\"]\n",
    ",[\".\",\".\",\".\",\".\",\"8\",\".\",\".\",\"7\",\"9\"]])\n",
    "        "
   ]
  },
  {
   "cell_type": "code",
   "execution_count": 4,
   "metadata": {},
   "outputs": [
    {
     "data": {
      "text/plain": [
       "['1', '2', '3', '4', '5', '6', '7', '8', '9']"
      ]
     },
     "execution_count": 4,
     "metadata": {},
     "output_type": "execute_result"
    }
   ],
   "source": []
  }
 ],
 "metadata": {
  "kernelspec": {
   "display_name": "Python 3",
   "language": "python",
   "name": "python3"
  },
  "language_info": {
   "codemirror_mode": {
    "name": "ipython",
    "version": 3
   },
   "file_extension": ".py",
   "mimetype": "text/x-python",
   "name": "python",
   "nbconvert_exporter": "python",
   "pygments_lexer": "ipython3",
   "version": "3.7.3"
  }
 },
 "nbformat": 4,
 "nbformat_minor": 2
}
