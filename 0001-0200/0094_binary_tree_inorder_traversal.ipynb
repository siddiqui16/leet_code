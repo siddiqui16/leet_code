{
  "nbformat": 4,
  "nbformat_minor": 0,
  "metadata": {
    "colab": {
      "name": "94. Binary Tree Inorder Traversal.ipynb",
      "provenance": [],
      "authorship_tag": "ABX9TyP1fF89elpAamcT9uPEb+kX",
      "include_colab_link": true
    },
    "kernelspec": {
      "name": "python3",
      "display_name": "Python 3"
    },
    "language_info": {
      "name": "python"
    }
  },
  "cells": [
    {
      "cell_type": "markdown",
      "metadata": {
        "id": "view-in-github",
        "colab_type": "text"
      },
      "source": [
        "<a href=\"https://colab.research.google.com/github/siddiqui16/leet_code/blob/colab/94_Binary_Tree_Inorder_Traversal.ipynb\" target=\"_parent\"><img src=\"https://colab.research.google.com/assets/colab-badge.svg\" alt=\"Open In Colab\"/></a>"
      ]
    },
    {
      "cell_type": "markdown",
      "source": [
        "[https://leetcode.com/problems/binary-tree-inorder-traversal/]"
      ],
      "metadata": {
        "id": "T0Lz9AJ7eHlq"
      }
    },
    {
      "cell_type": "code",
      "execution_count": null,
      "metadata": {
        "id": "yWBhdEbreCDM"
      },
      "outputs": [],
      "source": [
        "# Definition for a binary tree node.\n",
        "# class TreeNode:\n",
        "#     def __init__(self, val=0, left=None, right=None):\n",
        "#         self.val = val\n",
        "#         self.left = left\n",
        "#         self.right = right\n",
        "class Solution:\n",
        "    def inorderTraversal(self, root: Optional[TreeNode]) -> List[int]:\n",
        "        r = []\n",
        "        \n",
        "        if not root:\n",
        "            return r\n",
        "        \n",
        "        seed = []\n",
        "        \n",
        "        node = root\n",
        "        while seed or node:\n",
        "            while node:\n",
        "                seed.append(node)\n",
        "                node = node.left\n",
        "            node = seed.pop()\n",
        "            r.append(node.val)\n",
        "            node = node.right\n",
        "        print(seed)\n",
        "        return r "
      ]
    }
  ]
}