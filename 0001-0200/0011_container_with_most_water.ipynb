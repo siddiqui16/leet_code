{
  "nbformat": 4,
  "nbformat_minor": 0,
  "metadata": {
    "colab": {
      "name": "11. Container With Most Water.ipynb",
      "provenance": [],
      "authorship_tag": "ABX9TyMysYcwphJZb0I2SniXBGMI",
      "include_colab_link": true
    },
    "kernelspec": {
      "name": "python3",
      "display_name": "Python 3"
    },
    "language_info": {
      "name": "python"
    }
  },
  "cells": [
    {
      "cell_type": "markdown",
      "metadata": {
        "id": "view-in-github",
        "colab_type": "text"
      },
      "source": [
        "<a href=\"https://colab.research.google.com/github/siddiqui16/leet_code/blob/colab/11_Container_With_Most_Water.ipynb\" target=\"_parent\"><img src=\"https://colab.research.google.com/assets/colab-badge.svg\" alt=\"Open In Colab\"/></a>"
      ]
    },
    {
      "cell_type": "markdown",
      "source": [
        "[https://leetcode.com/problems/container-with-most-water/]"
      ],
      "metadata": {
        "id": "pvgMVrQUctMt"
      }
    },
    {
      "cell_type": "code",
      "execution_count": null,
      "metadata": {
        "id": "YHXbkCjQcqcU"
      },
      "outputs": [],
      "source": [
        "class Solution:\n",
        "    def maxArea(self, h: List[int]) -> int:\n",
        "        n = len(h)\n",
        "        \n",
        "        l = 0\n",
        "        r = n - 1\n",
        "        \n",
        "        max_area = 0\n",
        "        \n",
        "        while l<r:\n",
        "            max_area = max(min(h[l], h[r]) * (r-l), max_area)\n",
        "            if h[l]<h[r]:\n",
        "                l+=1\n",
        "            else:\n",
        "                r-=1\n",
        "        return max_area"
      ]
    }
  ]
}