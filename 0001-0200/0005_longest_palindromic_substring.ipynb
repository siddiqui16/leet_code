{
  "nbformat": 4,
  "nbformat_minor": 0,
  "metadata": {
    "colab": {
      "name": "5. Longest Palindromic Substring.ipynb",
      "provenance": [],
      "authorship_tag": "ABX9TyNqTdMvYPS//eBe1tbnAe7B",
      "include_colab_link": true
    },
    "kernelspec": {
      "name": "python3",
      "display_name": "Python 3"
    },
    "language_info": {
      "name": "python"
    }
  },
  "cells": [
    {
      "cell_type": "markdown",
      "metadata": {
        "id": "view-in-github",
        "colab_type": "text"
      },
      "source": [
        "<a href=\"https://colab.research.google.com/github/siddiqui16/leet_code/blob/colab/5_Longest_Palindromic_Substring.ipynb\" target=\"_parent\"><img src=\"https://colab.research.google.com/assets/colab-badge.svg\" alt=\"Open In Colab\"/></a>"
      ]
    },
    {
      "cell_type": "markdown",
      "source": [
        "[https://leetcode.com/problems/longest-palindromic-substring/]"
      ],
      "metadata": {
        "id": "D5S13nCufGJK"
      }
    },
    {
      "cell_type": "code",
      "execution_count": 20,
      "metadata": {
        "colab": {
          "base_uri": "https://localhost:8080/"
        },
        "id": "FIUu9-APe253",
        "outputId": "ede9730c-005c-440d-d672-106992c6aae1"
      },
      "outputs": [
        {
          "output_type": "stream",
          "name": "stdout",
          "text": [
            "a\n",
            "1 1\n",
            "a a\n",
            "b\n",
            "a\n",
            "b\n",
            "a\n",
            "d\n",
            "5 13\n",
            "bab bab\n",
            "d\n",
            "a\n",
            "b\n",
            "a\n",
            "b\n",
            "5 13\n",
            "bab aba\n"
          ]
        }
      ],
      "source": [
        "class Solution:\n",
        "    def longestPalindrome(self, s: str) -> str:\n",
        "        n = len(s)\n",
        "        max_p = \"\"\n",
        "        cnt = 0\n",
        "        for i in range(n):\n",
        "            cnt+=1\n",
        "            s_ = s[i]\n",
        "            print(s_)\n",
        "            if len(s_) > len(max_p):\n",
        "                max_p = s_\n",
        "            l,r = i-1, i+1\n",
        "            while l>=0 and r<n:\n",
        "                cnt+=1\n",
        "                if s[l] == s[r]:\n",
        "                    s_ = s[l:r+1]\n",
        "                    if len(s_) > len(max_p):\n",
        "                        max_p = s_\n",
        "                    l,r = l-1, r+1\n",
        "                else:\n",
        "                    break\n",
        "\n",
        "            l,r = i, i+1\n",
        "            while l>=0 and r<n:\n",
        "                cnt+=1\n",
        "                if s[l] == s[r]:\n",
        "                    s_ = s[l:r+1]\n",
        "                    if len(s_) > len(max_p):\n",
        "                        max_p = s_\n",
        "                    l,r = l-1, r+1\n",
        "                else:\n",
        "                    break\n",
        "        print(len(s),cnt)\n",
        "        return max_p \n",
        "\n",
        "\n",
        "\n",
        "\n",
        "inputs = [\n",
        "    (\"a\", \"a\"),\n",
        "    (\"babad\", \"bab\"),\n",
        "    (\"dabab\", \"bab\"),\n",
        "    #(\"daaaadaaaababbdaaaababdaaaababdaaaababdaaaababdaaaababab\", \"bab\"),\n",
        "    #(\"abababababababababababababababababababababababababababababababababababababababababababababababababababababababababababababababababababababababababababababababababababababababababababababababababababababababababababababababababababababababababababababababababababababababababababababababababababababababababababababababababababababababababababababababababababababababababababababababababababababababababababababababababababababababababababababababababababababababababababababababababababababababababababababababababababababababababababababababababababababababababababababababababababababababababababababababababababababababababababababababababababababababababababababababababababababababababababababababababababababababababababababababababababababababababababababababababababababababababababababababababababababababababababababababababababababababababababababababababababababababababababababababababababababababababababababababababababababababababababababababababababababababababababababababababababababababababababababababababababababababababababababababababababababababababababababababababababababababababababababababababababababababababababababababababababababababababababababababababababababababababababababababababababababababababababababababababababababababababababababababababababababababab\", \"bab\")\n",
        "]\n",
        "\n",
        "for i,o in inputs:\n",
        "    s=Solution()\n",
        "    r = s.longestPalindrome(i)\n",
        "    print(o,r)"
      ]
    }
  ]
}