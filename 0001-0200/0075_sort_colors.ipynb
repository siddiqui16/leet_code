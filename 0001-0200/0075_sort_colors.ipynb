{
  "nbformat": 4,
  "nbformat_minor": 0,
  "metadata": {
    "colab": {
      "name": "75. Sort Colors.ipynb",
      "provenance": [],
      "authorship_tag": "ABX9TyPngPJ+KdAUiMNVvfyTHjrU",
      "include_colab_link": true
    },
    "kernelspec": {
      "name": "python3",
      "display_name": "Python 3"
    },
    "language_info": {
      "name": "python"
    }
  },
  "cells": [
    {
      "cell_type": "markdown",
      "metadata": {
        "id": "view-in-github",
        "colab_type": "text"
      },
      "source": [
        "<a href=\"https://colab.research.google.com/github/siddiqui16/leet_code/blob/colab/75_Sort_Colors.ipynb\" target=\"_parent\"><img src=\"https://colab.research.google.com/assets/colab-badge.svg\" alt=\"Open In Colab\"/></a>"
      ]
    },
    {
      "cell_type": "markdown",
      "source": [
        "[https://leetcode.com/problems/sort-colors/]"
      ],
      "metadata": {
        "id": "9ltvrwZZrDXG"
      }
    },
    {
      "cell_type": "code",
      "source": [
        "class Solution(object):\n",
        "    def sortColors(self, nums):\n",
        "        N = len(nums)\n",
        "        i0 = curr = 0\n",
        "        i2 = N - 1\n",
        "        \n",
        "        while curr<=i2:\n",
        "            if nums[curr] == 0:\n",
        "                print(0,i0,curr,i2,nums)\n",
        "                nums[i0], nums[curr] = nums[curr], nums[i0]\n",
        "                i0 += 1\n",
        "                curr += 1\n",
        "            elif nums[curr] == 2:\n",
        "                print(2,i0,curr,i2,nums)\n",
        "                nums[i2], nums[curr] = nums[curr], nums[i2]\n",
        "                i2 -= 1\n",
        "            else:\n",
        "                curr += 1\n",
        "        return \n",
        "                    "
      ],
      "metadata": {
        "id": "VMx51n7Brde-"
      },
      "execution_count": 3,
      "outputs": []
    }
  ]
}