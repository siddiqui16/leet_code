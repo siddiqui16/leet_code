{
  "nbformat": 4,
  "nbformat_minor": 0,
  "metadata": {
    "colab": {
      "name": "145. Binary Tree Postorder Traversal.ipynb",
      "provenance": [],
      "authorship_tag": "ABX9TyN7f9xGx4MMNiVAiA03MRTU",
      "include_colab_link": true
    },
    "kernelspec": {
      "name": "python3",
      "display_name": "Python 3"
    },
    "language_info": {
      "name": "python"
    }
  },
  "cells": [
    {
      "cell_type": "markdown",
      "metadata": {
        "id": "view-in-github",
        "colab_type": "text"
      },
      "source": [
        "<a href=\"https://colab.research.google.com/github/siddiqui16/leet_code/blob/colab/145_Binary_Tree_Postorder_Traversal.ipynb\" target=\"_parent\"><img src=\"https://colab.research.google.com/assets/colab-badge.svg\" alt=\"Open In Colab\"/></a>"
      ]
    },
    {
      "cell_type": "markdown",
      "source": [
        "[https://leetcode.com/problems/binary-tree-postorder-traversal/]"
      ],
      "metadata": {
        "id": "u68gPp_SbaN-"
      }
    },
    {
      "cell_type": "code",
      "execution_count": null,
      "metadata": {
        "id": "h2ct4zyWbPDM"
      },
      "outputs": [],
      "source": [
        "# Definition for a binary tree node.\n",
        "# class TreeNode:\n",
        "#     def __init__(self, val=0, left=None, right=None):\n",
        "#         self.val = val\n",
        "#         self.left = left\n",
        "#         self.right = right\n",
        "class Solution:\n",
        "    def postorderTraversal(self, root: Optional[TreeNode]) -> List[int]:\n",
        "        r = []\n",
        "        \n",
        "        if not root:\n",
        "            return r\n",
        "        \n",
        "        seed = [root]\n",
        "        \n",
        "        while seed:\n",
        "            node = seed.pop()\n",
        "            r.append(node.val)\n",
        "            \n",
        "            if node.left:\n",
        "                seed.append(node.left)\n",
        "            if node.right:\n",
        "                seed.append(node.right)\n",
        "\n",
        "        return r[::-1]        "
      ]
    }
  ]
}