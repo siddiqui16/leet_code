{
  "nbformat": 4,
  "nbformat_minor": 0,
  "metadata": {
    "colab": {
      "name": "136. Single Number.ipynb",
      "provenance": [],
      "authorship_tag": "ABX9TyNYnVtPXgJfVggbDDBuc3sO",
      "include_colab_link": true
    },
    "kernelspec": {
      "name": "python3",
      "display_name": "Python 3"
    },
    "language_info": {
      "name": "python"
    }
  },
  "cells": [
    {
      "cell_type": "markdown",
      "metadata": {
        "id": "view-in-github",
        "colab_type": "text"
      },
      "source": [
        "<a href=\"https://colab.research.google.com/github/siddiqui16/leet_code/blob/colab/136_Single_Number.ipynb\" target=\"_parent\"><img src=\"https://colab.research.google.com/assets/colab-badge.svg\" alt=\"Open In Colab\"/></a>"
      ]
    },
    {
      "cell_type": "markdown",
      "source": [
        "[https://leetcode.com/problems/single-number/]"
      ],
      "metadata": {
        "id": "_8JeriBnRoJP"
      }
    },
    {
      "cell_type": "code",
      "execution_count": null,
      "metadata": {
        "id": "6hkdUoCNRlrC"
      },
      "outputs": [],
      "source": [
        "class Solution(object):\n",
        "    def singleNumber(self, nums):\n",
        "        \"\"\"\n",
        "        :type nums: List[int]\n",
        "        :rtype: int\n",
        "        \"\"\"\n",
        "\n",
        "        k = set()\n",
        "\n",
        "        for i in nums:\n",
        "          if i in k:\n",
        "            k.remove(i)\n",
        "          else:\n",
        "            k.add(i)\n",
        "        return k.pop()\n",
        "        "
      ]
    }
  ]
}