{
  "nbformat": 4,
  "nbformat_minor": 0,
  "metadata": {
    "colab": {
      "provenance": [],
      "authorship_tag": "ABX9TyMicpPSeAbQOxvST/kMHUdO",
      "include_colab_link": true
    },
    "kernelspec": {
      "name": "python3",
      "display_name": "Python 3"
    },
    "language_info": {
      "name": "python"
    }
  },
  "cells": [
    {
      "cell_type": "markdown",
      "metadata": {
        "id": "view-in-github",
        "colab_type": "text"
      },
      "source": [
        "<a href=\"https://colab.research.google.com/github/siddiqui16/leet_code/blob/colab/1019_Next_Greater_Node_In_Linked_List.ipynb\" target=\"_parent\"><img src=\"https://colab.research.google.com/assets/colab-badge.svg\" alt=\"Open In Colab\"/></a>"
      ]
    },
    {
      "cell_type": "markdown",
      "source": [
        "[https://leetcode.com/problems/next-greater-node-in-linked-list/description/]"
      ],
      "metadata": {
        "id": "S0vv2DKcZ0BL"
      }
    },
    {
      "cell_type": "code",
      "source": [
        "# Definition for singly-linked list.\n",
        "# class ListNode:\n",
        "#     def __init__(self, val=0, next=None):\n",
        "#         self.val = val\n",
        "#         self.next = next\n",
        "class Solution:\n",
        "    def nextLargerNodes(self, head: Optional[ListNode]) -> List[int]:\n",
        "        stack = []\n",
        "        res = {}\n",
        "\n",
        "        curr = head\n",
        "\n",
        "        i = 0\n",
        "        while curr:\n",
        "            #print(curr.val, stack, res)\n",
        "            while len(stack)>0 and stack[-1][1] < curr.val:\n",
        "                t_val = stack[-1]\n",
        "                stack = stack[:-1]\n",
        "                res[t_val[0]] = curr.val\n",
        "            stack.append((i, curr.val))\n",
        "            curr = curr.next\n",
        "            i+=1\n",
        "        for i,v in stack:\n",
        "            res[i] = 0\n",
        "        #print(stack, res)\n",
        "        return [res[k] for k in sorted(res)]"
      ],
      "metadata": {
        "id": "iiQHk6zBZzq5"
      },
      "execution_count": null,
      "outputs": []
    }
  ]
}