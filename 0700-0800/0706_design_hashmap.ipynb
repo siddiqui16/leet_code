{
 "cells": [
  {
   "cell_type": "markdown",
   "metadata": {},
   "source": [
    "https://leetcode.com/problems/design-hashmap/"
   ]
  },
  {
   "cell_type": "code",
   "execution_count": 77,
   "metadata": {},
   "outputs": [
    {
     "name": "stdout",
     "output_type": "stream",
     "text": [
      "0 [0:0 > None, None, None, None, None, None, None, None, None, None]\n",
      "1 [0:0 > None, 1:1 > None, None, None, None, None, None, None, None, None]\n",
      "2 [0:0 > None, 1:1 > None, 2:2 > None, None, None, None, None, None, None, None]\n",
      "3 [0:0 > None, 1:1 > None, None, 3:3 > None, None, None, None, None, None, None]\n",
      "4 [0:0 > None, 1:1 > None, None, 3:3 > None, 4:4 > None, None, None, None, None, None]\n",
      "5 [0:0 > None, 1:1 > None, None, 3:3 > None, 4:4 > None, 5:5 > None, None, None, None, None]\n",
      "6 [0:0 > None, 1:1 > None, None, 3:3 > None, 4:4 > None, 5:5 > None, 6:6 > None, None, None, None]\n",
      "7 [0:0 > None, 1:1 > None, None, 3:3 > None, 4:4 > None, 5:5 > None, 6:6 > None, 7:7 > None, None, None]\n",
      "8 [0:0 > None, 1:1 > None, None, 3:3 > None, 4:4 > None, 5:5 > None, 6:6 > None, 7:7 > None, 8:8 > None, None]\n",
      "9 [0:0 > None, 1:1 > None, None, 3:3 > None, 4:4 > None, 5:5 > None, 6:6 > None, 7:7 > None, 8:8 > None, 9:9 > None]\n"
     ]
    }
   ],
   "source": [
    "class Node:\n",
    "    def __init__(self, key, value):\n",
    "        self.key = key\n",
    "        self.value = value\n",
    "        self.next = None\n",
    "    def __repr__(self):\n",
    "        return f\"{self.key}:{self.value} > {self.next}\"\n",
    "    def __str__(self):\n",
    "        return self.__repr__()\n",
    "        \n",
    "class MyHashMap:\n",
    "    def __init__(self):\n",
    "        self.n = 10\n",
    "        self.data = [None] * self.n\n",
    "    \n",
    "    def _hash(self, k):\n",
    "        return k % self.n\n",
    "    \n",
    "    def put(self, key: int, value: int) -> None:\n",
    "        h = self._hash(key)\n",
    "        \n",
    "        if self.data[h] is None:\n",
    "            self.data[h] = Node(key, value)\n",
    "        else:\n",
    "            node = self.data[h] \n",
    "            prev_node = None\n",
    "            while node is not None:\n",
    "                if node.key == key:\n",
    "                    node.value = value\n",
    "                    return\n",
    "                prev_node = node\n",
    "                node = node.next\n",
    "            prev_node.next = Node(key, value)\n",
    "\n",
    "    def get(self, key: int) -> int:\n",
    "        h = self._hash(key)\n",
    "        node = self.data[h]\n",
    "\n",
    "        while node is not None:\n",
    "            if node.key == key:\n",
    "                return node.value\n",
    "            node = node.next\n",
    "        return -1\n",
    "        \n",
    "\n",
    "    def remove(self, key: int) -> None:\n",
    "        h = self._hash(key)\n",
    "        node = self.data[h]\n",
    "\n",
    "        prev_node = None\n",
    "        while node is not None:\n",
    "            if node.key == key:\n",
    "                if prev_node:\n",
    "                    prev_node.next = node.next\n",
    "                else:\n",
    "                    self.data[h] = node.next\n",
    "                del node\n",
    "                break\n",
    "            prev_node = node\n",
    "            node = node.next\n",
    "        return None\n",
    "        \n",
    "\n",
    "\n",
    "# Your MyHashMap object will be instantiated and called as such:\n",
    "obj = MyHashMap()\n",
    "for i in range(10):\n",
    "    k = i%25\n",
    "    obj.put(k,i)\n",
    "    print(k, obj.data)\n",
    "    obj.remove(2)\n",
    "    obj.remove(12)\n",
    "    obj.remove(22)"
   ]
  },
  {
   "cell_type": "code",
   "execution_count": 78,
   "metadata": {},
   "outputs": [
    {
     "name": "stdout",
     "output_type": "stream",
     "text": [
      "[None, 1:1 > None, None, None, None, None, None, None, None, None]\n",
      "[None, 1:1 > None, 2:2 > None, None, None, None, None, None, None, None]\n",
      "[None, 1:1 > None, 2:2 > None, None, None, None, None, None, None, None]\n",
      "[None, 1:1 > None, 2:2 > None, None, None, None, None, None, None, None]\n",
      "[None, 1:1 > None, 2:1 > None, None, None, None, None, None, None, None]\n",
      "[None, 1:1 > None, 2:1 > None, None, None, None, None, None, None, None]\n",
      "[None, 1:1 > None, None, None, None, None, None, None, None, None]\n",
      "[None, 1:1 > None, None, None, None, None, None, None, None, None]\n"
     ]
    },
    {
     "data": {
      "text/plain": [
       "[None, None, 1, -1, None, 1, None, -1]"
      ]
     },
     "execution_count": 78,
     "metadata": {},
     "output_type": "execute_result"
    }
   ],
   "source": [
    "cmds = [\"put\",\"put\",\"get\",\"get\",\"put\",\"get\",\"remove\",\"get\"]\n",
    "vals = [[1,1],[2,2],[1],[3],[2,1],[2],[2],[2]]\n",
    "\n",
    "obj = MyHashMap()\n",
    "results = []\n",
    "for c,v in zip(cmds, vals):\n",
    "    if c == \"put\":\n",
    "        res = obj.put(v[0],v[1])\n",
    "    elif c == \"get\":\n",
    "        res = obj.get(v[0])\n",
    "    elif c == \"remove\":\n",
    "        res = obj.remove(v[0])\n",
    "    results.append(res)\n",
    "    print(obj.data)\n",
    "results"
   ]
  },
  {
   "cell_type": "code",
   "execution_count": 42,
   "metadata": {},
   "outputs": [
    {
     "data": {
      "text/plain": [
       "[None, 1:0, None, None, None]"
      ]
     },
     "execution_count": 42,
     "metadata": {},
     "output_type": "execute_result"
    }
   ],
   "source": [
    "obj.data"
   ]
  }
 ],
 "metadata": {
  "kernelspec": {
   "display_name": "Python 3",
   "language": "python",
   "name": "python3"
  },
  "language_info": {
   "codemirror_mode": {
    "name": "ipython",
    "version": 3
   },
   "file_extension": ".py",
   "mimetype": "text/x-python",
   "name": "python",
   "nbconvert_exporter": "python",
   "pygments_lexer": "ipython3",
   "version": "3.7.3"
  }
 },
 "nbformat": 4,
 "nbformat_minor": 2
}
