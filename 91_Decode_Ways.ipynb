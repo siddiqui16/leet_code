{
  "nbformat": 4,
  "nbformat_minor": 0,
  "metadata": {
    "colab": {
      "name": "91. Decode Ways.ipynb",
      "provenance": [],
      "authorship_tag": "ABX9TyPvX21McILl4qHjbDINisWb",
      "include_colab_link": true
    },
    "kernelspec": {
      "name": "python3",
      "display_name": "Python 3"
    },
    "language_info": {
      "name": "python"
    }
  },
  "cells": [
    {
      "cell_type": "markdown",
      "metadata": {
        "id": "view-in-github",
        "colab_type": "text"
      },
      "source": [
        "<a href=\"https://colab.research.google.com/github/siddiqui16/leet_code/blob/colab/91_Decode_Ways.ipynb\" target=\"_parent\"><img src=\"https://colab.research.google.com/assets/colab-badge.svg\" alt=\"Open In Colab\"/></a>"
      ]
    },
    {
      "cell_type": "markdown",
      "source": [
        "[https://leetcode.com/problems/decode-ways/]"
      ],
      "metadata": {
        "id": "5GLgSa-w278f"
      }
    },
    {
      "cell_type": "code",
      "execution_count": null,
      "metadata": {
        "id": "My2MUnrI219l"
      },
      "outputs": [],
      "source": [
        "KEYS = set([f\"{i}\" for i in range(1,27)])\n",
        "\n",
        "class Solution:\n",
        "    m = {}\n",
        "    def numDecodings(self, s: str) -> int:\n",
        "        n = len(s)\n",
        "        count = 0\n",
        "        if n == 0:\n",
        "            count = 1\n",
        "        elif n == 1 and s in KEYS:\n",
        "            count = 1\n",
        "        else:\n",
        "            s_ = s[0]\n",
        "            if s_ in KEYS:\n",
        "                if s[1:] not in self.m:\n",
        "                    self.m[s[1:]] = self.numDecodings(s[1:])\n",
        "                count += self.m[s[1:]]\n",
        "            s_ = s[:2]\n",
        "            if s_ in KEYS:\n",
        "                if s[2:] not in self.m:\n",
        "                    self.m[s[2:]] = self.numDecodings(s[2:])\n",
        "                count += self.m[s[2:]]\n",
        "        return count\n",
        "        "
      ]
    }
  ]
}