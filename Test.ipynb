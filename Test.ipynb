{
  "nbformat": 4,
  "nbformat_minor": 0,
  "metadata": {
    "colab": {
      "name": "Test.ipynb",
      "provenance": [],
      "toc_visible": true,
      "authorship_tag": "ABX9TyOyz6RztodoJPYwDPcQj8Jq",
      "include_colab_link": true
    },
    "kernelspec": {
      "name": "python3",
      "display_name": "Python 3"
    },
    "language_info": {
      "name": "python"
    }
  },
  "cells": [
    {
      "cell_type": "markdown",
      "metadata": {
        "id": "view-in-github",
        "colab_type": "text"
      },
      "source": [
        "<a href=\"https://colab.research.google.com/github/siddiqui16/leet_code/blob/colab/Test.ipynb\" target=\"_parent\"><img src=\"https://colab.research.google.com/assets/colab-badge.svg\" alt=\"Open In Colab\"/></a>"
      ]
    },
    {
      "cell_type": "markdown",
      "source": [
        "# New Section"
      ],
      "metadata": {
        "id": "2-CXIl5moCan"
      }
    },
    {
      "cell_type": "code",
      "source": [
        "list(range(1,100,3))"
      ],
      "metadata": {
        "colab": {
          "base_uri": "https://localhost:8080/"
        },
        "id": "a0Nz4_C0n-Dl",
        "outputId": "9a18ec53-12c9-40bf-dd5a-4988dd869fe5"
      },
      "execution_count": 4,
      "outputs": [
        {
          "output_type": "execute_result",
          "data": {
            "text/plain": [
              "[1,\n",
              " 4,\n",
              " 7,\n",
              " 10,\n",
              " 13,\n",
              " 16,\n",
              " 19,\n",
              " 22,\n",
              " 25,\n",
              " 28,\n",
              " 31,\n",
              " 34,\n",
              " 37,\n",
              " 40,\n",
              " 43,\n",
              " 46,\n",
              " 49,\n",
              " 52,\n",
              " 55,\n",
              " 58,\n",
              " 61,\n",
              " 64,\n",
              " 67,\n",
              " 70,\n",
              " 73,\n",
              " 76,\n",
              " 79,\n",
              " 82,\n",
              " 85,\n",
              " 88,\n",
              " 91,\n",
              " 94,\n",
              " 97]"
            ]
          },
          "metadata": {},
          "execution_count": 4
        }
      ]
    }
  ]
}