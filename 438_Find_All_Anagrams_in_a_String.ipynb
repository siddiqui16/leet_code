{
  "nbformat": 4,
  "nbformat_minor": 0,
  "metadata": {
    "colab": {
      "name": "438. Find All Anagrams in a String.ipynb",
      "provenance": [],
      "collapsed_sections": [],
      "authorship_tag": "ABX9TyMLwxtJ/kYSKZXmMPWt8NJk",
      "include_colab_link": true
    },
    "kernelspec": {
      "name": "python3",
      "display_name": "Python 3"
    },
    "language_info": {
      "name": "python"
    }
  },
  "cells": [
    {
      "cell_type": "markdown",
      "metadata": {
        "id": "view-in-github",
        "colab_type": "text"
      },
      "source": [
        "<a href=\"https://colab.research.google.com/github/siddiqui16/leet_code/blob/colab/438_Find_All_Anagrams_in_a_String.ipynb\" target=\"_parent\"><img src=\"https://colab.research.google.com/assets/colab-badge.svg\" alt=\"Open In Colab\"/></a>"
      ]
    },
    {
      "cell_type": "markdown",
      "source": [
        "[https://leetcode.com/problems/find-all-anagrams-in-a-string/]"
      ],
      "metadata": {
        "id": "nVN3637Ovu2g"
      }
    },
    {
      "cell_type": "code",
      "execution_count": 15,
      "metadata": {
        "colab": {
          "base_uri": "https://localhost:8080/"
        },
        "id": "QypwGEv1vt41",
        "outputId": "8c5d3419-89cb-4e8c-8168-66e343ceaa3a"
      },
      "outputs": [
        {
          "output_type": "stream",
          "name": "stdout",
          "text": [
            "[0, 6] [0, 6]\n",
            "[0, 1, 2] [0, 1, 2]\n"
          ]
        }
      ],
      "source": [
        "class Solution:\n",
        "    def findAnagrams(self, s: str, p: str):\n",
        "      p_ = \"\".join(sorted(p))\n",
        "      pn = len(p)\n",
        "      sn = len(s)\n",
        "\n",
        "      if sn < pn:\n",
        "        return []\n",
        "\n",
        "      r = []\n",
        "      \n",
        "      for i in range(sn-pn+1):\n",
        "        s_ = s[i:i+pn]\n",
        "        if p_ == \"\".join(sorted(s_)):\n",
        "          r.append(i)\n",
        "      return r\n",
        "\n",
        "s = Solution()\n",
        "\n",
        "inputs = [\n",
        "  (\"cbaebabacd\", \"abc\", [0,6]),\n",
        "  (\"abab\", \"ab\", [0,1,2])\n",
        "]\n",
        "\n",
        "for i1, i2, o in inputs:\n",
        "  print(o, s.findAnagrams(i1,i2))"
      ]
    },
    {
      "cell_type": "code",
      "source": [
        "import collections\n",
        "\n",
        "class Solution:\n",
        "    def findAnagrams(self, s: str, p: str):\n",
        "      p_ = collections.Counter(p)\n",
        "      pn = len(p)\n",
        "      sn = len(s)\n",
        "\n",
        "      def compare(A,B):\n",
        "        a = A.keys()\n",
        "        b = B.keys()\n",
        "\n",
        "        if not len(set(a).intersection(set(b))) == len(a) == len(b):\n",
        "          return False\n",
        "\n",
        "        for k in a:\n",
        "          if A[k] != B[k]:\n",
        "            return False\n",
        "        return True\n",
        "\n",
        "      if sn < pn:\n",
        "        return []\n",
        "\n",
        "      r = []\n",
        "      sw = collections.Counter(s[:pn-1])\n",
        "      for i, vi in enumerate(s[pn-1:]):\n",
        "        if vi not in sw:\n",
        "          sw[vi] = 0\n",
        "        sw[vi]+=1\n",
        "\n",
        "        if compare(sw,p_):\n",
        "          r.append(i)\n",
        "\n",
        "        v0 = s[i]\n",
        "        if sw[v0] == 1:\n",
        "          del sw[v0]\n",
        "        else:\n",
        "          sw[v0]-=1\n",
        "\n",
        "      return r\n",
        "\n",
        "s = Solution()\n",
        "\n",
        "inputs = [\n",
        "  (\"cbaebabacd\", \"abc\", [0,6]),\n",
        "  (\"abab\", \"ab\", [0,1,2])\n",
        "]\n",
        "\n",
        "for i1, i2, o in inputs:\n",
        "  print(o, s.findAnagrams(i1,i2))"
      ],
      "metadata": {
        "colab": {
          "base_uri": "https://localhost:8080/"
        },
        "id": "wzdZn2Q6y4ts",
        "outputId": "3c84ae4a-96b3-4735-abb4-74d87141804e"
      },
      "execution_count": 37,
      "outputs": [
        {
          "output_type": "stream",
          "name": "stdout",
          "text": [
            "[0, 6] [0, 6]\n",
            "[0, 1, 2] [0, 1, 2]\n"
          ]
        }
      ]
    },
    {
      "cell_type": "code",
      "source": [
        "import collections\n",
        "\n",
        "a = \"cab\"\n",
        "b = \"cabb\"\n",
        "list(a)\n",
        "m = collections.Counter(a)\n",
        "n = collections.Counter(b)\n",
        "set(m).intersection(set(n))"
      ],
      "metadata": {
        "colab": {
          "base_uri": "https://localhost:8080/"
        },
        "id": "lc5iStBcwYpn",
        "outputId": "f2bc01d9-3e05-4dad-a273-6b6710ee056a"
      },
      "execution_count": 23,
      "outputs": [
        {
          "output_type": "execute_result",
          "data": {
            "text/plain": [
              "{'a', 'b', 'c'}"
            ]
          },
          "metadata": {},
          "execution_count": 23
        }
      ]
    }
  ]
}