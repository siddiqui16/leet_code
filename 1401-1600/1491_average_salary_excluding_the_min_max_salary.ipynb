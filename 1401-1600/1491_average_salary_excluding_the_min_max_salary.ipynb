{
  "nbformat": 4,
  "nbformat_minor": 0,
  "metadata": {
    "colab": {
      "name": "1491. Average Salary Excluding the Minimum and Maximum Salary.ipynb",
      "provenance": [],
      "authorship_tag": "ABX9TyPgaRlaCSe9VJkduac8JcCO",
      "include_colab_link": true
    },
    "kernelspec": {
      "name": "python3",
      "display_name": "Python 3"
    },
    "language_info": {
      "name": "python"
    }
  },
  "cells": [
    {
      "cell_type": "markdown",
      "metadata": {
        "id": "view-in-github",
        "colab_type": "text"
      },
      "source": [
        "<a href=\"https://colab.research.google.com/github/siddiqui16/leet_code/blob/colab/1491_Average_Salary_Excluding_the_Minimum_and_Maximum_Salary.ipynb\" target=\"_parent\"><img src=\"https://colab.research.google.com/assets/colab-badge.svg\" alt=\"Open In Colab\"/></a>"
      ]
    },
    {
      "cell_type": "markdown",
      "source": [
        "[https://leetcode.com/problems/average-salary-excluding-the-minimum-and-maximum-salary/]"
      ],
      "metadata": {
        "id": "9Alfanw7whqk"
      }
    },
    {
      "cell_type": "code",
      "execution_count": 4,
      "metadata": {
        "colab": {
          "base_uri": "https://localhost:8080/"
        },
        "id": "nyyFZMWrwfJ9",
        "outputId": "1c7be873-c2a8-45f4-f4cb-56644c354455"
      },
      "outputs": [
        {
          "output_type": "execute_result",
          "data": {
            "text/plain": [
              "2500.0"
            ]
          },
          "metadata": {},
          "execution_count": 4
        }
      ],
      "source": [
        "class Solution(object):\n",
        "    def average(self, salary):\n",
        "        \"\"\"\n",
        "        :type salary: List[int]\n",
        "        :rtype: float\n",
        "        \"\"\"\n",
        "        smin = 1000000\n",
        "        smax = 1000\n",
        "        ssum = 0\n",
        "\n",
        "        for s in salary:\n",
        "          ssum += s\n",
        "\n",
        "          if s < smin:\n",
        "            smin = s\n",
        "          if s > smax:\n",
        "            smax = s\n",
        "\n",
        "        return (ssum - smax - smin)/(len(salary)-2)*1.0\n",
        "\n",
        "s = Solution()\n",
        "\n",
        "s.average(salary = [4000,3000,1000,2000])"
      ]
    }
  ]
}