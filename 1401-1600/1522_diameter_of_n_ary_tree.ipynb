{
  "nbformat": 4,
  "nbformat_minor": 0,
  "metadata": {
    "colab": {
      "name": "1522. Diameter of N-Ary Tree.ipynb",
      "provenance": [],
      "authorship_tag": "ABX9TyPrAsOSbUVM7CMmu2xS43xO",
      "include_colab_link": true
    },
    "kernelspec": {
      "name": "python3",
      "display_name": "Python 3"
    },
    "language_info": {
      "name": "python"
    }
  },
  "cells": [
    {
      "cell_type": "markdown",
      "metadata": {
        "id": "view-in-github",
        "colab_type": "text"
      },
      "source": [
        "<a href=\"https://colab.research.google.com/github/siddiqui16/leet_code/blob/colab/1522_Diameter_of_N_Ary_Tree.ipynb\" target=\"_parent\"><img src=\"https://colab.research.google.com/assets/colab-badge.svg\" alt=\"Open In Colab\"/></a>"
      ]
    },
    {
      "cell_type": "markdown",
      "source": [
        "[https://leetcode.com/problems/diameter-of-n-ary-tree/submissions]"
      ],
      "metadata": {
        "id": "JnVbrD9GRn5o"
      }
    },
    {
      "cell_type": "code",
      "execution_count": null,
      "metadata": {
        "id": "PLIIOpQIRkjr"
      },
      "outputs": [],
      "source": [
        "\"\"\"\n",
        "# Definition for a Node.\n",
        "class Node:\n",
        "    def __init__(self, val=None, children=None):\n",
        "        self.val = val\n",
        "        self.children = children if children is not None else []\n",
        "\"\"\"\n",
        "\n",
        "class Solution:\n",
        "    \n",
        "    def diameter(self, root, l=0) -> int:\n",
        "\n",
        "        h_list = []\n",
        "        d_list = []\n",
        "        for c in root.children:\n",
        "            hc, dc = self.diameter(c, l+1)\n",
        "            h_list += [hc+1]\n",
        "            d_list += [dc]\n",
        "            \n",
        "        if h_list:\n",
        "            h = max(h_list)\n",
        "            d_ = sum(sorted(h_list)[-2:])\n",
        "            d = max(max(d_list), d_)\n",
        "        else:\n",
        "            h = 0\n",
        "            d = 0\n",
        "            \n",
        "        #print(l,root.val,h,d)\n",
        "            \n",
        "        if l==0:\n",
        "            return d\n",
        "        else:\n",
        "            return h,d\n",
        "            \n",
        "            \n",
        "        \n",
        "        \n"
      ]
    }
  ]
}