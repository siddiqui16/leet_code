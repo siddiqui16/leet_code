{
  "nbformat": 4,
  "nbformat_minor": 0,
  "metadata": {
    "colab": {
      "name": "987. Vertical Order Traversal of a Binary Tree.ipynb",
      "provenance": [],
      "authorship_tag": "ABX9TyNYcrahMAY8IgEQYz0J/whv",
      "include_colab_link": true
    },
    "kernelspec": {
      "name": "python3",
      "display_name": "Python 3"
    },
    "language_info": {
      "name": "python"
    }
  },
  "cells": [
    {
      "cell_type": "markdown",
      "metadata": {
        "id": "view-in-github",
        "colab_type": "text"
      },
      "source": [
        "<a href=\"https://colab.research.google.com/github/siddiqui16/leet_code/blob/colab/987_Vertical_Order_Traversal_of_a_Binary_Tree.ipynb\" target=\"_parent\"><img src=\"https://colab.research.google.com/assets/colab-badge.svg\" alt=\"Open In Colab\"/></a>"
      ]
    },
    {
      "cell_type": "markdown",
      "source": [
        "[https://leetcode.com/problems/vertical-order-traversal-of-a-binary-tree]"
      ],
      "metadata": {
        "id": "dM9VzerVO3at"
      }
    },
    {
      "cell_type": "code",
      "execution_count": null,
      "metadata": {
        "id": "tqC1bgxtO0HB"
      },
      "outputs": [],
      "source": [
        "# Definition for a binary tree node.\n",
        "# class TreeNode:\n",
        "#     def __init__(self, val=0, left=None, right=None):\n",
        "#         self.val = val\n",
        "#         self.left = left\n",
        "#         self.right = right\n",
        "from queue import PriorityQueue\n",
        "\n",
        "class Solution:\n",
        "    def verticalTraversal(self, root: Optional[TreeNode]) -> List[List[int]]:\n",
        "        \n",
        "        seed = [(root, 0, 0)]\n",
        "        r = {}\n",
        "        \n",
        "        min_c = 0\n",
        "        max_c = 0\n",
        "        \n",
        "        while seed:\n",
        "            n,h,c = seed.pop(0)\n",
        "            \n",
        "            min_c = min(c, min_c)\n",
        "            max_c = max(c, max_c)\n",
        "            \n",
        "            if c not in r:\n",
        "                r[c] = {}\n",
        "            if h not in r[c]:\n",
        "                r[c][h] = []\n",
        "                \n",
        "            r[c][h].append(n.val)\n",
        "            \n",
        "            if n.left:\n",
        "                seed.append((n.left,h+1,c-1))\n",
        "            if n.right:\n",
        "                seed.append((n.right,h+1,c+1))\n",
        "                \n",
        "        res = []\n",
        "        print(r)\n",
        "        for c in range(min_c, max_c+1):\n",
        "            res_c = []\n",
        "            for h in sorted(r[c]):\n",
        "                res_c.extend(sorted(r[c][h]))\n",
        "            res.append(res_c)\n",
        "                \n",
        "                \n",
        "        print(r)        \n",
        "        return res"
      ]
    }
  ]
}