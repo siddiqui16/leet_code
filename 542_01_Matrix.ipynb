{
  "nbformat": 4,
  "nbformat_minor": 0,
  "metadata": {
    "colab": {
      "name": "542. 01 Matrix.ipynb",
      "provenance": [],
      "authorship_tag": "ABX9TyP+G0c3Nir3ukuqtQqfQbca",
      "include_colab_link": true
    },
    "kernelspec": {
      "name": "python3",
      "display_name": "Python 3"
    },
    "language_info": {
      "name": "python"
    }
  },
  "cells": [
    {
      "cell_type": "markdown",
      "metadata": {
        "id": "view-in-github",
        "colab_type": "text"
      },
      "source": [
        "<a href=\"https://colab.research.google.com/github/siddiqui16/leet_code/blob/colab/542_01_Matrix.ipynb\" target=\"_parent\"><img src=\"https://colab.research.google.com/assets/colab-badge.svg\" alt=\"Open In Colab\"/></a>"
      ]
    },
    {
      "cell_type": "markdown",
      "source": [
        "[https://leetcode.com/problems/01-matrix/]"
      ],
      "metadata": {
        "id": "ykNdP2u_T2yp"
      }
    },
    {
      "cell_type": "code",
      "execution_count": 24,
      "metadata": {
        "colab": {
          "base_uri": "https://localhost:8080/"
        },
        "id": "A5UE55fiT1sT",
        "outputId": "e72fe713-08c5-47b4-cd57-301fe99bfcf7"
      },
      "outputs": [
        {
          "output_type": "stream",
          "name": "stdout",
          "text": [
            "[[0, 0, 0], [0, 1, 0], [0, 0, 0]] [[0, 0, 0], [0, 1, 0], [0, 0, 0]]\n",
            "[[0, 0, 0], [0, 1, 0], [1, 1, 1]] [[0, 0, 0], [0, 1, 0], [1, 2, 1]]\n"
          ]
        }
      ],
      "source": [
        "class Solution:\n",
        "  def updateMatrix(self, mat):\n",
        "    m = len(mat)\n",
        "    n = len(mat[0])\n",
        "\n",
        "    mat = [[i for i in r] for r in mat]\n",
        "\n",
        "    visited = set()\n",
        "    seed = []\n",
        "\n",
        "    for i in range(m):\n",
        "      for j in range(n):\n",
        "        if mat[i][j] == 0:\n",
        "          seed.append((i,j,0))\n",
        "\n",
        "    while seed:\n",
        "      x,y,d = seed.pop(0)\n",
        "\n",
        "      if mat[x][y] == 1:\n",
        "        mat[x][y] = d\n",
        "\n",
        "      for i,j in [(0,1),(1,0),(0,-1),(-1,0)]:\n",
        "        x_,y_ = x+i, y+j\n",
        "\n",
        "        if -1<x_<m and -1<y_<n:\n",
        "          if (x_,y_) not in visited:\n",
        "            seed.append((x_,y_,d+1))\n",
        "            visited.add((x_,y_))\n",
        "    return mat\n",
        "\n",
        "\n",
        "\n",
        "s = Solution()\n",
        "\n",
        "inputs = [\n",
        "  ([[0,0,0],[0,1,0],[0,0,0]]),\n",
        "  ([[0,0,0],[0,1,0],[1,1,1]])\n",
        "]\n",
        "\n",
        "for i in inputs:\n",
        "  print(i, s.updateMatrix(i))"
      ]
    }
  ]
}