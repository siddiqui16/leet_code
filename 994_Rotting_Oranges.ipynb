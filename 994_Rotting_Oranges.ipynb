{
  "nbformat": 4,
  "nbformat_minor": 0,
  "metadata": {
    "colab": {
      "name": "994. Rotting Oranges.ipynb",
      "provenance": [],
      "authorship_tag": "ABX9TyMd8nCG387oGZp1sia+y2a/",
      "include_colab_link": true
    },
    "kernelspec": {
      "name": "python3",
      "display_name": "Python 3"
    },
    "language_info": {
      "name": "python"
    }
  },
  "cells": [
    {
      "cell_type": "markdown",
      "metadata": {
        "id": "view-in-github",
        "colab_type": "text"
      },
      "source": [
        "<a href=\"https://colab.research.google.com/github/siddiqui16/leet_code/blob/colab/994_Rotting_Oranges.ipynb\" target=\"_parent\"><img src=\"https://colab.research.google.com/assets/colab-badge.svg\" alt=\"Open In Colab\"/></a>"
      ]
    },
    {
      "cell_type": "markdown",
      "source": [
        "[https://leetcode.com/problems/rotting-oranges/]"
      ],
      "metadata": {
        "id": "wlxfoj_Z5GA7"
      }
    },
    {
      "cell_type": "code",
      "execution_count": 28,
      "metadata": {
        "colab": {
          "base_uri": "https://localhost:8080/"
        },
        "id": "yF4pJ4Cm5FEb",
        "outputId": "48443999-4321-4799-a619-b68a5bd9a6f5"
      },
      "outputs": [
        {
          "output_type": "stream",
          "name": "stdout",
          "text": [
            "0 (0, 0) > 1 (0, 1)\n",
            "0 (0, 0) > 1 (1, 0)\n",
            "1 (0, 1) > 2 (0, 2)\n",
            "1 (0, 1) > 2 (1, 1)\n",
            "2 (1, 1) > 3 (2, 1)\n",
            "3 (2, 1) > 4 (2, 2)\n",
            "4 4\n",
            "0 (0, 0) > 1 (0, 1)\n",
            "1 (0, 1) > 2 (0, 2)\n",
            "1 (0, 1) > 2 (1, 1)\n",
            "2 (0, 2) > 3 (1, 2)\n",
            "3 (1, 2) > 4 (2, 2)\n",
            "-1 -1\n",
            "0 (0, 1) > 1 (0, 2)\n",
            "0 (0, 1) > 1 (1, 1)\n",
            "1 (0, 2) > 2 (1, 2)\n",
            "2 (1, 2) > 3 (2, 2)\n",
            "-1 -1\n",
            "0 0\n",
            "0 0\n"
          ]
        }
      ],
      "source": [
        "class Solution:\n",
        "    def orangesRotting(self, grid):\n",
        "        m = len(grid)\n",
        "        n = len(grid[0])\n",
        "\n",
        "        seed = []\n",
        "        fresh = set()\n",
        "        visited = set()\n",
        "        max_time = 0\n",
        "\n",
        "        for i in range(m):\n",
        "          for j in range(n):\n",
        "            if grid[i][j] == 1:\n",
        "              fresh.add((i,j))\n",
        "            elif grid[i][j] == 2:\n",
        "              seed.append((i,j,0))\n",
        "        if len(fresh) == 0:\n",
        "          return max_time\n",
        "\n",
        "        while seed:\n",
        "          x,y,t = seed.pop(0)\n",
        "          max_time = max(max_time, t)\n",
        "\n",
        "\n",
        "          for i,j in [(0,1),(1,0),(0,-1),(-1,0)]:\n",
        "            x_,y_ = x+i,y+j\n",
        "\n",
        "            if -1<x_<m and -1<y_<n:\n",
        "              if grid[x_][y_] == 1 and (x_,y_) not in visited:\n",
        "                print(t, (x,y), \">\", t+1, (x_,y_))\n",
        "                seed.append((x_,y_,t+1))\n",
        "                fresh.remove((x_,y_))\n",
        "                visited.add((x_,y_))\n",
        "        return -1 if len(fresh) else max_time\n",
        "\n",
        "s = Solution()\n",
        "\n",
        "inputs = [\n",
        "  ([[2,1,1],[1,1,0],[0,1,1]], 4),\n",
        "  ([[2,1,1],[0,1,1],[1,0,1]], -1),\n",
        "  ([[2,2,1],[0,1,1],[1,0,1]], -1),\n",
        "  ([[2,0,0]], 0),\n",
        "  ([[0,2]], 0)\n",
        "]\n",
        "\n",
        "for i1, o in inputs:\n",
        "  print(o, s.orangesRotting(i1))"
      ]
    }
  ]
}