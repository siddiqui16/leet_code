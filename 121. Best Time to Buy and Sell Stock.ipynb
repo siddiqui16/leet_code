{
 "cells": [
  {
   "cell_type": "markdown",
   "metadata": {},
   "source": [
    "https://leetcode.com/problems/best-time-to-buy-and-sell-stock/"
   ]
  },
  {
   "cell_type": "code",
   "execution_count": 12,
   "metadata": {},
   "outputs": [
    {
     "name": "stdout",
     "output_type": "stream",
     "text": [
      "5 5 [7, 1, 5, 3, 6, 4]\n",
      "0 0 [7, 6, 4, 3, 1]\n"
     ]
    }
   ],
   "source": [
    "class Solution:\n",
    "    def maxProfit(self, prices):\n",
    "        n = len(prices)\n",
    "        dp = [-1] * (n+1)\n",
    "\n",
    "        max_p = min(prices) - max(prices)\n",
    "        for i in range(n):\n",
    "            for j in range(i+1, n):\n",
    "                p = prices[j]-prices[i]\n",
    "                max_p = max(max_p, p)\n",
    "        return max_p if max_p>=0 else 0\n",
    "\n",
    "cases = [\n",
    "    ([7,1,5,3,6,4],5),\n",
    "    ([7,6,4,3,1], 0)\n",
    "]\n",
    "    \n",
    "s = Solution()\n",
    "\n",
    "for i,r in cases:\n",
    "    print(s.maxProfit(i), r, i)"
   ]
  },
  {
   "cell_type": "code",
   "execution_count": 24,
   "metadata": {},
   "outputs": [
    {
     "name": "stdout",
     "output_type": "stream",
     "text": [
      "5 5 [7, 1, 5, 3, 6, 4]\n",
      "0 0 [7, 6, 4, 3, 1]\n"
     ]
    }
   ],
   "source": [
    "class Solution:\n",
    "    def maxProfit(self, prices):\n",
    "        n = len(prices)\n",
    "        dp = [min(prices) - max(prices)] * (n)\n",
    "        \n",
    "        min_p = prices[0]\n",
    "        max_w = 0\n",
    "        for i in range(1,n):\n",
    "            dp[i] = max(dp[i-1], prices[i] - min_p)\n",
    "            min_p = min(min_p, prices[i])\n",
    "        return dp[-1] if dp[-1]>=0 else 0\n",
    "\n",
    "cases = [\n",
    "    ([7,1,5,3,6,4],5),\n",
    "    ([7,6,4,3,1], 0)\n",
    "]\n",
    "    \n",
    "s = Solution()\n",
    "\n",
    "for i,r in cases:\n",
    "    print(s.maxProfit(i), r, i)"
   ]
  }
 ],
 "metadata": {
  "kernelspec": {
   "display_name": "Python 3",
   "language": "python",
   "name": "python3"
  },
  "language_info": {
   "codemirror_mode": {
    "name": "ipython",
    "version": 3
   },
   "file_extension": ".py",
   "mimetype": "text/x-python",
   "name": "python",
   "nbconvert_exporter": "python",
   "pygments_lexer": "ipython3",
   "version": "3.7.3"
  }
 },
 "nbformat": 4,
 "nbformat_minor": 2
}
