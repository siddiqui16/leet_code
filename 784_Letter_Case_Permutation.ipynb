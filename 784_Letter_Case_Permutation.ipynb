{
  "nbformat": 4,
  "nbformat_minor": 0,
  "metadata": {
    "colab": {
      "name": "784. Letter Case Permutation.ipynb",
      "provenance": [],
      "authorship_tag": "ABX9TyOAMXcqkdSBSIKF8SJwx44L",
      "include_colab_link": true
    },
    "kernelspec": {
      "name": "python3",
      "display_name": "Python 3"
    },
    "language_info": {
      "name": "python"
    }
  },
  "cells": [
    {
      "cell_type": "markdown",
      "metadata": {
        "id": "view-in-github",
        "colab_type": "text"
      },
      "source": [
        "<a href=\"https://colab.research.google.com/github/siddiqui16/leet_code/blob/colab/784_Letter_Case_Permutation.ipynb\" target=\"_parent\"><img src=\"https://colab.research.google.com/assets/colab-badge.svg\" alt=\"Open In Colab\"/></a>"
      ]
    },
    {
      "cell_type": "markdown",
      "source": [
        "[https://leetcode.com/problems/letter-case-permutation/]"
      ],
      "metadata": {
        "id": "GTWyS-dgQ_Dt"
      }
    },
    {
      "cell_type": "code",
      "execution_count": 5,
      "metadata": {
        "colab": {
          "base_uri": "https://localhost:8080/"
        },
        "id": "YkYT3g43Ql1i",
        "outputId": "33b9458c-5792-41db-d698-edf3a13e932f"
      },
      "outputs": [
        {
          "output_type": "stream",
          "name": "stdout",
          "text": [
            "2a ['2a', '2A']\n",
            "a1b2 ['a1b2', 'a1B2', 'A1b2', 'A1B2']\n",
            "3z4 ['3z4', '3Z4']\n"
          ]
        }
      ],
      "source": [
        "class Solution:\n",
        "  def letterCasePermutation(self, s: str):\n",
        "    res = []\n",
        "    n = len(s)\n",
        "\n",
        "    v = s[0]\n",
        "    seed = [v] if v.lower() == v.upper() else [v.lower(), v.upper()]\n",
        "\n",
        "    if n == 1:\n",
        "      return seed\n",
        "    else:\n",
        "      r = self.letterCasePermutation(s[1:])\n",
        "      for v_ in seed:\n",
        "        for l in r:\n",
        "          res.append(v_ + l)\n",
        "    return res\n",
        "\n",
        "s = Solution()\n",
        "\n",
        "inputs = [\n",
        "  (\"2a\"),\n",
        "  (\"a1b2\"),\n",
        "  (\"3z4\")\n",
        "]\n",
        "\n",
        "for i in inputs:\n",
        "  print(i, s.letterCasePermutation(i))"
      ]
    }
  ]
}